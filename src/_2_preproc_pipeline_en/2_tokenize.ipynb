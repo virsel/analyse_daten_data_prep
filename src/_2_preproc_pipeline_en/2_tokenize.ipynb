{
 "cells": [
  {
   "cell_type": "code",
   "execution_count": 9,
   "metadata": {
    "ExecuteTime": {
     "end_time": "2024-05-17T13:43:43.596573Z",
     "start_time": "2024-05-17T13:43:43.357760Z"
    }
   },
   "outputs": [],
   "source": [
    "import pandas as pd\n",
    "\n",
    "data_path = \"data_preprocessed/1_txt_cleaning_eu_en.csv\"\n",
    "output_path = \"data_preprocessed/2_tokenize_eu_en.csv\"\n",
    "df = pd.read_csv(data_path)"
   ]
  },
  {
   "cell_type": "code",
   "execution_count": 10,
   "metadata": {
    "ExecuteTime": {
     "end_time": "2024-05-17T13:43:43.609339Z",
     "start_time": "2024-05-17T13:43:43.596573Z"
    }
   },
   "outputs": [
    {
     "name": "stdout",
     "output_type": "stream",
     "text": [
      "<class 'pandas.core.frame.DataFrame'>\n",
      "RangeIndex: 3215 entries, 0 to 3214\n",
      "Data columns (total 3 columns):\n",
      " #   Column         Non-Null Count  Dtype \n",
      "---  ------         --------------  ----- \n",
      " 0   id             3215 non-null   int64 \n",
      " 1   pub_year       3215 non-null   int64 \n",
      " 2   text_preproc1  3215 non-null   object\n",
      "dtypes: int64(2), object(1)\n",
      "memory usage: 75.5+ KB\n"
     ]
    }
   ],
   "source": [
    "df.info()"
   ]
  },
  {
   "cell_type": "code",
   "execution_count": 11,
   "metadata": {
    "ExecuteTime": {
     "end_time": "2024-05-17T13:43:46.132485Z",
     "start_time": "2024-05-17T13:43:43.609339Z"
    }
   },
   "outputs": [],
   "source": [
    "import sys\n",
    "sys.path.append('../..')\n",
    "\n",
    "from src.moduls.pipeline_en import spacy_tokenize"
   ]
  },
  {
   "cell_type": "code",
   "execution_count": 12,
   "metadata": {
    "ExecuteTime": {
     "end_time": "2024-05-17T13:43:54.194566Z",
     "start_time": "2024-05-17T13:43:46.132485Z"
    }
   },
   "outputs": [
    {
     "data": {
      "application/vnd.jupyter.widget-view+json": {
       "model_id": "e66c384082314bfabdd0207000d2d4cc",
       "version_major": 2,
       "version_minor": 0
      },
      "text/plain": [
       "SPACY_TOKENIZE DONE:   0%|          | 0/3215 [00:00<?, ?it/s]"
      ]
     },
     "metadata": {},
     "output_type": "display_data"
    }
   ],
   "source": [
    "from parallel_pandas import ParallelPandas\n",
    "\n",
    "#initialize parallel-pandas\n",
    "ParallelPandas.initialize(n_cpu=10, split_factor=1, disable_pr_bar=False)\n",
    "\n",
    "df['text_preproc2'] = df['text_preproc1'].p_apply(spacy_tokenize)"
   ]
  },
  {
   "cell_type": "code",
   "execution_count": 13,
   "metadata": {
    "ExecuteTime": {
     "end_time": "2024-05-17T13:43:54.210459Z",
     "start_time": "2024-05-17T13:43:54.195436Z"
    }
   },
   "outputs": [
    {
     "data": {
      "text/html": [
       "<div>\n",
       "<style scoped>\n",
       "    .dataframe tbody tr th:only-of-type {\n",
       "        vertical-align: middle;\n",
       "    }\n",
       "\n",
       "    .dataframe tbody tr th {\n",
       "        vertical-align: top;\n",
       "    }\n",
       "\n",
       "    .dataframe thead th {\n",
       "        text-align: right;\n",
       "    }\n",
       "</style>\n",
       "<table border=\"1\" class=\"dataframe\">\n",
       "  <thead>\n",
       "    <tr style=\"text-align: right;\">\n",
       "      <th></th>\n",
       "      <th>text_preproc1</th>\n",
       "      <th>text_preproc2</th>\n",
       "    </tr>\n",
       "  </thead>\n",
       "  <tbody>\n",
       "    <tr>\n",
       "      <th>0</th>\n",
       "      <td>Arrangement of an electrosurgical instrument. A robotic electrosurgical instrument comprising: a shaft, an end effector comprising an electrical component, a first joint permitting the end effector to rotate relative to the shaft about a first axis, a first driving element configured to drive the end effector about a second joint, the passage of the first driving element through the instrument defining a first path that extends at least partially around the first joint, and an electrical cable configured to provide electrical current to the electrical component, the passage of the electrical cable through the instrument defining a second path that is offset from the first path along the first axis and that extends parallel to the first path around the first joint. The purpose of the invention is to improve the configuration of the electrical cable through the electrosurgical instrument to withstand different strains experienced during robotic surgery.</td>\n",
       "      <td>arrangement electrosurgical instrument comprising shaft end effector comprise electrical component joint permit end effector rotate relative shaft axis driving element configure drive end effector second joint passage drive element instrument define path extend joint electrical cable configure provide electrical current electrical component passage electrical cable instrument define second path offset path axis extend parallel path joint purpose invention improve configuration electrical cable electrosurgical instrument withstand different strain experience surgery</td>\n",
       "    </tr>\n",
       "    <tr>\n",
       "      <th>1</th>\n",
       "      <td>Arrangement of an electrosurgical instrument. A robotic electrosurgical instrument comprising: a shaft, an end effector comprising opposing first and second end effector elements, a first joint drivable by a first driving element that is constrained around the first joint, the first joint permitting the end effector to rotate relative to the shaft about a first axis, a second joint permitting the first end effector element to rotate about a second axis that is transverse to both the first axis and the longitudinal axis of the shaft, and an electrical cable configured to provide electrical current to an electrical component of the first end effector element, the electrical cable extending by more than degrees around the second joint such that it rotates about the second joint with the first end effector element. The purpose of the invention is to improve the configuration of the electrical cable through the electrosurgical instrument to withstand different strains.</td>\n",
       "      <td>arrangement electrosurgical instrument comprising shaft end effector comprise oppose second end effector element joint drivable driving element constrain joint permit end effector rotate relative shaft axis second joint permit end effector element rotate second axis transverse axis longitudinal axis shaft electrical cable configure provide electrical current electrical component end effector element electrical cable extend degree second joint rotate second joint end effector element purpose invention improve configuration electrical cable electrosurgical instrument withstand different strain</td>\n",
       "    </tr>\n",
       "    <tr>\n",
       "      <th>2</th>\n",
       "      <td>SEMANTIC AUTOMATION BUILDER FOR ROBOTIC PROCESS AUTOMATION. A method is provided. The method is implemented by a semantic automation builder executed on a processor. The method generating semantic automations of a robotic process automation. The method includes receiving user inputs corresponding to a target application, a written automation task, or steps to identify actions of the robotic process automation. The method also includes mapping each action to an activity to generate mapped activities, transforming the actions into the semantic automations based on the mapped activities, and providing the semantic automations in a user interface of the semantic automation builder to enable editing of the actions.</td>\n",
       "      <td>semantic automation builder process automation method provide method implement semantic automation builder execute processor method generate semantic automation process automation method include receive user input correspond target application write automation task step identify action process automation method include mapping action activity generate mapped activity transform action semantic automation base map activity provide semantic automation user interface semantic automation builder enable editing action</td>\n",
       "    </tr>\n",
       "    <tr>\n",
       "      <th>3</th>\n",
       "      <td>CONTROL METHOD FOR ROBOT SYSTEM AND ROBOT SYSTEM. A control method for a robot system is provided. The robot system includes a robot, a robot control unit that controls an operation of the robot, and a safety monitoring unit that monitors the operation of the robot. The control method includes: a speed reduction control step of causing the robot control unit to perform speed reduction control of the robot, based on a speed reduction command, and an abnormality detection step of causing the safety monitoring unit to acquire an operation speed of the robot at a predetermined interval during the speed reduction control step, and to detect an abnormality in the speed reduction control from a speed change calculated based on the acquired operation speed.</td>\n",
       "      <td>control method system provide system include control unit control operation safety monitoring unit monitor operation control method include speed reduction control step cause control unit perform speed reduction control base speed reduction command abnormality detection step cause safety monitor unit acquire operation speed predetermine interval speed reduction control step detect abnormality speed reduction control speed change calculate base acquire operation speed</td>\n",
       "    </tr>\n",
       "    <tr>\n",
       "      <th>4</th>\n",
       "      <td>MAPPING OBJECTS ENCOUNTERED BY A ROBOTIC GARDEN TOOL. A robotic garden tool includes at least one sensor configured to generate signals associated with an object within an operating area. A first electronic processor of the robotic garden tool receives, from the at least one sensor, an obstacle signal associated with an obstacle located within the operating area. The first electronic processor determines a first location of the robotic garden tool at a time corresponding to when the first electronic processor received the obstacle signal. The first electronic processor determines a second location of the obstacle based on the obstacle signal and the first location of the garden tool. The first electronic processor generates mapping information of the operating area that includes a virtual boundary based on the second location of the obstacle. The first electronic processor controls the robotic garden tool in the operating area to remain outside of the virtual boundary based on the mapping information.</td>\n",
       "      <td>mapping object encountered garden tool include sensor configure generate signal associate object operating area electronic processor garden tool receive sensor obstacle signal associate obstacle locate operating area electronic processor determine location garden tool time correspond electronic processor receive obstacle signal electronic processor determine second location obstacle base obstacle signal location garden tool electronic processor generate mapping information operating area include virtual boundary base second location obstacle electronic processor control garden tool operate area remain virtual boundary base mapping information</td>\n",
       "    </tr>\n",
       "  </tbody>\n",
       "</table>\n",
       "</div>"
      ],
      "text/plain": [
       "                                                                                                                                                                                                                                                                                                                                                                                                                                                                                                                                                                                                                                                                                                                                                                                                                                                                                                                                                                                                                                              text_preproc1  \\\n",
       "0                                                     Arrangement of an electrosurgical instrument. A robotic electrosurgical instrument comprising: a shaft, an end effector comprising an electrical component, a first joint permitting the end effector to rotate relative to the shaft about a first axis, a first driving element configured to drive the end effector about a second joint, the passage of the first driving element through the instrument defining a first path that extends at least partially around the first joint, and an electrical cable configured to provide electrical current to the electrical component, the passage of the electrical cable through the instrument defining a second path that is offset from the first path along the first axis and that extends parallel to the first path around the first joint. The purpose of the invention is to improve the configuration of the electrical cable through the electrosurgical instrument to withstand different strains experienced during robotic surgery.   \n",
       "1                                        Arrangement of an electrosurgical instrument. A robotic electrosurgical instrument comprising: a shaft, an end effector comprising opposing first and second end effector elements, a first joint drivable by a first driving element that is constrained around the first joint, the first joint permitting the end effector to rotate relative to the shaft about a first axis, a second joint permitting the first end effector element to rotate about a second axis that is transverse to both the first axis and the longitudinal axis of the shaft, and an electrical cable configured to provide electrical current to an electrical component of the first end effector element, the electrical cable extending by more than degrees around the second joint such that it rotates about the second joint with the first end effector element. The purpose of the invention is to improve the configuration of the electrical cable through the electrosurgical instrument to withstand different strains.   \n",
       "2                                                                                                                                                                                                                                                                                                           SEMANTIC AUTOMATION BUILDER FOR ROBOTIC PROCESS AUTOMATION. A method is provided. The method is implemented by a semantic automation builder executed on a processor. The method generating semantic automations of a robotic process automation. The method includes receiving user inputs corresponding to a target application, a written automation task, or steps to identify actions of the robotic process automation. The method also includes mapping each action to an activity to generate mapped activities, transforming the actions into the semantic automations based on the mapped activities, and providing the semantic automations in a user interface of the semantic automation builder to enable editing of the actions.   \n",
       "3                                                                                                                                                                                                                                                                   CONTROL METHOD FOR ROBOT SYSTEM AND ROBOT SYSTEM. A control method for a robot system is provided. The robot system includes a robot, a robot control unit that controls an operation of the robot, and a safety monitoring unit that monitors the operation of the robot. The control method includes: a speed reduction control step of causing the robot control unit to perform speed reduction control of the robot, based on a speed reduction command, and an abnormality detection step of causing the safety monitoring unit to acquire an operation speed of the robot at a predetermined interval during the speed reduction control step, and to detect an abnormality in the speed reduction control from a speed change calculated based on the acquired operation speed.   \n",
       "4  MAPPING OBJECTS ENCOUNTERED BY A ROBOTIC GARDEN TOOL. A robotic garden tool includes at least one sensor configured to generate signals associated with an object within an operating area. A first electronic processor of the robotic garden tool receives, from the at least one sensor, an obstacle signal associated with an obstacle located within the operating area. The first electronic processor determines a first location of the robotic garden tool at a time corresponding to when the first electronic processor received the obstacle signal. The first electronic processor determines a second location of the obstacle based on the obstacle signal and the first location of the garden tool. The first electronic processor generates mapping information of the operating area that includes a virtual boundary based on the second location of the obstacle. The first electronic processor controls the robotic garden tool in the operating area to remain outside of the virtual boundary based on the mapping information.   \n",
       "\n",
       "                                                                                                                                                                                                                                                                                                                                                                                                                                                                                                                                                                                                                                                                text_preproc2  \n",
       "0                                                                                 arrangement electrosurgical instrument comprising shaft end effector comprise electrical component joint permit end effector rotate relative shaft axis driving element configure drive end effector second joint passage drive element instrument define path extend joint electrical cable configure provide electrical current electrical component passage electrical cable instrument define second path offset path axis extend parallel path joint purpose invention improve configuration electrical cable electrosurgical instrument withstand different strain experience surgery  \n",
       "1                                                      arrangement electrosurgical instrument comprising shaft end effector comprise oppose second end effector element joint drivable driving element constrain joint permit end effector rotate relative shaft axis second joint permit end effector element rotate second axis transverse axis longitudinal axis shaft electrical cable configure provide electrical current electrical component end effector element electrical cable extend degree second joint rotate second joint end effector element purpose invention improve configuration electrical cable electrosurgical instrument withstand different strain  \n",
       "2                                                                                                                                       semantic automation builder process automation method provide method implement semantic automation builder execute processor method generate semantic automation process automation method include receive user input correspond target application write automation task step identify action process automation method include mapping action activity generate mapped activity transform action semantic automation base map activity provide semantic automation user interface semantic automation builder enable editing action  \n",
       "3                                                                                                                                                                                     control method system provide system include control unit control operation safety monitoring unit monitor operation control method include speed reduction control step cause control unit perform speed reduction control base speed reduction command abnormality detection step cause safety monitor unit acquire operation speed predetermine interval speed reduction control step detect abnormality speed reduction control speed change calculate base acquire operation speed  \n",
       "4  mapping object encountered garden tool include sensor configure generate signal associate object operating area electronic processor garden tool receive sensor obstacle signal associate obstacle locate operating area electronic processor determine location garden tool time correspond electronic processor receive obstacle signal electronic processor determine second location obstacle base obstacle signal location garden tool electronic processor generate mapping information operating area include virtual boundary base second location obstacle electronic processor control garden tool operate area remain virtual boundary base mapping information  "
      ]
     },
     "execution_count": 13,
     "metadata": {},
     "output_type": "execute_result"
    }
   ],
   "source": [
    "pd.set_option('display.max_colwidth', None)\n",
    "df[['text_preproc1', 'text_preproc2']].head()"
   ]
  },
  {
   "cell_type": "code",
   "execution_count": 14,
   "metadata": {
    "ExecuteTime": {
     "end_time": "2024-05-17T13:43:54.225659Z",
     "start_time": "2024-05-17T13:43:54.211461Z"
    }
   },
   "outputs": [
    {
     "name": "stdout",
     "output_type": "stream",
     "text": [
      "<class 'pandas.core.frame.DataFrame'>\n",
      "Int64Index: 0 entries\n",
      "Data columns (total 4 columns):\n",
      " #   Column         Non-Null Count  Dtype \n",
      "---  ------         --------------  ----- \n",
      " 0   id             0 non-null      int64 \n",
      " 1   pub_year       0 non-null      int64 \n",
      " 2   text_preproc1  0 non-null      object\n",
      " 3   text_preproc2  0 non-null      object\n",
      "dtypes: int64(2), object(2)\n",
      "memory usage: 0.0+ bytes\n"
     ]
    }
   ],
   "source": [
    "df[df['text_preproc2'] == ''].info()"
   ]
  },
  {
   "cell_type": "code",
   "execution_count": 15,
   "metadata": {
    "ExecuteTime": {
     "end_time": "2024-05-17T13:43:54.240657Z",
     "start_time": "2024-05-17T13:43:54.226659Z"
    }
   },
   "outputs": [
    {
     "data": {
      "text/plain": [
       "count    3215.000000\n",
       "mean       62.497356\n",
       "std        19.808980\n",
       "min         4.000000\n",
       "25%        50.000000\n",
       "50%        66.000000\n",
       "75%        78.000000\n",
       "max       114.000000\n",
       "Name: text_preproc2, dtype: float64"
      ]
     },
     "execution_count": 15,
     "metadata": {},
     "output_type": "execute_result"
    }
   ],
   "source": [
    "df.text_preproc2.apply(lambda x: len(x.split())).describe()"
   ]
  },
  {
   "cell_type": "code",
   "execution_count": 16,
   "metadata": {
    "ExecuteTime": {
     "end_time": "2024-05-17T13:43:54.271215Z",
     "start_time": "2024-05-17T13:43:54.241657Z"
    }
   },
   "outputs": [],
   "source": [
    "df.drop(columns='text_preproc1').to_csv(output_path, index=False)"
   ]
  }
 ],
 "metadata": {
  "kernelspec": {
   "display_name": "ml_angew_programm",
   "language": "python",
   "name": "python3"
  },
  "language_info": {
   "codemirror_mode": {
    "name": "ipython",
    "version": 3
   },
   "file_extension": ".py",
   "mimetype": "text/x-python",
   "name": "python",
   "nbconvert_exporter": "python",
   "pygments_lexer": "ipython3",
   "version": "3.8.19"
  }
 },
 "nbformat": 4,
 "nbformat_minor": 2
}
