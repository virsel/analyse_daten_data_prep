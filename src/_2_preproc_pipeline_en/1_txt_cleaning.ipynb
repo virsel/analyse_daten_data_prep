{
 "cells": [
  {
   "cell_type": "code",
   "execution_count": 1,
   "metadata": {
    "ExecuteTime": {
     "end_time": "2024-05-17T16:51:46.152789Z",
     "start_time": "2024-05-17T16:51:46.137161Z"
    }
   },
   "outputs": [],
   "source": [
    "import pandas as pd"
   ]
  },
  {
   "cell_type": "code",
   "execution_count": 2,
   "metadata": {
    "ExecuteTime": {
     "end_time": "2024-05-17T16:51:46.170190Z",
     "start_time": "2024-05-17T16:51:46.154227Z"
    }
   },
   "outputs": [],
   "source": [
    "#data = \"../_1_data_prepared_input/us_data_en.csv\"\n",
    "# output = 'data_preprocessed/1_txt_cleaning_eu_en.csv'\n",
    "# data = \"../_1_data_prepared_input/europe_data_en.csv\"\n",
    "data = \"../_1_data_prepared_input/ch_data_en.csv\"\n",
    "output = 'data_preprocessed/1_txt_cleaning_ch_en.csv'"
   ]
  },
  {
   "cell_type": "code",
   "execution_count": 3,
   "metadata": {
    "ExecuteTime": {
     "end_time": "2024-05-17T16:51:46.286718Z",
     "start_time": "2024-05-17T16:51:46.170190Z"
    }
   },
   "outputs": [],
   "source": [
    "df = pd.read_csv(data)"
   ]
  },
  {
   "cell_type": "code",
   "execution_count": 4,
   "metadata": {
    "ExecuteTime": {
     "end_time": "2024-05-17T16:51:46.303870Z",
     "start_time": "2024-05-17T16:51:46.287117Z"
    }
   },
   "outputs": [
    {
     "name": "stdout",
     "output_type": "stream",
     "text": [
      "<class 'pandas.core.frame.DataFrame'>\n",
      "RangeIndex: 24992 entries, 0 to 24991\n",
      "Data columns (total 3 columns):\n",
      " #   Column    Non-Null Count  Dtype \n",
      "---  ------    --------------  ----- \n",
      " 0   id        24992 non-null  object\n",
      " 1   pub_year  24992 non-null  int64 \n",
      " 2   text      24992 non-null  object\n",
      "dtypes: int64(1), object(2)\n",
      "memory usage: 585.9+ KB\n"
     ]
    }
   ],
   "source": [
    "df.info()"
   ]
  },
  {
   "cell_type": "code",
   "execution_count": 5,
   "metadata": {
    "ExecuteTime": {
     "end_time": "2024-05-17T16:51:46.320335Z",
     "start_time": "2024-05-17T16:51:46.303870Z"
    }
   },
   "outputs": [
    {
     "data": {
      "text/plain": [
       "2023    39.956786\n",
       "2022    39.896767\n",
       "2024    20.146447\n",
       "Name: pub_year, dtype: float64"
      ]
     },
     "execution_count": 5,
     "metadata": {},
     "output_type": "execute_result"
    }
   ],
   "source": [
    "df.pub_year.value_counts() / len(df) *100"
   ]
  },
  {
   "cell_type": "code",
   "execution_count": 6,
   "metadata": {
    "ExecuteTime": {
     "end_time": "2024-05-17T16:51:46.335962Z",
     "start_time": "2024-05-17T16:51:46.320335Z"
    }
   },
   "outputs": [],
   "source": [
    "df = df[df.pub_year.isin(range(2022, 2025))]"
   ]
  },
  {
   "cell_type": "code",
   "execution_count": 7,
   "metadata": {
    "ExecuteTime": {
     "end_time": "2024-05-17T16:51:46.353682Z",
     "start_time": "2024-05-17T16:51:46.337010Z"
    }
   },
   "outputs": [],
   "source": [
    "import sys\n",
    "sys.path.append('../..')\n",
    "\n",
    "from src.moduls.pipeline_en import txt_cleaning"
   ]
  },
  {
   "cell_type": "code",
   "execution_count": 8,
   "metadata": {
    "ExecuteTime": {
     "end_time": "2024-05-17T16:51:50.259567Z",
     "start_time": "2024-05-17T16:51:46.353998Z"
    }
   },
   "outputs": [
    {
     "data": {
      "application/vnd.jupyter.widget-view+json": {
       "model_id": "09d07cb8e66d4de3a118c1ddd365dff2",
       "version_major": 2,
       "version_minor": 0
      },
      "text/plain": [
       "TXT_CLEANING DONE:   0%|          | 0/24992 [00:00<?, ?it/s]"
      ]
     },
     "metadata": {},
     "output_type": "display_data"
    }
   ],
   "source": [
    "from parallel_pandas import ParallelPandas\n",
    "#initialize parallel-pandas\n",
    "ParallelPandas.initialize(n_cpu=12, split_factor=12, disable_pr_bar=False)\n",
    "df['text_preproc1'] = df['text'].p_apply(txt_cleaning)"
   ]
  },
  {
   "cell_type": "code",
   "execution_count": 9,
   "metadata": {
    "ExecuteTime": {
     "end_time": "2024-05-17T16:51:50.271870Z",
     "start_time": "2024-05-17T16:51:50.260542Z"
    }
   },
   "outputs": [
    {
     "data": {
      "text/html": [
       "<div>\n",
       "<style scoped>\n",
       "    .dataframe tbody tr th:only-of-type {\n",
       "        vertical-align: middle;\n",
       "    }\n",
       "\n",
       "    .dataframe tbody tr th {\n",
       "        vertical-align: top;\n",
       "    }\n",
       "\n",
       "    .dataframe thead th {\n",
       "        text-align: right;\n",
       "    }\n",
       "</style>\n",
       "<table border=\"1\" class=\"dataframe\">\n",
       "  <thead>\n",
       "    <tr style=\"text-align: right;\">\n",
       "      <th></th>\n",
       "      <th>text</th>\n",
       "      <th>text_preproc1</th>\n",
       "    </tr>\n",
       "  </thead>\n",
       "  <tbody>\n",
       "    <tr>\n",
       "      <th>17758</th>\n",
       "      <td>Blind guiding robot system. The invention discloses a blind guiding robot system, which comprises a mapping and positioning system, a state estimation system, a motion planning system and a motion control system, and is characterized in that the mapping and positioning system transmits an established grid map to the motion planning system and transmits coordinates of a robot and a user to the state estimation system; the state estimation system transmits state estimation values of coordinates of the robot and the user to the motion planning system; and the motion planning system solves a control variable of the system by using the grid map and the state estimation value, and transmits the control variable to the motion control system. According to the invention, a real-time path from the current positions of the user and the robot to the target position can be planned in a complex environment, and the force acting on the human body and the movement speed of the robot can be planned, so that the user is safely ...</td>\n",
       "      <td>Blind guiding robot system. The invention discloses a blind guiding robot system, which comprises a mapping and positioning system, a state estimation system, a motion planning system and a motion control system, and is characterized in that the mapping and positioning system transmits an established grid map to the motion planning system and transmits coordinates of a robot and a user to the state estimation system, the state estimation system transmits state estimation values of coordinates of the robot and the user to the motion planning system, and the motion planning system solves a control variable of the system by using the grid map and the state estimation value, and transmits the control variable to the motion control system. According to the invention, a real time path from the current positions of the user and the robot to the target position can be planned in a complex environment, and the force acting on the human body and the movement speed of the robot can be planned, so that the user is safely.</td>\n",
       "    </tr>\n",
       "    <tr>\n",
       "      <th>20651</th>\n",
       "      <td>Intelligent robot protection shell with anti-collision function. The utility model discloses an anti-collision intelligent robot protective shell in the field of robot protective equipment, which comprises a robot body, the surface of the robot body is sleeved with a shell, the surface of the shell is provided with eight placing grooves which are distributed at equal intervals, one side of each placing groove is fixedly connected with a first spring, and the other side of each placing groove is fixedly connected with a second spring. One end of the first spring is fixedly connected with the inner wall of the placing groove, and a movable block is arranged in the placing groove. One side of a baffle is impacted by external force to move, the baffle drives a second fixing block, a first connecting rod and a first fixing block to move while moving, the first fixing block drives a movable block to move and a first spring to stretch out and draw back while moving, and the baffle also drives a movable rod to move and a second spring to stretch out ...</td>\n",
       "      <td>Intelligent robot protection shell with anti collision function. The utility model discloses an anti collision intelligent robot protective shell in the field of robot protective equipment, which comprises a robot body, the surface of the robot body is sleeved with a shell, the surface of the shell is provided with eight placing grooves which are distributed at equal intervals, one side of each placing groove is fixedly connected with a first spring, and the other side of each placing groove is fixedly connected with a second spring. One end of the first spring is fixedly connected with the inner wall of the placing groove, and a movable block is arranged in the placing groove. One side of a baffle is impacted by external force to move, the baffle drives a second fixing block, a first connecting rod and a first fixing block to move while moving, the first fixing block drives a movable block to move and a first spring to stretch out and draw back while moving, and the baffle also drives a movable rod to move and a second spring to stretch out.</td>\n",
       "    </tr>\n",
       "    <tr>\n",
       "      <th>322</th>\n",
       "      <td>Pulse positioning model training method, electronic equipment and storage medium. The invention relates to the technical field of pulse diagnosis robots, and particularly provides a pulse positioning model training method, electronic equipment and a storage medium, and the method comprises the following steps: obtaining initial pulse position information according to wrist image information; the mechanical arm is controlled to move to the position above the initial pulse position information based on the initial pulse position information, and wrist ultrasonic image information is obtained; obtaining a real value of radial artery position information based on a pre-trained artery positioning model and the wrist ultrasonic image information; marking a pulse position true value in the wrist image information based on the radial artery position information true value; training a pulse positioning model by using the marked wrist image information; according to the method, the prediction precision of the pulse positioning model can be effectively improved, and the ...</td>\n",
       "      <td>Pulse positioning model training method, electronic equipment and storage medium. The invention relates to the technical field of pulse diagnosis robots, and particularly provides a pulse positioning model training method, electronic equipment and a storage medium, and the method comprises the following steps: obtaining initial pulse position information according to wrist image information, the mechanical arm is controlled to move to the position above the initial pulse position information based on the initial pulse position information, and wrist ultrasonic image information is obtained, obtaining a real value of radial artery position information based on a pre trained artery positioning model and the wrist ultrasonic image information, marking a pulse position true value in the wrist image information based on the radial artery position information true value, training a pulse positioning model by using the marked wrist image information, according to the method, the prediction precision of the pulse positioning model can be effectively improved, and the.</td>\n",
       "    </tr>\n",
       "  </tbody>\n",
       "</table>\n",
       "</div>"
      ],
      "text/plain": [
       "                                                                                                                                                                                                                                                                                                                                                                                                                                                                                                                                                                                                                                                                                                                                                                                                                                                                                                                                                                                                                                                                                                                          text  \\\n",
       "17758                                                     Blind guiding robot system. The invention discloses a blind guiding robot system, which comprises a mapping and positioning system, a state estimation system, a motion planning system and a motion control system, and is characterized in that the mapping and positioning system transmits an established grid map to the motion planning system and transmits coordinates of a robot and a user to the state estimation system; the state estimation system transmits state estimation values of coordinates of the robot and the user to the motion planning system; and the motion planning system solves a control variable of the system by using the grid map and the state estimation value, and transmits the control variable to the motion control system. According to the invention, a real-time path from the current positions of the user and the robot to the target position can be planned in a complex environment, and the force acting on the human body and the movement speed of the robot can be planned, so that the user is safely ...   \n",
       "20651                    Intelligent robot protection shell with anti-collision function. The utility model discloses an anti-collision intelligent robot protective shell in the field of robot protective equipment, which comprises a robot body, the surface of the robot body is sleeved with a shell, the surface of the shell is provided with eight placing grooves which are distributed at equal intervals, one side of each placing groove is fixedly connected with a first spring, and the other side of each placing groove is fixedly connected with a second spring. One end of the first spring is fixedly connected with the inner wall of the placing groove, and a movable block is arranged in the placing groove. One side of a baffle is impacted by external force to move, the baffle drives a second fixing block, a first connecting rod and a first fixing block to move while moving, the first fixing block drives a movable block to move and a first spring to stretch out and draw back while moving, and the baffle also drives a movable rod to move and a second spring to stretch out ...   \n",
       "322    Pulse positioning model training method, electronic equipment and storage medium. The invention relates to the technical field of pulse diagnosis robots, and particularly provides a pulse positioning model training method, electronic equipment and a storage medium, and the method comprises the following steps: obtaining initial pulse position information according to wrist image information; the mechanical arm is controlled to move to the position above the initial pulse position information based on the initial pulse position information, and wrist ultrasonic image information is obtained; obtaining a real value of radial artery position information based on a pre-trained artery positioning model and the wrist ultrasonic image information; marking a pulse position true value in the wrist image information based on the radial artery position information true value; training a pulse positioning model by using the marked wrist image information; according to the method, the prediction precision of the pulse positioning model can be effectively improved, and the ...   \n",
       "\n",
       "                                                                                                                                                                                                                                                                                                                                                                                                                                                                                                                                                                                                                                                                                                                                                                                                                                                                                                                                                                                                                                                                                                              text_preproc1  \n",
       "17758                                                     Blind guiding robot system. The invention discloses a blind guiding robot system, which comprises a mapping and positioning system, a state estimation system, a motion planning system and a motion control system, and is characterized in that the mapping and positioning system transmits an established grid map to the motion planning system and transmits coordinates of a robot and a user to the state estimation system, the state estimation system transmits state estimation values of coordinates of the robot and the user to the motion planning system, and the motion planning system solves a control variable of the system by using the grid map and the state estimation value, and transmits the control variable to the motion control system. According to the invention, a real time path from the current positions of the user and the robot to the target position can be planned in a complex environment, and the force acting on the human body and the movement speed of the robot can be planned, so that the user is safely.  \n",
       "20651                    Intelligent robot protection shell with anti collision function. The utility model discloses an anti collision intelligent robot protective shell in the field of robot protective equipment, which comprises a robot body, the surface of the robot body is sleeved with a shell, the surface of the shell is provided with eight placing grooves which are distributed at equal intervals, one side of each placing groove is fixedly connected with a first spring, and the other side of each placing groove is fixedly connected with a second spring. One end of the first spring is fixedly connected with the inner wall of the placing groove, and a movable block is arranged in the placing groove. One side of a baffle is impacted by external force to move, the baffle drives a second fixing block, a first connecting rod and a first fixing block to move while moving, the first fixing block drives a movable block to move and a first spring to stretch out and draw back while moving, and the baffle also drives a movable rod to move and a second spring to stretch out.  \n",
       "322    Pulse positioning model training method, electronic equipment and storage medium. The invention relates to the technical field of pulse diagnosis robots, and particularly provides a pulse positioning model training method, electronic equipment and a storage medium, and the method comprises the following steps: obtaining initial pulse position information according to wrist image information, the mechanical arm is controlled to move to the position above the initial pulse position information based on the initial pulse position information, and wrist ultrasonic image information is obtained, obtaining a real value of radial artery position information based on a pre trained artery positioning model and the wrist ultrasonic image information, marking a pulse position true value in the wrist image information based on the radial artery position information true value, training a pulse positioning model by using the marked wrist image information, according to the method, the prediction precision of the pulse positioning model can be effectively improved, and the.  "
      ]
     },
     "execution_count": 9,
     "metadata": {},
     "output_type": "execute_result"
    }
   ],
   "source": [
    "pd.set_option('display.max_colwidth', None)\n",
    "df[['text', 'text_preproc1']].sample(3)"
   ]
  },
  {
   "cell_type": "code",
   "execution_count": 10,
   "metadata": {
    "ExecuteTime": {
     "end_time": "2024-05-17T16:51:50.287899Z",
     "start_time": "2024-05-17T16:51:50.272901Z"
    }
   },
   "outputs": [
    {
     "name": "stdout",
     "output_type": "stream",
     "text": [
      "<class 'pandas.core.frame.DataFrame'>\n",
      "Int64Index: 0 entries\n",
      "Data columns (total 4 columns):\n",
      " #   Column         Non-Null Count  Dtype \n",
      "---  ------         --------------  ----- \n",
      " 0   id             0 non-null      object\n",
      " 1   pub_year       0 non-null      int64 \n",
      " 2   text           0 non-null      object\n",
      " 3   text_preproc1  0 non-null      object\n",
      "dtypes: int64(1), object(3)\n",
      "memory usage: 0.0+ bytes\n"
     ]
    }
   ],
   "source": [
    "df[df['text_preproc1'] == ''].info()"
   ]
  },
  {
   "cell_type": "code",
   "execution_count": 11,
   "metadata": {
    "ExecuteTime": {
     "end_time": "2024-05-17T16:51:50.334002Z",
     "start_time": "2024-05-17T16:51:50.288786Z"
    }
   },
   "outputs": [],
   "source": [
    "df.drop(columns='text').to_csv(output, index=False)"
   ]
  }
 ],
 "metadata": {
  "kernelspec": {
   "display_name": "Python 3",
   "language": "python",
   "name": "python3"
  },
  "language_info": {
   "codemirror_mode": {
    "name": "ipython",
    "version": 3
   },
   "file_extension": ".py",
   "mimetype": "text/x-python",
   "name": "python",
   "nbconvert_exporter": "python",
   "pygments_lexer": "ipython3",
   "version": "3.8.19"
  }
 },
 "nbformat": 4,
 "nbformat_minor": 2
}
