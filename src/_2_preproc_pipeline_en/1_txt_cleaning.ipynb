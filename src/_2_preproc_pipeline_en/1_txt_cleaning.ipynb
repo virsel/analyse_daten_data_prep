{
 "cells": [
  {
   "cell_type": "code",
   "execution_count": 9,
   "metadata": {
    "ExecuteTime": {
     "end_time": "2024-05-17T15:02:36.035026Z",
     "start_time": "2024-05-17T15:02:35.816693Z"
    }
   },
   "outputs": [],
   "source": [
    "import pandas as pd"
   ]
  },
  {
   "cell_type": "code",
   "execution_count": 10,
   "metadata": {
    "ExecuteTime": {
     "end_time": "2024-05-17T15:02:36.051032Z",
     "start_time": "2024-05-17T15:02:36.035026Z"
    }
   },
   "outputs": [],
   "source": [
    "#data = \"../_1_data_prepared_input/us_data_en.csv\"\n",
    "data = \"../_1_data_prepared_input/europe_data_en.csv\"\n",
    "output = 'data_preprocessed/1_txt_cleaning_eu_en.csv'"
   ]
  },
  {
   "cell_type": "code",
   "execution_count": 11,
   "metadata": {
    "ExecuteTime": {
     "end_time": "2024-05-17T15:02:36.113536Z",
     "start_time": "2024-05-17T15:02:36.051032Z"
    }
   },
   "outputs": [],
   "source": [
    "df = pd.read_csv(data)"
   ]
  },
  {
   "cell_type": "code",
   "execution_count": 12,
   "metadata": {
    "ExecuteTime": {
     "end_time": "2024-05-17T15:02:36.133043Z",
     "start_time": "2024-05-17T15:02:36.113536Z"
    }
   },
   "outputs": [
    {
     "name": "stdout",
     "output_type": "stream",
     "text": [
      "<class 'pandas.core.frame.DataFrame'>\n",
      "RangeIndex: 3215 entries, 0 to 3214\n",
      "Data columns (total 3 columns):\n",
      " #   Column    Non-Null Count  Dtype \n",
      "---  ------    --------------  ----- \n",
      " 0   id        3215 non-null   int64 \n",
      " 1   pub_year  3215 non-null   int64 \n",
      " 2   text      3215 non-null   object\n",
      "dtypes: int64(2), object(1)\n",
      "memory usage: 75.5+ KB\n"
     ]
    }
   ],
   "source": [
    "df.info()"
   ]
  },
  {
   "cell_type": "code",
   "execution_count": 13,
   "metadata": {
    "ExecuteTime": {
     "end_time": "2024-05-17T15:02:36.148668Z",
     "start_time": "2024-05-17T15:02:36.133043Z"
    }
   },
   "outputs": [
    {
     "data": {
      "text/plain": [
       "2023    44.416796\n",
       "2022    40.715397\n",
       "2024    14.867807\n",
       "Name: pub_year, dtype: float64"
      ]
     },
     "execution_count": 13,
     "metadata": {},
     "output_type": "execute_result"
    }
   ],
   "source": [
    "df.pub_year.value_counts() / len(df) *100"
   ]
  },
  {
   "cell_type": "code",
   "execution_count": 14,
   "metadata": {
    "ExecuteTime": {
     "end_time": "2024-05-17T15:02:36.157524Z",
     "start_time": "2024-05-17T15:02:36.149171Z"
    }
   },
   "outputs": [],
   "source": [
    "df = df[df.pub_year.isin(range(2022, 2025))]"
   ]
  },
  {
   "cell_type": "code",
   "execution_count": 15,
   "metadata": {
    "ExecuteTime": {
     "end_time": "2024-05-17T15:04:16.187976Z",
     "start_time": "2024-05-17T15:04:15.920023Z"
    }
   },
   "outputs": [],
   "source": [
    "import sys\n",
    "sys.path.append('../..')\n",
    "\n",
    "from src.moduls.pipeline_en import txt_cleaning"
   ]
  },
  {
   "cell_type": "code",
   "execution_count": 16,
   "metadata": {
    "ExecuteTime": {
     "end_time": "2024-05-17T15:04:20.598316Z",
     "start_time": "2024-05-17T15:04:16.187976Z"
    }
   },
   "outputs": [
    {
     "data": {
      "application/vnd.jupyter.widget-view+json": {
       "model_id": "6bbcd0271a6b4df08ced5b56995b08e7",
       "version_major": 2,
       "version_minor": 0
      },
      "text/plain": [
       "TXT_CLEANING DONE:   0%|          | 0/3215 [00:00<?, ?it/s]"
      ]
     },
     "metadata": {},
     "output_type": "display_data"
    }
   ],
   "source": [
    "from parallel_pandas import ParallelPandas\n",
    "#initialize parallel-pandas\n",
    "ParallelPandas.initialize(n_cpu=12, split_factor=12, disable_pr_bar=False)\n",
    "df['text_preproc1'] = df['text'].p_apply(txt_cleaning)"
   ]
  },
  {
   "cell_type": "code",
   "execution_count": 17,
   "metadata": {
    "ExecuteTime": {
     "end_time": "2024-05-17T15:04:20.629316Z",
     "start_time": "2024-05-17T15:04:20.614316Z"
    }
   },
   "outputs": [
    {
     "data": {
      "text/html": [
       "<div>\n",
       "<style scoped>\n",
       "    .dataframe tbody tr th:only-of-type {\n",
       "        vertical-align: middle;\n",
       "    }\n",
       "\n",
       "    .dataframe tbody tr th {\n",
       "        vertical-align: top;\n",
       "    }\n",
       "\n",
       "    .dataframe thead th {\n",
       "        text-align: right;\n",
       "    }\n",
       "</style>\n",
       "<table border=\"1\" class=\"dataframe\">\n",
       "  <thead>\n",
       "    <tr style=\"text-align: right;\">\n",
       "      <th></th>\n",
       "      <th>text</th>\n",
       "      <th>text_preproc1</th>\n",
       "    </tr>\n",
       "  </thead>\n",
       "  <tbody>\n",
       "    <tr>\n",
       "      <th>1004</th>\n",
       "      <td>ARTICULATION ASSEMBLY FOR ROBOTIC DEVICE. An articulating electrosurgical instrument includes a housing having an elongated shaft extending therefrom and a wrist assembly operably supported to a distal end of the elongated shaft and configured to support an end effector assembly at distal end thereof. The wrist assembly includes a proximal link operably coupled to the distal end of the elongated shaft, a distal link operably coupled to the end effector assembly, and a central link operably coupled between the proximal link and the distal link. A transition lumen is configured to be received within the distal link, central link and proximal link. The transition lumen includes a helical passageway defined therein configured to guide a blade rod therethrough for operable engagement with a blade disposed within the end effector assembly.</td>\n",
       "      <td>ARTICULATION ASSEMBLY FOR ROBOTIC DEVICE. An articulating electrosurgical instrument includes a housing having an elongated shaft extending therefrom and a wrist assembly operably supported to a distal end of the elongated shaft and configured to support an end effector assembly at distal end thereof. The wrist assembly includes a proximal link operably coupled to the distal end of the elongated shaft, a distal link operably coupled to the end effector assembly, and a central link operably coupled between the proximal link and the distal link. A transition lumen is configured to be received within the distal link, central link and proximal link. The transition lumen includes a helical passageway defined therein configured to guide a blade rod therethrough for operable engagement with a blade disposed within the end effector assembly.</td>\n",
       "    </tr>\n",
       "    <tr>\n",
       "      <th>2303</th>\n",
       "      <td>INFORMATION PROCESSING APPARATUS, ROBOT SYSTEM, INFORMATION PROCESSING .... An information processing apparatus includes an information processing portion (311) configured to simulate behavior of a virtual robot (100A) and a virtual workpiece (W11A) in a virtual environment. The information processing portion (311) is configured to set a linking condition (trsfl) for linking the virtual workpiece (W11A) with a predetermined portion of the virtual robot (100A).</td>\n",
       "      <td>INFORMATION PROCESSING APPARATUS, ROBOT SYSTEM, INFORMATION PROCESSING. An information processing apparatus includes an information processing portion configured to simulate behavior of a virtual robot and a virtual workpiece in a virtual environment. The information processing portion is configured to set a linking condition for linking the virtual workpiece with a predetermined portion of the virtual robot.</td>\n",
       "    </tr>\n",
       "    <tr>\n",
       "      <th>2717</th>\n",
       "      <td>Intelligent filling system of the deposit of a cleaning and/or disinfection and method to operate it (Machine-translation by Google Translate, not legally binding). Intelligent tank filling detection system for a cleaning and/or disinfection apparatus and associated method, which includes, at least, a cleaning and/or disinfection robot that, in turn, includes: a body; an electric motor; rotational speed measurement means; intensity measurement means supplied to the electric motor; and waste storage media, characterized in that, at least, the physical variable of the engine is the electrical intensity supplied to the electric motor, and varies inversely proportional to the complete filling of the waste deposit of a cleaning and/or disinfection device. The invention proposes an intelligent system that allows to know if the waste deposit is full, for its consequent maintenance.   (Machine-translation by Google Translate, not legally binding) &lt;br /&gt;</td>\n",
       "      <td>Intelligent filling system of the deposit of a cleaning and or disinfection and method to operate it. Intelligent tank filling detection system for a cleaning and or disinfection apparatus and associated method, which includes, at least, a cleaning and or disinfection robot that, in turn, includes: a body, an electric motor, rotational speed measurement means, intensity measurement means supplied to the electric motor, and waste storage media, characterized in that, at least, the physical variable of the engine is the electrical intensity supplied to the electric motor, and varies inversely proportional to the complete filling of the waste deposit of a cleaning and or disinfection device. The invention proposes an intelligent system that allows to know if the waste deposit is full, for its consequent maintenance.</td>\n",
       "    </tr>\n",
       "  </tbody>\n",
       "</table>\n",
       "</div>"
      ],
      "text/plain": [
       "                                                                                                                                                                                                                                                                                                                                                                                                                                                                                                                                                                                                                                                                                                                                                                                                                                                                                                                                                                                                 text  \\\n",
       "1004                                                                                                                    ARTICULATION ASSEMBLY FOR ROBOTIC DEVICE. An articulating electrosurgical instrument includes a housing having an elongated shaft extending therefrom and a wrist assembly operably supported to a distal end of the elongated shaft and configured to support an end effector assembly at distal end thereof. The wrist assembly includes a proximal link operably coupled to the distal end of the elongated shaft, a distal link operably coupled to the end effector assembly, and a central link operably coupled between the proximal link and the distal link. A transition lumen is configured to be received within the distal link, central link and proximal link. The transition lumen includes a helical passageway defined therein configured to guide a blade rod therethrough for operable engagement with a blade disposed within the end effector assembly.   \n",
       "2303                                                                                                                                                                                                                                                                                                                                                                                                                                                                                                                 INFORMATION PROCESSING APPARATUS, ROBOT SYSTEM, INFORMATION PROCESSING .... An information processing apparatus includes an information processing portion (311) configured to simulate behavior of a virtual robot (100A) and a virtual workpiece (W11A) in a virtual environment. The information processing portion (311) is configured to set a linking condition (trsfl) for linking the virtual workpiece (W11A) with a predetermined portion of the virtual robot (100A).   \n",
       "2717  Intelligent filling system of the deposit of a cleaning and/or disinfection and method to operate it (Machine-translation by Google Translate, not legally binding). Intelligent tank filling detection system for a cleaning and/or disinfection apparatus and associated method, which includes, at least, a cleaning and/or disinfection robot that, in turn, includes: a body; an electric motor; rotational speed measurement means; intensity measurement means supplied to the electric motor; and waste storage media, characterized in that, at least, the physical variable of the engine is the electrical intensity supplied to the electric motor, and varies inversely proportional to the complete filling of the waste deposit of a cleaning and/or disinfection device. The invention proposes an intelligent system that allows to know if the waste deposit is full, for its consequent maintenance.   (Machine-translation by Google Translate, not legally binding) <br />   \n",
       "\n",
       "                                                                                                                                                                                                                                                                                                                                                                                                                                                                                                                                                                                                                                                                                                                                                                                                                                                                      text_preproc1  \n",
       "1004  ARTICULATION ASSEMBLY FOR ROBOTIC DEVICE. An articulating electrosurgical instrument includes a housing having an elongated shaft extending therefrom and a wrist assembly operably supported to a distal end of the elongated shaft and configured to support an end effector assembly at distal end thereof. The wrist assembly includes a proximal link operably coupled to the distal end of the elongated shaft, a distal link operably coupled to the end effector assembly, and a central link operably coupled between the proximal link and the distal link. A transition lumen is configured to be received within the distal link, central link and proximal link. The transition lumen includes a helical passageway defined therein configured to guide a blade rod therethrough for operable engagement with a blade disposed within the end effector assembly.  \n",
       "2303                                                                                                                                                                                                                                                                                                                                                                                                                                                   INFORMATION PROCESSING APPARATUS, ROBOT SYSTEM, INFORMATION PROCESSING. An information processing apparatus includes an information processing portion configured to simulate behavior of a virtual robot and a virtual workpiece in a virtual environment. The information processing portion is configured to set a linking condition for linking the virtual workpiece with a predetermined portion of the virtual robot.  \n",
       "2717                       Intelligent filling system of the deposit of a cleaning and or disinfection and method to operate it. Intelligent tank filling detection system for a cleaning and or disinfection apparatus and associated method, which includes, at least, a cleaning and or disinfection robot that, in turn, includes: a body, an electric motor, rotational speed measurement means, intensity measurement means supplied to the electric motor, and waste storage media, characterized in that, at least, the physical variable of the engine is the electrical intensity supplied to the electric motor, and varies inversely proportional to the complete filling of the waste deposit of a cleaning and or disinfection device. The invention proposes an intelligent system that allows to know if the waste deposit is full, for its consequent maintenance.  "
      ]
     },
     "execution_count": 17,
     "metadata": {},
     "output_type": "execute_result"
    }
   ],
   "source": [
    "pd.set_option('display.max_colwidth', None)\n",
    "df[['text', 'text_preproc1']].sample(3)"
   ]
  },
  {
   "cell_type": "code",
   "execution_count": 18,
   "metadata": {
    "ExecuteTime": {
     "end_time": "2024-05-17T15:04:20.644319Z",
     "start_time": "2024-05-17T15:04:20.630316Z"
    }
   },
   "outputs": [
    {
     "name": "stdout",
     "output_type": "stream",
     "text": [
      "<class 'pandas.core.frame.DataFrame'>\n",
      "Int64Index: 0 entries\n",
      "Data columns (total 4 columns):\n",
      " #   Column         Non-Null Count  Dtype \n",
      "---  ------         --------------  ----- \n",
      " 0   id             0 non-null      int64 \n",
      " 1   pub_year       0 non-null      int64 \n",
      " 2   text           0 non-null      object\n",
      " 3   text_preproc1  0 non-null      object\n",
      "dtypes: int64(2), object(2)\n",
      "memory usage: 0.0+ bytes\n"
     ]
    }
   ],
   "source": [
    "df[df['text_preproc1'] == ''].info()"
   ]
  },
  {
   "cell_type": "code",
   "execution_count": 19,
   "metadata": {
    "ExecuteTime": {
     "end_time": "2024-05-17T15:04:20.722976Z",
     "start_time": "2024-05-17T15:04:20.645320Z"
    }
   },
   "outputs": [],
   "source": [
    "df.drop(columns='text').to_csv(output, index=False)"
   ]
  }
 ],
 "metadata": {
  "kernelspec": {
   "display_name": "Python 3",
   "language": "python",
   "name": "python3"
  },
  "language_info": {
   "codemirror_mode": {
    "name": "ipython",
    "version": 3
   },
   "file_extension": ".py",
   "mimetype": "text/x-python",
   "name": "python",
   "nbconvert_exporter": "python",
   "pygments_lexer": "ipython3",
   "version": "3.8.19"
  }
 },
 "nbformat": 4,
 "nbformat_minor": 2
}
