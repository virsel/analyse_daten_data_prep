{
 "cells": [
  {
   "cell_type": "code",
   "id": "initial_id",
   "metadata": {
    "collapsed": true,
    "ExecuteTime": {
     "end_time": "2024-05-11T15:39:20.380115Z",
     "start_time": "2024-05-11T15:39:19.896071Z"
    }
   },
   "source": [
    "import pandas as pd\n",
    "\n",
    "data_path = \"data_preprocessed/3_selected_features.csv\"\n",
    "data_out_path = \"data_preprocessed/4_feature_vec.csv\"\n",
    "df = pd.read_csv(data_path)"
   ],
   "outputs": [],
   "execution_count": 1
  },
  {
   "metadata": {
    "ExecuteTime": {
     "end_time": "2024-05-11T15:39:24.035354Z",
     "start_time": "2024-05-11T15:39:20.382114Z"
    }
   },
   "cell_type": "code",
   "source": [
    "import sys\n",
    "sys.path.append('../moduls')\n",
    "\n",
    "from src.moduls.pipeline import features2vec"
   ],
   "id": "4b2c639c4508c83",
   "outputs": [],
   "execution_count": 2
  },
  {
   "metadata": {
    "ExecuteTime": {
     "end_time": "2024-05-11T15:39:24.096403Z",
     "start_time": "2024-05-11T15:39:24.036353Z"
    }
   },
   "cell_type": "code",
   "source": "df.info()",
   "id": "16297291973a8c8a",
   "outputs": [
    {
     "name": "stdout",
     "output_type": "stream",
     "text": [
      "<class 'pandas.core.frame.DataFrame'>\n",
      "RangeIndex: 161737 entries, 0 to 161736\n",
      "Data columns (total 3 columns):\n",
      " #   Column  Non-Null Count   Dtype \n",
      "---  ------  --------------   ----- \n",
      " 0   id      161737 non-null  object\n",
      " 1   text4   161737 non-null  object\n",
      " 2   label   161737 non-null  int64 \n",
      "dtypes: int64(1), object(2)\n",
      "memory usage: 3.7+ MB\n"
     ]
    }
   ],
   "execution_count": 3
  },
  {
   "metadata": {
    "ExecuteTime": {
     "end_time": "2024-05-11T15:39:24.111533Z",
     "start_time": "2024-05-11T15:39:24.098403Z"
    }
   },
   "cell_type": "code",
   "source": [
    "# Path to the provided text file\n",
    "feature_file_path =  '../output/tfidf_features.txt'\n",
    "# Read the feature names into a list\n",
    "feature_names = []\n",
    "with open(feature_file_path, 'r') as f:\n",
    "    feature_names = f.read().splitlines()\n"
   ],
   "id": "6013fc25225fdefc",
   "outputs": [],
   "execution_count": 4
  },
  {
   "metadata": {
    "ExecuteTime": {
     "end_time": "2024-05-11T15:39:40.454998Z",
     "start_time": "2024-05-11T15:39:24.113532Z"
    }
   },
   "cell_type": "code",
   "source": [
    "from parallel_pandas import ParallelPandas\n",
    "\n",
    "#initialize parallel-pandas\n",
    "ParallelPandas.initialize(n_cpu=12, split_factor=1, disable_pr_bar=False)\n",
    "context_length = 40\n",
    "df['feature_vec'] = df['text4'].p_apply(features2vec)"
   ],
   "id": "fecf0fdf9d2a95fb",
   "outputs": [
    {
     "data": {
      "text/plain": [
       "FEATURES2VEC DONE:   0%|          | 0/161737 [00:00<?, ?it/s]"
      ],
      "application/vnd.jupyter.widget-view+json": {
       "version_major": 2,
       "version_minor": 0,
       "model_id": "6d1a2789ec4f4b399ab291e3c920b683"
      }
     },
     "metadata": {},
     "output_type": "display_data"
    }
   ],
   "execution_count": 5
  },
  {
   "metadata": {
    "ExecuteTime": {
     "end_time": "2024-05-11T15:39:40.748894Z",
     "start_time": "2024-05-11T15:39:40.455863Z"
    }
   },
   "cell_type": "code",
   "source": "df.drop('text4', axis=1).to_csv(data_out_path, index=False)",
   "id": "b3032745a5d8dff4",
   "outputs": [],
   "execution_count": 6
  }
 ],
 "metadata": {
  "kernelspec": {
   "display_name": "Python 3",
   "language": "python",
   "name": "python3"
  },
  "language_info": {
   "codemirror_mode": {
    "name": "ipython",
    "version": 2
   },
   "file_extension": ".py",
   "mimetype": "text/x-python",
   "name": "python",
   "nbconvert_exporter": "python",
   "pygments_lexer": "ipython2",
   "version": "2.7.6"
  }
 },
 "nbformat": 4,
 "nbformat_minor": 5
}
