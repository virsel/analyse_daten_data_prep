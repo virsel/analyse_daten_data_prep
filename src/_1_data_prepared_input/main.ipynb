{
 "cells": [
  {
   "cell_type": "code",
   "execution_count": 62,
   "metadata": {
    "ExecuteTime": {
     "end_time": "2024-05-14T15:02:25.224210Z",
     "start_time": "2024-05-14T15:02:25.208584Z"
    }
   },
   "outputs": [],
   "source": [
    "import pandas as pd\n",
    "from pathlib import Path\n",
    "\n",
    "data_folder = str(Path('.') / '../../input_data')\n",
    "europe_data_path = str(Path(data_folder) / 'europe_data.xls')\n",
    "europe_data_en_out_path = \"europe_data_en.csv\"\n",
    "europe_data_de_out_path = \"europe_data_de.csv\""
   ]
  },
  {
   "cell_type": "code",
   "execution_count": 63,
   "metadata": {
    "ExecuteTime": {
     "end_time": "2024-05-14T15:02:25.538271Z",
     "start_time": "2024-05-14T15:02:25.224424Z"
    }
   },
   "outputs": [],
   "source": [
    "df = pd.read_excel(europe_data_path, header=1, usecols=['lfd. Nummer', 'Titel', 'Zusammenfassung', 'Veröffentlichungs-Datum'])"
   ]
  },
  {
   "cell_type": "code",
   "execution_count": 64,
   "metadata": {
    "ExecuteTime": {
     "end_time": "2024-05-14T15:02:25.553897Z",
     "start_time": "2024-05-14T15:02:25.538271Z"
    }
   },
   "outputs": [],
   "source": [
    "df.rename(columns={'lfd. Nummer': 'id', 'Titel': 'title', 'Zusammenfassung': 'abstract', 'Veröffentlichungs-Datum': 'pub_date'}, inplace=True)"
   ]
  },
  {
   "cell_type": "code",
   "execution_count": 65,
   "metadata": {
    "ExecuteTime": {
     "end_time": "2024-05-14T15:02:25.569522Z",
     "start_time": "2024-05-14T15:02:25.553897Z"
    }
   },
   "outputs": [],
   "source": [
    "df.dropna(subset=['abstract'], inplace=True)"
   ]
  },
  {
   "cell_type": "code",
   "execution_count": 66,
   "metadata": {
    "ExecuteTime": {
     "end_time": "2024-05-14T15:02:25.585528Z",
     "start_time": "2024-05-14T15:02:25.569522Z"
    }
   },
   "outputs": [
    {
     "data": {
      "text/html": [
       "<div>\n",
       "<style scoped>\n",
       "    .dataframe tbody tr th:only-of-type {\n",
       "        vertical-align: middle;\n",
       "    }\n",
       "\n",
       "    .dataframe tbody tr th {\n",
       "        vertical-align: top;\n",
       "    }\n",
       "\n",
       "    .dataframe thead th {\n",
       "        text-align: right;\n",
       "    }\n",
       "</style>\n",
       "<table border=\"1\" class=\"dataframe\">\n",
       "  <thead>\n",
       "    <tr style=\"text-align: right;\">\n",
       "      <th></th>\n",
       "      <th>id</th>\n",
       "      <th>pub_date</th>\n",
       "      <th>title</th>\n",
       "      <th>abstract</th>\n",
       "    </tr>\n",
       "  </thead>\n",
       "  <tbody>\n",
       "    <tr>\n",
       "      <th>9941</th>\n",
       "      <td>9942</td>\n",
       "      <td>06.01.2022</td>\n",
       "      <td>[DE] SCHWEISSBRENNERSYSTEM MIT EINER WECHSELKUPPLUNG UND SCHWEISSBRENNER, BRENNERWECHSELSTATION, UND VERFAHREN ZUM AUFNEHMEN EINES SCHWEISSBRENNER EINES SCHWEISSBRENNERSYSTEM MIT EINEM SCHWEISSROBOTER ...</td>\n",
       "      <td>[DE]  Um den Wechsel eines Schweißbrenners an einem Schweißroboter zu vereinfachen ist ein Schweißbrennersystem mit einer Wechselkupplung (2a) und einem Schweißbrenner (2b) vorgesehen, die voneinander gelöst werden können. An der Wechselkupplung (2a) sind ein erster Justierring (25a) federnd gelagert angeordnet und ein erstes Justierelement (32a) vorgesehen. Am Schweißbrenner (2b) sind ein zweiter Justierring (25b) und ein zweites Justierelement (32b) vorgesehen. Der erste Justierring (25a) ist bei von der Wechselkupplung (2a) gelöstem Schweißbrenner (2b) axial vom ersten Kupplungsende beabstandet angeordnet, sodass das erste Justierelement (32a) und das zweite Justierelement (32b) beim Verbinden des Schweißbrenners (2b) mit der Wechselkupplung (2a) zur Ausrichtung des Schweißbrenners (2b) relativ zur Wechselkupplung (2a) in Eingriff gelangen bevor Schweißbrennerkupplungsteile (16a, 16b) am Schweißbrenner (2b) und an der Wechselkupplung (2a) wechselwirken. &lt;br /&gt; [EN]  In order to simplify ...</td>\n",
       "    </tr>\n",
       "  </tbody>\n",
       "</table>\n",
       "</div>"
      ],
      "text/plain": [
       "        id    pub_date  \\\n",
       "9941  9942  06.01.2022   \n",
       "\n",
       "                                                                                                                                                                                                              title  \\\n",
       "9941   [DE] SCHWEISSBRENNERSYSTEM MIT EINER WECHSELKUPPLUNG UND SCHWEISSBRENNER, BRENNERWECHSELSTATION, UND VERFAHREN ZUM AUFNEHMEN EINES SCHWEISSBRENNER EINES SCHWEISSBRENNERSYSTEM MIT EINEM SCHWEISSROBOTER ...   \n",
       "\n",
       "                                                                                                                                                                                                                                                                                                                                                                                                                                                                                                                                                                                                                                                                                                                                                                                                                                                                                                                                                                                                                                               abstract  \n",
       "9941   [DE]  Um den Wechsel eines Schweißbrenners an einem Schweißroboter zu vereinfachen ist ein Schweißbrennersystem mit einer Wechselkupplung (2a) und einem Schweißbrenner (2b) vorgesehen, die voneinander gelöst werden können. An der Wechselkupplung (2a) sind ein erster Justierring (25a) federnd gelagert angeordnet und ein erstes Justierelement (32a) vorgesehen. Am Schweißbrenner (2b) sind ein zweiter Justierring (25b) und ein zweites Justierelement (32b) vorgesehen. Der erste Justierring (25a) ist bei von der Wechselkupplung (2a) gelöstem Schweißbrenner (2b) axial vom ersten Kupplungsende beabstandet angeordnet, sodass das erste Justierelement (32a) und das zweite Justierelement (32b) beim Verbinden des Schweißbrenners (2b) mit der Wechselkupplung (2a) zur Ausrichtung des Schweißbrenners (2b) relativ zur Wechselkupplung (2a) in Eingriff gelangen bevor Schweißbrennerkupplungsteile (16a, 16b) am Schweißbrenner (2b) und an der Wechselkupplung (2a) wechselwirken. <br /> [EN]  In order to simplify ...  "
      ]
     },
     "execution_count": 66,
     "metadata": {},
     "output_type": "execute_result"
    }
   ],
   "source": [
    "df[df.id == 9942]"
   ]
  },
  {
   "cell_type": "code",
   "execution_count": 67,
   "metadata": {
    "ExecuteTime": {
     "end_time": "2024-05-14T15:02:25.601157Z",
     "start_time": "2024-05-14T15:02:25.585528Z"
    }
   },
   "outputs": [],
   "source": [
    "from arrangement import arrange_txt_de, arrange_txt_en"
   ]
  },
  {
   "cell_type": "code",
   "execution_count": 68,
   "metadata": {
    "ExecuteTime": {
     "end_time": "2024-05-14T15:02:25.616783Z",
     "start_time": "2024-05-14T15:02:25.601157Z"
    }
   },
   "outputs": [],
   "source": [
    "mask_en = df['title'].str.contains(r'\\[EN\\]') & df['abstract'].str.contains(r'\\[EN\\]')\n",
    "mask_de = df['title'].str.contains(r'\\[DE\\]') & df['abstract'].str.contains(r'\\[DE\\]')\n",
    "df_en = df[mask_en].copy()\n",
    "df_de = df[mask_de].copy()"
   ]
  },
  {
   "cell_type": "code",
   "execution_count": 69,
   "metadata": {
    "ExecuteTime": {
     "end_time": "2024-05-14T15:02:25.632408Z",
     "start_time": "2024-05-14T15:02:25.616783Z"
    }
   },
   "outputs": [
    {
     "name": "stdout",
     "output_type": "stream",
     "text": [
      "<class 'pandas.core.frame.DataFrame'>\n",
      "Int64Index: 188 entries, 135 to 9943\n",
      "Data columns (total 4 columns):\n",
      " #   Column    Non-Null Count  Dtype \n",
      "---  ------    --------------  ----- \n",
      " 0   id        188 non-null    int64 \n",
      " 1   pub_date  188 non-null    object\n",
      " 2   title     188 non-null    object\n",
      " 3   abstract  188 non-null    object\n",
      "dtypes: int64(1), object(3)\n",
      "memory usage: 7.3+ KB\n"
     ]
    }
   ],
   "source": [
    "df[mask_de & mask_en].info()"
   ]
  },
  {
   "cell_type": "code",
   "execution_count": 70,
   "metadata": {
    "ExecuteTime": {
     "end_time": "2024-05-14T15:02:26.156649Z",
     "start_time": "2024-05-14T15:02:25.632408Z"
    }
   },
   "outputs": [],
   "source": [
    "df_en[['title', 'abstract']] = df_en[['title', 'abstract']].apply(arrange_txt_en, axis=1)\n",
    "df_de[['title', 'abstract']] = df_de[['title', 'abstract']].apply(arrange_txt_de, axis=1)"
   ]
  },
  {
   "cell_type": "code",
   "execution_count": 71,
   "metadata": {
    "ExecuteTime": {
     "end_time": "2024-05-14T15:02:26.172275Z",
     "start_time": "2024-05-14T15:02:26.156649Z"
    }
   },
   "outputs": [],
   "source": [
    "df_de['lang'] = 'de'\n",
    "df_en['lang'] = 'en'\n",
    "df = pd.concat([df_en, df_de], ignore_index=True)"
   ]
  },
  {
   "cell_type": "code",
   "execution_count": 72,
   "metadata": {
    "ExecuteTime": {
     "end_time": "2024-05-14T15:02:26.188283Z",
     "start_time": "2024-05-14T15:02:26.172275Z"
    }
   },
   "outputs": [],
   "source": [
    "df.dropna(subset=['abstract'], inplace=True)"
   ]
  },
  {
   "cell_type": "code",
   "execution_count": 73,
   "metadata": {
    "ExecuteTime": {
     "end_time": "2024-05-14T15:02:26.203912Z",
     "start_time": "2024-05-14T15:02:26.188283Z"
    }
   },
   "outputs": [
    {
     "data": {
      "text/plain": [
       "en    58.873866\n",
       "de    41.126134\n",
       "Name: lang, dtype: float64"
      ]
     },
     "execution_count": 73,
     "metadata": {},
     "output_type": "execute_result"
    }
   ],
   "source": [
    "df['lang'].value_counts() / len(df) * 100"
   ]
  },
  {
   "cell_type": "code",
   "execution_count": 74,
   "metadata": {
    "ExecuteTime": {
     "end_time": "2024-05-14T15:02:26.219538Z",
     "start_time": "2024-05-14T15:02:26.203912Z"
    }
   },
   "outputs": [],
   "source": [
    "df['pub_date'] = pd.to_datetime(df['pub_date'], format='%d.%m.%Y')"
   ]
  },
  {
   "cell_type": "code",
   "execution_count": 75,
   "metadata": {
    "ExecuteTime": {
     "end_time": "2024-05-14T15:02:26.238796Z",
     "start_time": "2024-05-14T15:02:26.219538Z"
    }
   },
   "outputs": [],
   "source": [
    "df_filtered = df.sort_values(by='pub_date', ascending=False).drop_duplicates(subset='abstract')"
   ]
  },
  {
   "cell_type": "code",
   "execution_count": 76,
   "metadata": {
    "ExecuteTime": {
     "end_time": "2024-05-14T15:02:26.254421Z",
     "start_time": "2024-05-14T15:02:26.238796Z"
    }
   },
   "outputs": [
    {
     "data": {
      "text/html": [
       "<div>\n",
       "<style scoped>\n",
       "    .dataframe tbody tr th:only-of-type {\n",
       "        vertical-align: middle;\n",
       "    }\n",
       "\n",
       "    .dataframe tbody tr th {\n",
       "        vertical-align: top;\n",
       "    }\n",
       "\n",
       "    .dataframe thead th {\n",
       "        text-align: right;\n",
       "    }\n",
       "</style>\n",
       "<table border=\"1\" class=\"dataframe\">\n",
       "  <thead>\n",
       "    <tr style=\"text-align: right;\">\n",
       "      <th></th>\n",
       "      <th>id</th>\n",
       "      <th>pub_date</th>\n",
       "      <th>title</th>\n",
       "      <th>abstract</th>\n",
       "      <th>lang</th>\n",
       "    </tr>\n",
       "  </thead>\n",
       "  <tbody>\n",
       "    <tr>\n",
       "      <th>3370</th>\n",
       "      <td>9781</td>\n",
       "      <td>2022-01-20</td>\n",
       "      <td>CONTROL OF A CLEANING ROBOT</td>\n",
       "      <td>A cleaning robot is configured to clean a predetermined floor area. A method for controlling the cleaning robot comprises steps of determining a section of the floor area, the treatment of which by the cleaning robot is intended to differ from the remaining floor area; deactivating a cleaning device of the cleaning robot; controlling the cleaning robot to move along a boundary ...</td>\n",
       "      <td>en</td>\n",
       "    </tr>\n",
       "    <tr>\n",
       "      <th>5786</th>\n",
       "      <td>9781</td>\n",
       "      <td>2022-01-20</td>\n",
       "      <td>STEUERUNG EINES REINIGUNGSROBOTERS</td>\n",
       "      <td>Ein Reinigungsroboter ist dazu eingerichtet, eine vorbestimmte Bodenfläche zu reinigen. Ein Verfahren zum Steuern des Reinigungsroboters umfasst Schritte des Bestimmens eines Abschnitts der Bodenfläche, dessen Bearbeitung durch den Reinigungsroboter unterschiedlich von der restlichen Bodenfläche sein soll; des Deaktivierens einer Reinigungseinrichtung des Reinigungsroboters; des Steuerns des Reinigungsroboters, entlang einer Begrenzung des Abschnitts zu fahren; des Erfassens einer benutzergesteuerten Bestätigung der entlang gefahrenen Begrenzung; und des Freigebens der Reinigungseinrichtung. &lt;br /&gt;</td>\n",
       "      <td>de</td>\n",
       "    </tr>\n",
       "    <tr>\n",
       "      <th>5807</th>\n",
       "      <td>9860</td>\n",
       "      <td>2022-01-13</td>\n",
       "      <td>ROBOTERZELLE ZUR HANDHABUNG VON STÜCKGUT</td>\n",
       "      <td>Die vorliegende Erfindung betrifft eine Roboterzelle (1) zur Handhabung von Stückgut, welche folgendes umfasst: - eine Einhausung (2), - einen im Inneren der Einhausung (2) angeordneten Roboter (10), - einen ersten Aufnahmebereich (20) für einen ersten Stückgutbehälter (24), - einen zweiten Aufnahmebereich (22) für einen zweiten Stückgutbehälter (26), wobei der erste Aufnahmebereich (20) und der zweite Aufnahmebereich (22) ent- lang einer ersten Richtung (x) nebeneinander angeordnet sind, - eine Fördereinrichtung (40) für vereinzeltes Stückgut, welche durch die Einhausung (2) hindurchragt, und - einen Träger (50), an oder auf welchem der Roboter (10) entlang der ersten Richtung (x) beweglich gelagert ist. &lt;br /&gt;</td>\n",
       "      <td>de</td>\n",
       "    </tr>\n",
       "    <tr>\n",
       "      <th>3396</th>\n",
       "      <td>9860</td>\n",
       "      <td>2022-01-13</td>\n",
       "      <td>ROBOT CELL FOR HANDLING PIECE GOODS</td>\n",
       "      <td>The present invention relates to a robot cell (1) for handling piece goods, said robot cell comprising: - a housing (2), - a robot (10) arranged in the interior of the housing (2), - a first receiving region (20) for a first piece goods container (24), - a second ...</td>\n",
       "      <td>en</td>\n",
       "    </tr>\n",
       "    <tr>\n",
       "      <th>5809</th>\n",
       "      <td>9864</td>\n",
       "      <td>2022-01-13</td>\n",
       "      <td>MOBILES, SELBSTFAHRENDES GERÄT</td>\n",
       "      <td>Es wird ein mobiles, selbstfahrendes Gerät (10), insbesondere Reinigungsgerät zur autonomen Bearbeitung von Bodenflächen wie ein Saug- und/oder Kehr- und/oder Wischroboter, angegeben, das ein Trägerteil, eine Steuerung und zumindest ein in oder an das Trägerteil ersetzbares Bauteil (2) aufweist. Das ersetzbare Bauteil (2) weist eine Identifikationsnummer auf, die an die Steuerung übertragbar ist, über die die Identifikationsnummer an eine externe Instanz (3) sendbar ist, um das einsetzbare Bauteil (2) von der externen Instanz (3) identifizieren zu lassen und Steuerungsparameter für das einsetzbare Bauteil (2) von der externen Instanz (3) an die Steuerung zu übertragen. Weiter wird ein Verfahren zur automatischen Bearbeitung von Bodenflächen mit Hilfe eines mobilen, selbstfahrenden Geräts (10) mit einem einsetzbaren Bauteil (2) und einer Steuerung angegeben. &lt;br /&gt;</td>\n",
       "      <td>de</td>\n",
       "    </tr>\n",
       "    <tr>\n",
       "      <th>3399</th>\n",
       "      <td>9864</td>\n",
       "      <td>2022-01-13</td>\n",
       "      <td>MOBILE, SELF-PROPELLED DEVICE</td>\n",
       "      <td>The invention relates to a mobile, self-propelled device (10), in particular a cleaning device for autonomously ...</td>\n",
       "      <td>en</td>\n",
       "    </tr>\n",
       "    <tr>\n",
       "      <th>3400</th>\n",
       "      <td>9865</td>\n",
       "      <td>2022-01-13</td>\n",
       "      <td>DETECTING PARAMETERS OF A ROBOT STRUCTURE</td>\n",
       "      <td>The invention relates to a sensor module (100) for detecting parameters (F, p, a, T) of a robot structure (10) which has at least one manipulator (12) for positioning tasks. The sensor module (100) has: - at least one surface (111, 112, 113) which is designed to interact with the manipulator (12, 13) and - at least one sensor which is designed to ascertain a force (F) and/or a pressure (p) ...</td>\n",
       "      <td>en</td>\n",
       "    </tr>\n",
       "    <tr>\n",
       "      <th>5810</th>\n",
       "      <td>9865</td>\n",
       "      <td>2022-01-13</td>\n",
       "      <td>ERFASSEN VON PARAMETERN EINES ROBOTERAUFBAUS</td>\n",
       "      <td>Zusammenfassend betrifft die Erfindung ein Sensormodul (100) zum Erfassen von Parametern (F, p, a, T) eines Roboteraufbaus (10), der zumindest einen Manipulator (12) für Positionieraufgaben aufweist. Das Sensormodul (100) weist: - zumindest eine Fläche (111, 112, 113) auf, die zur Interaktion mit dem Manipulator (12, 13) ausgebildet ist und - zumindest einen Sensor auf, der zum Ermitteln einer Kraft (F) und/oder eines Drucks (p) ausgebildet ist, die/der vom Manipulator (12) auf die Fläche (111, 112, 113) einwirkt. Dier Erfindung betrifft weiterhin ein System sowie ein Verfahren. &lt;br /&gt;</td>\n",
       "      <td>de</td>\n",
       "    </tr>\n",
       "    <tr>\n",
       "      <th>3423</th>\n",
       "      <td>9944</td>\n",
       "      <td>2022-01-06</td>\n",
       "      <td>DRIVE DEVICE COMPRISING A DRIVE COMPONENT THAT HAS A LIGHT-STABILISED ...</td>\n",
       "      <td>The invention relates to a drive device comprising ...</td>\n",
       "      <td>en</td>\n",
       "    </tr>\n",
       "    <tr>\n",
       "      <th>5829</th>\n",
       "      <td>9944</td>\n",
       "      <td>2022-01-06</td>\n",
       "      <td>ANTRIEBSVORRICHTUNG MIT EINER EIN LICHTSTABILISIERTES DYNAMISCHES MATERIAL AUFWEISENDEN ANTRIEBSKOMPONENTE UND ROBOTER</td>\n",
       "      <td>Die Erfindung betrifft eine Antriebsvorrichtung, aufweisend wenigstens einen Motor (M1-M6) und wenigstens eine weitere Antriebskomponente (20) aus der Gruppe von einem Getriebe (25), einem Drehmomentwandler (24), einer Kupplung (23) und/oder einer Bremse (22), wobei der wenigstens eine Motor (M1-M6) und/oder die wenigstens eine weitere Antriebskomponente (20) ein die Drehmomentübertragung veränderndes Steuermittel (21) aufweist, welches wenigstens ein Leuchtmittel (21.1) und einen die Drehmomentübertragung beeinflussenden Werkstoff (21.2), der wenigstens ein lichtstabilisiertes dynamisches Material (LSDM) aufweist, umfasst, wobei das Steuermittel (21) eingerichtet ist, die Drehmomentübertragung durch Ansteuern des Leuchtmittels (21.1), welches auf das lichtstabilisierte dynamische Material (LSDM) einstrahlt, zu verändern. Die Erfindung betrifft außerdem einen Roboter, aufweisend wenigstens eine solche Antriebsvorrichtung. &lt;br /&gt;</td>\n",
       "      <td>de</td>\n",
       "    </tr>\n",
       "  </tbody>\n",
       "</table>\n",
       "</div>"
      ],
      "text/plain": [
       "        id   pub_date  \\\n",
       "3370  9781 2022-01-20   \n",
       "5786  9781 2022-01-20   \n",
       "5807  9860 2022-01-13   \n",
       "3396  9860 2022-01-13   \n",
       "5809  9864 2022-01-13   \n",
       "3399  9864 2022-01-13   \n",
       "3400  9865 2022-01-13   \n",
       "5810  9865 2022-01-13   \n",
       "3423  9944 2022-01-06   \n",
       "5829  9944 2022-01-06   \n",
       "\n",
       "                                                                                                                       title  \\\n",
       "3370                                                                                             CONTROL OF A CLEANING ROBOT   \n",
       "5786                                                                                      STEUERUNG EINES REINIGUNGSROBOTERS   \n",
       "5807                                                                                ROBOTERZELLE ZUR HANDHABUNG VON STÜCKGUT   \n",
       "3396                                                                                     ROBOT CELL FOR HANDLING PIECE GOODS   \n",
       "5809                                                                                          MOBILES, SELBSTFAHRENDES GERÄT   \n",
       "3399                                                                                           MOBILE, SELF-PROPELLED DEVICE   \n",
       "3400                                                                               DETECTING PARAMETERS OF A ROBOT STRUCTURE   \n",
       "5810                                                                            ERFASSEN VON PARAMETERN EINES ROBOTERAUFBAUS   \n",
       "3423                                               DRIVE DEVICE COMPRISING A DRIVE COMPONENT THAT HAS A LIGHT-STABILISED ...   \n",
       "5829  ANTRIEBSVORRICHTUNG MIT EINER EIN LICHTSTABILISIERTES DYNAMISCHES MATERIAL AUFWEISENDEN ANTRIEBSKOMPONENTE UND ROBOTER   \n",
       "\n",
       "                                                                                                                                                                                                                                                                                                                                                                                                                                                                                                                                                                                                                                                                                                                                                                                                                                                                                                                                                                            abstract  \\\n",
       "3370                                                                                                                                                                                                                                                                                                                                                                                                                                                                                                                                                                                 A cleaning robot is configured to clean a predetermined floor area. A method for controlling the cleaning robot comprises steps of determining a section of the floor area, the treatment of which by the cleaning robot is intended to differ from the remaining floor area; deactivating a cleaning device of the cleaning robot; controlling the cleaning robot to move along a boundary ...   \n",
       "5786                                                                                                                                                                                                                                                                                                                                                   Ein Reinigungsroboter ist dazu eingerichtet, eine vorbestimmte Bodenfläche zu reinigen. Ein Verfahren zum Steuern des Reinigungsroboters umfasst Schritte des Bestimmens eines Abschnitts der Bodenfläche, dessen Bearbeitung durch den Reinigungsroboter unterschiedlich von der restlichen Bodenfläche sein soll; des Deaktivierens einer Reinigungseinrichtung des Reinigungsroboters; des Steuerns des Reinigungsroboters, entlang einer Begrenzung des Abschnitts zu fahren; des Erfassens einer benutzergesteuerten Bestätigung der entlang gefahrenen Begrenzung; und des Freigebens der Reinigungseinrichtung. <br />   \n",
       "5807                                                                                                                                                                                                                               Die vorliegende Erfindung betrifft eine Roboterzelle (1) zur Handhabung von Stückgut, welche folgendes umfasst: - eine Einhausung (2), - einen im Inneren der Einhausung (2) angeordneten Roboter (10), - einen ersten Aufnahmebereich (20) für einen ersten Stückgutbehälter (24), - einen zweiten Aufnahmebereich (22) für einen zweiten Stückgutbehälter (26), wobei der erste Aufnahmebereich (20) und der zweite Aufnahmebereich (22) ent- lang einer ersten Richtung (x) nebeneinander angeordnet sind, - eine Fördereinrichtung (40) für vereinzeltes Stückgut, welche durch die Einhausung (2) hindurchragt, und - einen Träger (50), an oder auf welchem der Roboter (10) entlang der ersten Richtung (x) beweglich gelagert ist. <br />   \n",
       "3396                                                                                                                                                                                                                                                                                                                                                                                                                                                                                                                                                                                                                                                                                                     The present invention relates to a robot cell (1) for handling piece goods, said robot cell comprising: - a housing (2), - a robot (10) arranged in the interior of the housing (2), - a first receiving region (20) for a first piece goods container (24), - a second ...   \n",
       "5809                                                                    Es wird ein mobiles, selbstfahrendes Gerät (10), insbesondere Reinigungsgerät zur autonomen Bearbeitung von Bodenflächen wie ein Saug- und/oder Kehr- und/oder Wischroboter, angegeben, das ein Trägerteil, eine Steuerung und zumindest ein in oder an das Trägerteil ersetzbares Bauteil (2) aufweist. Das ersetzbare Bauteil (2) weist eine Identifikationsnummer auf, die an die Steuerung übertragbar ist, über die die Identifikationsnummer an eine externe Instanz (3) sendbar ist, um das einsetzbare Bauteil (2) von der externen Instanz (3) identifizieren zu lassen und Steuerungsparameter für das einsetzbare Bauteil (2) von der externen Instanz (3) an die Steuerung zu übertragen. Weiter wird ein Verfahren zur automatischen Bearbeitung von Bodenflächen mit Hilfe eines mobilen, selbstfahrenden Geräts (10) mit einem einsetzbaren Bauteil (2) und einer Steuerung angegeben. <br />   \n",
       "3399                                                                                                                                                                                                                                                                                                                                                                                                                                                                                                                                                                                                                                                                                                                                                                                                                                                             The invention relates to a mobile, self-propelled device (10), in particular a cleaning device for autonomously ...   \n",
       "3400                                                                                                                                                                                                                                                                                                                                                                                                                                                                                                                                                                    The invention relates to a sensor module (100) for detecting parameters (F, p, a, T) of a robot structure (10) which has at least one manipulator (12) for positioning tasks. The sensor module (100) has: - at least one surface (111, 112, 113) which is designed to interact with the manipulator (12, 13) and - at least one sensor which is designed to ascertain a force (F) and/or a pressure (p) ...   \n",
       "5810                                                                                                                                                                                                                                                                                                                                                                Zusammenfassend betrifft die Erfindung ein Sensormodul (100) zum Erfassen von Parametern (F, p, a, T) eines Roboteraufbaus (10), der zumindest einen Manipulator (12) für Positionieraufgaben aufweist. Das Sensormodul (100) weist: - zumindest eine Fläche (111, 112, 113) auf, die zur Interaktion mit dem Manipulator (12, 13) ausgebildet ist und - zumindest einen Sensor auf, der zum Ermitteln einer Kraft (F) und/oder eines Drucks (p) ausgebildet ist, die/der vom Manipulator (12) auf die Fläche (111, 112, 113) einwirkt. Dier Erfindung betrifft weiterhin ein System sowie ein Verfahren. <br />   \n",
       "3423                                                                                                                                                                                                                                                                                                                                                                                                                                                                                                                                                                                                                                                                                                                                                                                                                                                                                                                          The invention relates to a drive device comprising ...   \n",
       "5829  Die Erfindung betrifft eine Antriebsvorrichtung, aufweisend wenigstens einen Motor (M1-M6) und wenigstens eine weitere Antriebskomponente (20) aus der Gruppe von einem Getriebe (25), einem Drehmomentwandler (24), einer Kupplung (23) und/oder einer Bremse (22), wobei der wenigstens eine Motor (M1-M6) und/oder die wenigstens eine weitere Antriebskomponente (20) ein die Drehmomentübertragung veränderndes Steuermittel (21) aufweist, welches wenigstens ein Leuchtmittel (21.1) und einen die Drehmomentübertragung beeinflussenden Werkstoff (21.2), der wenigstens ein lichtstabilisiertes dynamisches Material (LSDM) aufweist, umfasst, wobei das Steuermittel (21) eingerichtet ist, die Drehmomentübertragung durch Ansteuern des Leuchtmittels (21.1), welches auf das lichtstabilisierte dynamische Material (LSDM) einstrahlt, zu verändern. Die Erfindung betrifft außerdem einen Roboter, aufweisend wenigstens eine solche Antriebsvorrichtung. <br />   \n",
       "\n",
       "     lang  \n",
       "3370   en  \n",
       "5786   de  \n",
       "5807   de  \n",
       "3396   en  \n",
       "5809   de  \n",
       "3399   en  \n",
       "3400   en  \n",
       "5810   de  \n",
       "3423   en  \n",
       "5829   de  "
      ]
     },
     "execution_count": 76,
     "metadata": {},
     "output_type": "execute_result"
    }
   ],
   "source": [
    "df_filtered[df_filtered.duplicated('id', keep=False)].sort_values('id').tail(10)"
   ]
  },
  {
   "cell_type": "code",
   "execution_count": 77,
   "metadata": {
    "ExecuteTime": {
     "end_time": "2024-05-14T15:02:26.270047Z",
     "start_time": "2024-05-14T15:02:26.254421Z"
    }
   },
   "outputs": [
    {
     "data": {
      "text/html": [
       "<div>\n",
       "<style scoped>\n",
       "    .dataframe tbody tr th:only-of-type {\n",
       "        vertical-align: middle;\n",
       "    }\n",
       "\n",
       "    .dataframe tbody tr th {\n",
       "        vertical-align: top;\n",
       "    }\n",
       "\n",
       "    .dataframe thead th {\n",
       "        text-align: right;\n",
       "    }\n",
       "</style>\n",
       "<table border=\"1\" class=\"dataframe\">\n",
       "  <thead>\n",
       "    <tr style=\"text-align: right;\">\n",
       "      <th></th>\n",
       "      <th>text</th>\n",
       "    </tr>\n",
       "  </thead>\n",
       "  <tbody>\n",
       "    <tr>\n",
       "      <th>3450</th>\n",
       "      <td>Roboter mit hohlem Handgelenkelement. Roboter (10), umfassend:ein hohles erstes Handgelenkelement (26), das um eine erste Achsenlinie (A1) drehbar mit einem vorderen Ende eines Roboterarms (26) gekoppelt ist;ein hohles zweites Handgelenkelement (28), das um eine die erste Achsenlinie orthogonal kreuzende zweite Achsenlinie (A2) drehbar mit dem ersten Handgelenkelement gekoppelt ist;ein drittes Handgelenkelement (30), das um eine die zweite Achsenlinie orthogonal kreuzende dritte Achsenlinie (A3) mit dem zweiten Handgelenkelement gekoppelt ist und einen Endeffektor trägt, der eine Tätigkeit in Bezug auf ein Werkstück durchführt;einen ersten Leitungskörper (62), der so verlegt ist, dass er durch das Innere des ersten Handgelenkelements, des zweiten Handgelenkelements und des dritten Handgelenkelements verläuft und an den Endeffektor angeschlossen ist; undeinen zweiten Leitungskörper (64), der so verlegt ist, dass er durch das Innere des ersten Handgelenkelements und außerhalb des zweiten Handgelenkelements und des dritten ...</td>\n",
       "    </tr>\n",
       "  </tbody>\n",
       "</table>\n",
       "</div>"
      ],
      "text/plain": [
       "                                                                                                                                                                                                                                                                                                                                                                                                                                                                                                                                                                                                                                                                                                                                                                                                                                                                                                                                                                                                                                                                                 text\n",
       "3450  Roboter mit hohlem Handgelenkelement. Roboter (10), umfassend:ein hohles erstes Handgelenkelement (26), das um eine erste Achsenlinie (A1) drehbar mit einem vorderen Ende eines Roboterarms (26) gekoppelt ist;ein hohles zweites Handgelenkelement (28), das um eine die erste Achsenlinie orthogonal kreuzende zweite Achsenlinie (A2) drehbar mit dem ersten Handgelenkelement gekoppelt ist;ein drittes Handgelenkelement (30), das um eine die zweite Achsenlinie orthogonal kreuzende dritte Achsenlinie (A3) mit dem zweiten Handgelenkelement gekoppelt ist und einen Endeffektor trägt, der eine Tätigkeit in Bezug auf ein Werkstück durchführt;einen ersten Leitungskörper (62), der so verlegt ist, dass er durch das Innere des ersten Handgelenkelements, des zweiten Handgelenkelements und des dritten Handgelenkelements verläuft und an den Endeffektor angeschlossen ist; undeinen zweiten Leitungskörper (64), der so verlegt ist, dass er durch das Innere des ersten Handgelenkelements und außerhalb des zweiten Handgelenkelements und des dritten ..."
      ]
     },
     "execution_count": 77,
     "metadata": {},
     "output_type": "execute_result"
    }
   ],
   "source": [
    "# change pub_date to pub_year\n",
    "# Convert pub_date to datetime format\n",
    "# Extract the year from pub_date to create pub_year\n",
    "df_filtered['pub_year'] = df_filtered['pub_date'].dt.year\n",
    "df_filtered['text'] = df_filtered['title'] + '. ' + df_filtered['abstract']\n",
    "df_filtered[['text']].head(1)"
   ]
  },
  {
   "cell_type": "code",
   "execution_count": 78,
   "metadata": {},
   "outputs": [],
   "source": [
    "df_filtered.drop(columns=['title', 'abstract'], inplace=True)"
   ]
  },
  {
   "cell_type": "code",
   "execution_count": 79,
   "metadata": {},
   "outputs": [],
   "source": [
    "df_de = df_filtered[df_filtered['lang'] == 'de']\n",
    "df_en = df_filtered[df_filtered['lang'] == 'en']"
   ]
  },
  {
   "cell_type": "code",
   "execution_count": 80,
   "metadata": {},
   "outputs": [
    {
     "name": "stderr",
     "output_type": "stream",
     "text": [
      "C:\\Users\\paul-\\AppData\\Local\\Temp\\ipykernel_22428\\2259093244.py:1: SettingWithCopyWarning: \n",
      "A value is trying to be set on a copy of a slice from a DataFrame\n",
      "\n",
      "See the caveats in the documentation: https://pandas.pydata.org/pandas-docs/stable/user_guide/indexing.html#returning-a-view-versus-a-copy\n",
      "  df_de.drop(columns=['lang'], inplace=True)\n",
      "C:\\Users\\paul-\\AppData\\Local\\Temp\\ipykernel_22428\\2259093244.py:2: SettingWithCopyWarning: \n",
      "A value is trying to be set on a copy of a slice from a DataFrame\n",
      "\n",
      "See the caveats in the documentation: https://pandas.pydata.org/pandas-docs/stable/user_guide/indexing.html#returning-a-view-versus-a-copy\n",
      "  df_en.drop(columns=['lang'], inplace=True)\n"
     ]
    }
   ],
   "source": [
    "df_de.drop(columns=['lang'], inplace=True)\n",
    "df_en.drop(columns=['lang'], inplace=True)"
   ]
  },
  {
   "cell_type": "code",
   "execution_count": 81,
   "metadata": {
    "ExecuteTime": {
     "end_time": "2024-05-14T15:02:41.774321Z",
     "start_time": "2024-05-14T15:02:41.758652Z"
    }
   },
   "outputs": [
    {
     "name": "stdout",
     "output_type": "stream",
     "text": [
      "<class 'pandas.core.frame.DataFrame'>\n",
      "Int64Index: 2243 entries, 3450 to 5842\n",
      "Data columns (total 4 columns):\n",
      " #   Column    Non-Null Count  Dtype         \n",
      "---  ------    --------------  -----         \n",
      " 0   id        2243 non-null   int64         \n",
      " 1   pub_date  2243 non-null   datetime64[ns]\n",
      " 2   pub_year  2243 non-null   int64         \n",
      " 3   text      2243 non-null   object        \n",
      "dtypes: datetime64[ns](1), int64(2), object(1)\n",
      "memory usage: 87.6+ KB\n"
     ]
    }
   ],
   "source": [
    "df_de.info()"
   ]
  },
  {
   "cell_type": "code",
   "execution_count": 82,
   "metadata": {},
   "outputs": [
    {
     "name": "stdout",
     "output_type": "stream",
     "text": [
      "<class 'pandas.core.frame.DataFrame'>\n",
      "Int64Index: 3215 entries, 0 to 3436\n",
      "Data columns (total 4 columns):\n",
      " #   Column    Non-Null Count  Dtype         \n",
      "---  ------    --------------  -----         \n",
      " 0   id        3215 non-null   int64         \n",
      " 1   pub_date  3215 non-null   datetime64[ns]\n",
      " 2   pub_year  3215 non-null   int64         \n",
      " 3   text      3215 non-null   object        \n",
      "dtypes: datetime64[ns](1), int64(2), object(1)\n",
      "memory usage: 125.6+ KB\n"
     ]
    }
   ],
   "source": [
    "df_en.info()"
   ]
  },
  {
   "cell_type": "code",
   "execution_count": 84,
   "metadata": {
    "ExecuteTime": {
     "end_time": "2024-05-14T15:03:22.321037Z",
     "start_time": "2024-05-14T15:03:22.243488Z"
    }
   },
   "outputs": [],
   "source": [
    "df_en[['id', 'pub_year', 'text']].to_csv(europe_data_en_out_path, index=False)\n",
    "df_de[['id', 'pub_year', 'text']].to_csv(europe_data_de_out_path, index=False)"
   ]
  }
 ],
 "metadata": {
  "kernelspec": {
   "display_name": "ml_angew_programm",
   "language": "python",
   "name": "python3"
  },
  "language_info": {
   "codemirror_mode": {
    "name": "ipython",
    "version": 3
   },
   "file_extension": ".py",
   "mimetype": "text/x-python",
   "name": "python",
   "nbconvert_exporter": "python",
   "pygments_lexer": "ipython3",
   "version": "3.8.19"
  }
 },
 "nbformat": 4,
 "nbformat_minor": 2
}
