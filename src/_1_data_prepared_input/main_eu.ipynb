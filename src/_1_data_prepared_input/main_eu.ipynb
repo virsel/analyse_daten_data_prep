{
 "cells": [
  {
   "cell_type": "code",
   "execution_count": 1,
   "metadata": {
    "ExecuteTime": {
     "end_time": "2024-05-17T16:41:01.844571Z",
     "start_time": "2024-05-17T16:41:01.610266Z"
    }
   },
   "outputs": [],
   "source": [
    "import pandas as pd\n",
    "from pathlib import Path\n",
    "\n",
    "data_folder = str(Path('.') / '../../input_data')\n",
    "europe_data_path = str(Path(data_folder) / 'europe_data.xls')\n",
    "europe_data_en_out_path = \"europe_data_en.csv\"\n",
    "europe_data_de_out_path = \"europe_data_de.csv\""
   ]
  },
  {
   "cell_type": "code",
   "execution_count": 2,
   "metadata": {
    "ExecuteTime": {
     "end_time": "2024-05-17T16:41:02.177929Z",
     "start_time": "2024-05-17T16:41:01.844571Z"
    }
   },
   "outputs": [],
   "source": [
    "df = pd.read_excel(europe_data_path, header=1, usecols=['Veröffentlichungs-Nummer', 'Titel', 'Zusammenfassung', 'Veröffentlichungs-Datum'])"
   ]
  },
  {
   "cell_type": "code",
   "execution_count": 3,
   "metadata": {
    "ExecuteTime": {
     "end_time": "2024-05-17T16:41:02.197153Z",
     "start_time": "2024-05-17T16:41:02.177929Z"
    }
   },
   "outputs": [],
   "source": [
    "df.rename(columns={'Veröffentlichungs-Nummer': 'id', 'Titel': 'title', 'Zusammenfassung': 'abstract', 'Veröffentlichungs-Datum': 'pub_date'}, inplace=True)"
   ]
  },
  {
   "cell_type": "code",
   "execution_count": 4,
   "metadata": {
    "ExecuteTime": {
     "end_time": "2024-05-17T16:41:02.213248Z",
     "start_time": "2024-05-17T16:41:02.197153Z"
    }
   },
   "outputs": [],
   "source": [
    "df.dropna(subset=['abstract'], inplace=True)"
   ]
  },
  {
   "cell_type": "code",
   "execution_count": 10,
   "metadata": {
    "ExecuteTime": {
     "end_time": "2024-05-17T16:41:02.229537Z",
     "start_time": "2024-05-17T16:41:02.213855Z"
    }
   },
   "outputs": [
    {
     "name": "stdout",
     "output_type": "stream",
     "text": [
      "<class 'pandas.core.frame.DataFrame'>\n",
      "Int64Index: 6032 entries, 0 to 9999\n",
      "Data columns (total 4 columns):\n",
      " #   Column    Non-Null Count  Dtype \n",
      "---  ------    --------------  ----- \n",
      " 0   id        6032 non-null   object\n",
      " 1   pub_date  6032 non-null   object\n",
      " 2   title     6032 non-null   object\n",
      " 3   abstract  6032 non-null   object\n",
      "dtypes: object(4)\n",
      "memory usage: 235.6+ KB\n"
     ]
    }
   ],
   "source": [
    "df.info()"
   ]
  },
  {
   "cell_type": "code",
   "execution_count": 6,
   "metadata": {
    "ExecuteTime": {
     "end_time": "2024-05-17T16:41:02.245163Z",
     "start_time": "2024-05-17T16:41:02.229537Z"
    }
   },
   "outputs": [],
   "source": [
    "from arrangement import arrange_txt_de, arrange_txt_en"
   ]
  },
  {
   "cell_type": "code",
   "execution_count": 12,
   "metadata": {
    "ExecuteTime": {
     "end_time": "2024-05-17T16:41:02.260781Z",
     "start_time": "2024-05-17T16:41:02.245163Z"
    }
   },
   "outputs": [],
   "source": [
    "mask_en = df['title'].str.contains(r'\\[EN\\]') & df['abstract'].str.contains(r'\\[EN\\]')\n",
    "mask_de = df['title'].str.contains(r'\\[DE\\]') & df['abstract'].str.contains(r'\\[DE\\]')\n",
    "df_en = df[mask_en].copy()\n",
    "df_de = df[mask_de & (~mask_en)].copy()"
   ]
  },
  {
   "cell_type": "code",
   "execution_count": 13,
   "metadata": {},
   "outputs": [
    {
     "name": "stdout",
     "output_type": "stream",
     "text": [
      "<class 'pandas.core.frame.DataFrame'>\n",
      "Int64Index: 2215 entries, 0 to 9999\n",
      "Data columns (total 4 columns):\n",
      " #   Column    Non-Null Count  Dtype \n",
      "---  ------    --------------  ----- \n",
      " 0   id        2215 non-null   object\n",
      " 1   pub_date  2215 non-null   object\n",
      " 2   title     2215 non-null   object\n",
      " 3   abstract  2215 non-null   object\n",
      "dtypes: object(4)\n",
      "memory usage: 86.5+ KB\n"
     ]
    }
   ],
   "source": [
    "df_de.info()"
   ]
  },
  {
   "cell_type": "code",
   "execution_count": 14,
   "metadata": {},
   "outputs": [
    {
     "name": "stdout",
     "output_type": "stream",
     "text": [
      "<class 'pandas.core.frame.DataFrame'>\n",
      "Int64Index: 3440 entries, 36 to 9977\n",
      "Data columns (total 4 columns):\n",
      " #   Column    Non-Null Count  Dtype \n",
      "---  ------    --------------  ----- \n",
      " 0   id        3440 non-null   object\n",
      " 1   pub_date  3440 non-null   object\n",
      " 2   title     3440 non-null   object\n",
      " 3   abstract  3440 non-null   object\n",
      "dtypes: object(4)\n",
      "memory usage: 134.4+ KB\n"
     ]
    }
   ],
   "source": [
    "df_en.info()"
   ]
  },
  {
   "cell_type": "code",
   "execution_count": 8,
   "metadata": {
    "ExecuteTime": {
     "end_time": "2024-05-17T16:41:02.276427Z",
     "start_time": "2024-05-17T16:41:02.260781Z"
    }
   },
   "outputs": [
    {
     "name": "stdout",
     "output_type": "stream",
     "text": [
      "<class 'pandas.core.frame.DataFrame'>\n",
      "Int64Index: 188 entries, 135 to 9943\n",
      "Data columns (total 4 columns):\n",
      " #   Column    Non-Null Count  Dtype \n",
      "---  ------    --------------  ----- \n",
      " 0   id        188 non-null    object\n",
      " 1   pub_date  188 non-null    object\n",
      " 2   title     188 non-null    object\n",
      " 3   abstract  188 non-null    object\n",
      "dtypes: object(4)\n",
      "memory usage: 7.3+ KB\n"
     ]
    }
   ],
   "source": [
    "df[mask_de & mask_en].info()"
   ]
  },
  {
   "cell_type": "code",
   "execution_count": 9,
   "metadata": {
    "ExecuteTime": {
     "end_time": "2024-05-17T16:41:02.796514Z",
     "start_time": "2024-05-17T16:41:02.276427Z"
    }
   },
   "outputs": [],
   "source": [
    "df_en[['title', 'abstract']] = df_en[['title', 'abstract']].apply(arrange_txt_en, axis=1)\n",
    "df_de[['title', 'abstract']] = df_de[['title', 'abstract']].apply(arrange_txt_de, axis=1)"
   ]
  },
  {
   "cell_type": "code",
   "execution_count": 10,
   "metadata": {
    "ExecuteTime": {
     "end_time": "2024-05-17T16:41:02.812520Z",
     "start_time": "2024-05-17T16:41:02.796514Z"
    }
   },
   "outputs": [],
   "source": [
    "df_de['lang'] = 'de'\n",
    "df_en['lang'] = 'en'\n",
    "df = pd.concat([df_en, df_de], ignore_index=True)"
   ]
  },
  {
   "cell_type": "code",
   "execution_count": 11,
   "metadata": {
    "ExecuteTime": {
     "end_time": "2024-05-17T16:41:02.829807Z",
     "start_time": "2024-05-17T16:41:02.812520Z"
    }
   },
   "outputs": [],
   "source": [
    "df.dropna(subset=['abstract'], inplace=True)"
   ]
  },
  {
   "cell_type": "code",
   "execution_count": 12,
   "metadata": {
    "ExecuteTime": {
     "end_time": "2024-05-17T16:41:02.846448Z",
     "start_time": "2024-05-17T16:41:02.830808Z"
    }
   },
   "outputs": [
    {
     "data": {
      "text/plain": [
       "en    58.873866\n",
       "de    41.126134\n",
       "Name: lang, dtype: float64"
      ]
     },
     "execution_count": 12,
     "metadata": {},
     "output_type": "execute_result"
    }
   ],
   "source": [
    "df['lang'].value_counts() / len(df) * 100"
   ]
  },
  {
   "cell_type": "code",
   "execution_count": 13,
   "metadata": {
    "ExecuteTime": {
     "end_time": "2024-05-17T16:41:02.864559Z",
     "start_time": "2024-05-17T16:41:02.847038Z"
    }
   },
   "outputs": [],
   "source": [
    "df['pub_date'] = pd.to_datetime(df['pub_date'], format='%d.%m.%Y')"
   ]
  },
  {
   "cell_type": "code",
   "execution_count": 14,
   "metadata": {
    "ExecuteTime": {
     "end_time": "2024-05-17T16:41:02.883187Z",
     "start_time": "2024-05-17T16:41:02.865655Z"
    }
   },
   "outputs": [],
   "source": [
    "df_filtered = df.sort_values(by='pub_date', ascending=False).drop_duplicates(subset='abstract')"
   ]
  },
  {
   "cell_type": "code",
   "execution_count": 15,
   "metadata": {
    "ExecuteTime": {
     "end_time": "2024-05-17T16:41:02.897745Z",
     "start_time": "2024-05-17T16:41:02.884188Z"
    }
   },
   "outputs": [
    {
     "data": {
      "text/html": [
       "<div>\n",
       "<style scoped>\n",
       "    .dataframe tbody tr th:only-of-type {\n",
       "        vertical-align: middle;\n",
       "    }\n",
       "\n",
       "    .dataframe tbody tr th {\n",
       "        vertical-align: top;\n",
       "    }\n",
       "\n",
       "    .dataframe thead th {\n",
       "        text-align: right;\n",
       "    }\n",
       "</style>\n",
       "<table border=\"1\" class=\"dataframe\">\n",
       "  <thead>\n",
       "    <tr style=\"text-align: right;\">\n",
       "      <th></th>\n",
       "      <th>id</th>\n",
       "      <th>pub_date</th>\n",
       "      <th>title</th>\n",
       "      <th>abstract</th>\n",
       "      <th>lang</th>\n",
       "    </tr>\n",
       "  </thead>\n",
       "  <tbody>\n",
       "    <tr>\n",
       "      <th>180</th>\n",
       "      <td>WO002024056630A1</td>\n",
       "      <td>2024-03-21</td>\n",
       "      <td>RETURN DEVICE FOR RETURNING AT LEAST ONE LINE</td>\n",
       "      <td>The invention relates to a return device (100)...</td>\n",
       "      <td>en</td>\n",
       "    </tr>\n",
       "    <tr>\n",
       "      <th>3584</th>\n",
       "      <td>WO002024056630A1</td>\n",
       "      <td>2024-03-21</td>\n",
       "      <td>RÜCKSTELLVORRICHTUNG ZUM RÜCKSTELLEN ZUMINDEST...</td>\n",
       "      <td>Die Erfindung betrifft eine Rückstellvorrichtu...</td>\n",
       "      <td>de</td>\n",
       "    </tr>\n",
       "    <tr>\n",
       "      <th>3540</th>\n",
       "      <td>WO002024068793A1</td>\n",
       "      <td>2024-04-04</td>\n",
       "      <td>TABLAR, LAGERREGAL UND VERFAHREN ZUR AUTOMATIS...</td>\n",
       "      <td>Die Erfindung betrifft ein Tablar (10) für ein...</td>\n",
       "      <td>de</td>\n",
       "    </tr>\n",
       "    <tr>\n",
       "      <th>126</th>\n",
       "      <td>WO002024068793A1</td>\n",
       "      <td>2024-04-04</td>\n",
       "      <td>TRAY, STORAGE SHELF AND METHOD FOR AUTOMATICAL...</td>\n",
       "      <td>The invention relates to a tray (10) for a sto...</td>\n",
       "      <td>en</td>\n",
       "    </tr>\n",
       "    <tr>\n",
       "      <th>3500</th>\n",
       "      <td>WO002024078884A1</td>\n",
       "      <td>2024-04-18</td>\n",
       "      <td>SENSORMODUL FÜR EIN MOBILES ROBOTERSYSTEM, MOB...</td>\n",
       "      <td>Ein Sensormodul (SM) für ein mobiles Robotersy...</td>\n",
       "      <td>de</td>\n",
       "    </tr>\n",
       "    <tr>\n",
       "      <th>64</th>\n",
       "      <td>WO002024078884A1</td>\n",
       "      <td>2024-04-18</td>\n",
       "      <td>SENSOR MODULE FOR A MOBILE ROBOT SYSTEM, MOBIL...</td>\n",
       "      <td>A sensor module (SM) for a mobile robot system...</td>\n",
       "      <td>en</td>\n",
       "    </tr>\n",
       "    <tr>\n",
       "      <th>62</th>\n",
       "      <td>WO002024079265A1</td>\n",
       "      <td>2024-04-18</td>\n",
       "      <td>MULTICOPTER, AND ROBOT DEVICE FOR A MULTICOPTER</td>\n",
       "      <td>The invention relates to a multicopter compris...</td>\n",
       "      <td>en</td>\n",
       "    </tr>\n",
       "    <tr>\n",
       "      <th>3498</th>\n",
       "      <td>WO002024079265A1</td>\n",
       "      <td>2024-04-18</td>\n",
       "      <td>MULTICOPTER, SOWIE ROTOREINRICHTUNG FÜR EINEN ...</td>\n",
       "      <td>Ein Multicopter umfasst eine Mehrzahl von Roto...</td>\n",
       "      <td>de</td>\n",
       "    </tr>\n",
       "    <tr>\n",
       "      <th>35</th>\n",
       "      <td>WO002024083932A1</td>\n",
       "      <td>2024-04-25</td>\n",
       "      <td>CHANGING STATION FOR THE AUTOMATIC CHANGING OF...</td>\n",
       "      <td>The invention relates to components of a chang...</td>\n",
       "      <td>en</td>\n",
       "    </tr>\n",
       "    <tr>\n",
       "      <th>3479</th>\n",
       "      <td>WO002024083932A1</td>\n",
       "      <td>2024-04-25</td>\n",
       "      <td>WECHSELSTATION ZUM AUTOMATISCHEN WECHSELN VON ...</td>\n",
       "      <td>Es werden Komponenten einer Wechselstation zum...</td>\n",
       "      <td>de</td>\n",
       "    </tr>\n",
       "  </tbody>\n",
       "</table>\n",
       "</div>"
      ],
      "text/plain": [
       "                    id   pub_date  \\\n",
       "180   WO002024056630A1 2024-03-21   \n",
       "3584  WO002024056630A1 2024-03-21   \n",
       "3540  WO002024068793A1 2024-04-04   \n",
       "126   WO002024068793A1 2024-04-04   \n",
       "3500  WO002024078884A1 2024-04-18   \n",
       "64    WO002024078884A1 2024-04-18   \n",
       "62    WO002024079265A1 2024-04-18   \n",
       "3498  WO002024079265A1 2024-04-18   \n",
       "35    WO002024083932A1 2024-04-25   \n",
       "3479  WO002024083932A1 2024-04-25   \n",
       "\n",
       "                                                  title  \\\n",
       "180       RETURN DEVICE FOR RETURNING AT LEAST ONE LINE   \n",
       "3584  RÜCKSTELLVORRICHTUNG ZUM RÜCKSTELLEN ZUMINDEST...   \n",
       "3540  TABLAR, LAGERREGAL UND VERFAHREN ZUR AUTOMATIS...   \n",
       "126   TRAY, STORAGE SHELF AND METHOD FOR AUTOMATICAL...   \n",
       "3500  SENSORMODUL FÜR EIN MOBILES ROBOTERSYSTEM, MOB...   \n",
       "64    SENSOR MODULE FOR A MOBILE ROBOT SYSTEM, MOBIL...   \n",
       "62      MULTICOPTER, AND ROBOT DEVICE FOR A MULTICOPTER   \n",
       "3498  MULTICOPTER, SOWIE ROTOREINRICHTUNG FÜR EINEN ...   \n",
       "35    CHANGING STATION FOR THE AUTOMATIC CHANGING OF...   \n",
       "3479  WECHSELSTATION ZUM AUTOMATISCHEN WECHSELN VON ...   \n",
       "\n",
       "                                               abstract lang  \n",
       "180   The invention relates to a return device (100)...   en  \n",
       "3584  Die Erfindung betrifft eine Rückstellvorrichtu...   de  \n",
       "3540  Die Erfindung betrifft ein Tablar (10) für ein...   de  \n",
       "126   The invention relates to a tray (10) for a sto...   en  \n",
       "3500  Ein Sensormodul (SM) für ein mobiles Robotersy...   de  \n",
       "64    A sensor module (SM) for a mobile robot system...   en  \n",
       "62    The invention relates to a multicopter compris...   en  \n",
       "3498  Ein Multicopter umfasst eine Mehrzahl von Roto...   de  \n",
       "35    The invention relates to components of a chang...   en  \n",
       "3479  Es werden Komponenten einer Wechselstation zum...   de  "
      ]
     },
     "execution_count": 15,
     "metadata": {},
     "output_type": "execute_result"
    }
   ],
   "source": [
    "df_filtered[df_filtered.duplicated('id', keep=False)].sort_values('id').tail(10)"
   ]
  },
  {
   "cell_type": "code",
   "execution_count": 16,
   "metadata": {
    "ExecuteTime": {
     "end_time": "2024-05-17T16:41:02.913394Z",
     "start_time": "2024-05-17T16:41:02.898239Z"
    }
   },
   "outputs": [
    {
     "data": {
      "text/html": [
       "<div>\n",
       "<style scoped>\n",
       "    .dataframe tbody tr th:only-of-type {\n",
       "        vertical-align: middle;\n",
       "    }\n",
       "\n",
       "    .dataframe tbody tr th {\n",
       "        vertical-align: top;\n",
       "    }\n",
       "\n",
       "    .dataframe thead th {\n",
       "        text-align: right;\n",
       "    }\n",
       "</style>\n",
       "<table border=\"1\" class=\"dataframe\">\n",
       "  <thead>\n",
       "    <tr style=\"text-align: right;\">\n",
       "      <th></th>\n",
       "      <th>text</th>\n",
       "    </tr>\n",
       "  </thead>\n",
       "  <tbody>\n",
       "    <tr>\n",
       "      <th>3450</th>\n",
       "      <td>Roboter mit hohlem Handgelenkelement. Roboter ...</td>\n",
       "    </tr>\n",
       "  </tbody>\n",
       "</table>\n",
       "</div>"
      ],
      "text/plain": [
       "                                                   text\n",
       "3450  Roboter mit hohlem Handgelenkelement. Roboter ..."
      ]
     },
     "execution_count": 16,
     "metadata": {},
     "output_type": "execute_result"
    }
   ],
   "source": [
    "# change pub_date to pub_year\n",
    "# Convert pub_date to datetime format\n",
    "# Extract the year from pub_date to create pub_year\n",
    "df_filtered['pub_year'] = df_filtered['pub_date'].dt.year\n",
    "df_filtered['text'] = df_filtered['title'] + '. ' + df_filtered['abstract']\n",
    "df_filtered[['text']].head(1)"
   ]
  },
  {
   "cell_type": "code",
   "execution_count": 17,
   "metadata": {
    "ExecuteTime": {
     "end_time": "2024-05-17T16:41:02.929155Z",
     "start_time": "2024-05-17T16:41:02.914150Z"
    }
   },
   "outputs": [],
   "source": [
    "df_filtered.drop(columns=['title', 'abstract'], inplace=True)"
   ]
  },
  {
   "cell_type": "code",
   "execution_count": 18,
   "metadata": {
    "ExecuteTime": {
     "end_time": "2024-05-17T16:41:02.944785Z",
     "start_time": "2024-05-17T16:41:02.929155Z"
    }
   },
   "outputs": [],
   "source": [
    "df_de = df_filtered[df_filtered['lang'] == 'de']\n",
    "df_en = df_filtered[df_filtered['lang'] == 'en']"
   ]
  },
  {
   "cell_type": "code",
   "execution_count": 19,
   "metadata": {
    "ExecuteTime": {
     "end_time": "2024-05-17T16:41:02.960410Z",
     "start_time": "2024-05-17T16:41:02.944785Z"
    }
   },
   "outputs": [
    {
     "name": "stderr",
     "output_type": "stream",
     "text": [
      "C:\\Users\\paul-\\AppData\\Local\\Temp\\ipykernel_32156\\911583218.py:1: SettingWithCopyWarning: \n",
      "A value is trying to be set on a copy of a slice from a DataFrame\n",
      "\n",
      "See the caveats in the documentation: https://pandas.pydata.org/pandas-docs/stable/user_guide/indexing.html#returning-a-view-versus-a-copy\n",
      "  df_de.drop(columns=['lang'], inplace=True)\n",
      "C:\\Users\\paul-\\AppData\\Local\\Temp\\ipykernel_32156\\911583218.py:2: SettingWithCopyWarning: \n",
      "A value is trying to be set on a copy of a slice from a DataFrame\n",
      "\n",
      "See the caveats in the documentation: https://pandas.pydata.org/pandas-docs/stable/user_guide/indexing.html#returning-a-view-versus-a-copy\n",
      "  df_en.drop(columns=['lang'], inplace=True)\n"
     ]
    }
   ],
   "source": [
    "df_de.drop(columns=['lang'], inplace=True)\n",
    "df_en.drop(columns=['lang'], inplace=True)"
   ]
  },
  {
   "cell_type": "code",
   "execution_count": 20,
   "metadata": {
    "ExecuteTime": {
     "end_time": "2024-05-17T16:41:02.976036Z",
     "start_time": "2024-05-17T16:41:02.960410Z"
    }
   },
   "outputs": [
    {
     "name": "stdout",
     "output_type": "stream",
     "text": [
      "<class 'pandas.core.frame.DataFrame'>\n",
      "Int64Index: 2243 entries, 3450 to 5842\n",
      "Data columns (total 4 columns):\n",
      " #   Column    Non-Null Count  Dtype         \n",
      "---  ------    --------------  -----         \n",
      " 0   id        2243 non-null   object        \n",
      " 1   pub_date  2243 non-null   datetime64[ns]\n",
      " 2   pub_year  2243 non-null   int64         \n",
      " 3   text      2243 non-null   object        \n",
      "dtypes: datetime64[ns](1), int64(1), object(2)\n",
      "memory usage: 87.6+ KB\n"
     ]
    }
   ],
   "source": [
    "df_de.info()"
   ]
  },
  {
   "cell_type": "code",
   "execution_count": 21,
   "metadata": {
    "ExecuteTime": {
     "end_time": "2024-05-17T16:41:02.991661Z",
     "start_time": "2024-05-17T16:41:02.976036Z"
    }
   },
   "outputs": [
    {
     "name": "stdout",
     "output_type": "stream",
     "text": [
      "<class 'pandas.core.frame.DataFrame'>\n",
      "Int64Index: 3215 entries, 0 to 3436\n",
      "Data columns (total 4 columns):\n",
      " #   Column    Non-Null Count  Dtype         \n",
      "---  ------    --------------  -----         \n",
      " 0   id        3215 non-null   object        \n",
      " 1   pub_date  3215 non-null   datetime64[ns]\n",
      " 2   pub_year  3215 non-null   int64         \n",
      " 3   text      3215 non-null   object        \n",
      "dtypes: datetime64[ns](1), int64(1), object(2)\n",
      "memory usage: 125.6+ KB\n"
     ]
    }
   ],
   "source": [
    "df_en.info()"
   ]
  },
  {
   "cell_type": "code",
   "execution_count": 22,
   "metadata": {
    "ExecuteTime": {
     "end_time": "2024-05-17T16:41:03.054548Z",
     "start_time": "2024-05-17T16:41:02.991661Z"
    }
   },
   "outputs": [],
   "source": [
    "df_en[['id', 'pub_year', 'text']].to_csv(europe_data_en_out_path, index=False)\n",
    "df_de[['id', 'pub_year', 'text']].to_csv(europe_data_de_out_path, index=False)"
   ]
  }
 ],
 "metadata": {
  "kernelspec": {
   "display_name": "ml_angew_programm",
   "language": "python",
   "name": "python3"
  },
  "language_info": {
   "codemirror_mode": {
    "name": "ipython",
    "version": 3
   },
   "file_extension": ".py",
   "mimetype": "text/x-python",
   "name": "python",
   "nbconvert_exporter": "python",
   "pygments_lexer": "ipython3",
   "version": "3.8.19"
  }
 },
 "nbformat": 4,
 "nbformat_minor": 2
}
