{
 "cells": [
  {
   "cell_type": "code",
   "execution_count": 94,
   "metadata": {
    "ExecuteTime": {
     "end_time": "2024-05-14T15:02:25.224210Z",
     "start_time": "2024-05-14T15:02:25.208584Z"
    }
   },
   "outputs": [],
   "source": [
    "import pandas as pd\n",
    "from pathlib import Path\n",
    "\n",
    "data_folder = str(Path('.') / '../../input_data/us_ca')\n",
    "data_path1 = str(Path(data_folder) / 'trefferliste_2022.xls')\n",
    "data_path2 = str(Path(data_folder) / 'trefferliste_2023.xls')\n",
    "data_path3 = str(Path(data_folder) / 'trefferliste_2024.xls')\n",
    "data_out_path = \"us_data_en.csv\""
   ]
  },
  {
   "cell_type": "code",
   "execution_count": 79,
   "metadata": {
    "ExecuteTime": {
     "end_time": "2024-05-14T15:02:25.538271Z",
     "start_time": "2024-05-14T15:02:25.224424Z"
    }
   },
   "outputs": [],
   "source": [
    "df1 = pd.read_excel(data_path1, header=1, usecols=['Veröffentlichungs-Nummer', 'Titel', 'Zusammenfassung', 'Veröffentlichungs-Datum'])\n",
    "df2 = pd.read_excel(data_path2, header=1, usecols=['Veröffentlichungs-Nummer', 'Titel', 'Zusammenfassung', 'Veröffentlichungs-Datum'])\n",
    "df3 = pd.read_excel(data_path3, header=1, usecols=['Veröffentlichungs-Nummer', 'Titel', 'Zusammenfassung', 'Veröffentlichungs-Datum'])"
   ]
  },
  {
   "cell_type": "code",
   "execution_count": 80,
   "metadata": {},
   "outputs": [],
   "source": [
    "# concatenate the dataframes\n",
    "df = pd.concat([df1, df2, df3], ignore_index=True)"
   ]
  },
  {
   "cell_type": "code",
   "execution_count": 81,
   "metadata": {
    "ExecuteTime": {
     "end_time": "2024-05-14T15:02:25.553897Z",
     "start_time": "2024-05-14T15:02:25.538271Z"
    }
   },
   "outputs": [],
   "source": [
    "df.rename(columns={'Veröffentlichungs-Nummer': 'id', 'Titel': 'title', 'Zusammenfassung': 'abstract', 'Veröffentlichungs-Datum': 'pub_date'}, inplace=True)"
   ]
  },
  {
   "cell_type": "code",
   "execution_count": 82,
   "metadata": {
    "ExecuteTime": {
     "end_time": "2024-05-14T15:02:25.569522Z",
     "start_time": "2024-05-14T15:02:25.553897Z"
    }
   },
   "outputs": [],
   "source": [
    "df.dropna(subset=['abstract'], inplace=True)"
   ]
  },
  {
   "cell_type": "code",
   "execution_count": 83,
   "metadata": {
    "ExecuteTime": {
     "end_time": "2024-05-14T15:02:25.601157Z",
     "start_time": "2024-05-14T15:02:25.585528Z"
    }
   },
   "outputs": [],
   "source": [
    "from arrangement import arrange_txt_en"
   ]
  },
  {
   "cell_type": "code",
   "execution_count": 84,
   "metadata": {
    "ExecuteTime": {
     "end_time": "2024-05-14T15:02:25.616783Z",
     "start_time": "2024-05-14T15:02:25.601157Z"
    }
   },
   "outputs": [],
   "source": [
    "mask_en = df['title'].str.contains(r'\\[EN\\]') & df['abstract'].str.contains(r'\\[EN\\]')\n",
    "df = df[mask_en].copy()"
   ]
  },
  {
   "cell_type": "code",
   "execution_count": 85,
   "metadata": {
    "ExecuteTime": {
     "end_time": "2024-05-14T15:02:26.156649Z",
     "start_time": "2024-05-14T15:02:25.632408Z"
    }
   },
   "outputs": [],
   "source": [
    "df[['title', 'abstract']] = df[['title', 'abstract']].apply(arrange_txt_en, axis=1)"
   ]
  },
  {
   "cell_type": "code",
   "execution_count": 86,
   "metadata": {
    "ExecuteTime": {
     "end_time": "2024-05-14T15:02:26.188283Z",
     "start_time": "2024-05-14T15:02:26.172275Z"
    }
   },
   "outputs": [],
   "source": [
    "df.dropna(subset=['abstract'], inplace=True)"
   ]
  },
  {
   "cell_type": "code",
   "execution_count": 87,
   "metadata": {
    "ExecuteTime": {
     "end_time": "2024-05-14T15:02:26.219538Z",
     "start_time": "2024-05-14T15:02:26.203912Z"
    }
   },
   "outputs": [],
   "source": [
    "df['pub_date'] = pd.to_datetime(df['pub_date'], format='%d.%m.%Y')"
   ]
  },
  {
   "cell_type": "code",
   "execution_count": 88,
   "metadata": {
    "ExecuteTime": {
     "end_time": "2024-05-14T15:02:26.238796Z",
     "start_time": "2024-05-14T15:02:26.219538Z"
    }
   },
   "outputs": [],
   "source": [
    "df_filtered = df.sort_values(by='pub_date', ascending=False).drop_duplicates(subset='abstract')"
   ]
  },
  {
   "cell_type": "code",
   "execution_count": 89,
   "metadata": {},
   "outputs": [],
   "source": [
    "pd.set_option('display.max_colwidth', None)"
   ]
  },
  {
   "cell_type": "code",
   "execution_count": 90,
   "metadata": {
    "ExecuteTime": {
     "end_time": "2024-05-14T15:02:26.270047Z",
     "start_time": "2024-05-14T15:02:26.254421Z"
    }
   },
   "outputs": [],
   "source": [
    "# change pub_date to pub_year\n",
    "# Convert pub_date to datetime format\n",
    "# Extract the year from pub_date to create pub_year\n",
    "df_filtered['pub_year'] = df_filtered['pub_date'].dt.year\n",
    "df_filtered['text'] = df_filtered['title'] + '. ' + df_filtered['abstract']"
   ]
  },
  {
   "cell_type": "code",
   "execution_count": 91,
   "metadata": {},
   "outputs": [
    {
     "data": {
      "text/html": [
       "<div>\n",
       "<style scoped>\n",
       "    .dataframe tbody tr th:only-of-type {\n",
       "        vertical-align: middle;\n",
       "    }\n",
       "\n",
       "    .dataframe tbody tr th {\n",
       "        vertical-align: top;\n",
       "    }\n",
       "\n",
       "    .dataframe thead th {\n",
       "        text-align: right;\n",
       "    }\n",
       "</style>\n",
       "<table border=\"1\" class=\"dataframe\">\n",
       "  <thead>\n",
       "    <tr style=\"text-align: right;\">\n",
       "      <th></th>\n",
       "      <th>text</th>\n",
       "    </tr>\n",
       "  </thead>\n",
       "  <tbody>\n",
       "    <tr>\n",
       "      <th>8294</th>\n",
       "      <td>ROBOTIC ARM OPERATING SYSTEM. The robotic arm operating system includes a control device, a plurality of joint devices and a brake release monitoring device. The control device is used to generate an operation instruction. The joint device is coupled to the control device. Each joint device includes a motor and a driver. The drivers of the joint devices receive the operation instruction to generate corresponding multiple unlocking signals. The unlocking signals are used to release a braking state of the motors of the corresponding joint devices. The brake release monitoring device is coupled to the control device and the joint devices, and includes a plurality of monitoring circuits. When one of the plurality of monitoring circuits does not receive the corresponding unlocking signal, the brake release monitoring device notifies the control device that the operation instruction is not allowed.</td>\n",
       "    </tr>\n",
       "    <tr>\n",
       "      <th>8304</th>\n",
       "      <td>COATING DEVICE AND CORRESPONDING COATING PROCESS. The disclosure concerns a coating device and a corresponding coating process for coating components, in particular motor vehicle body components, with a coating agent (e.g. paint), with a coating robot with a first printhead which is mounted on the coating robot. The disclosure provides that the first printhead is exchangeably mounted on the coating robot and can be exchanged for a second printhead during a color change. Another variant of the disclosure, on the other hand, provides for a second printhead to be mounted on the coating robot in addition to the first printhead, the two printheads each applying a specific coating agent in order to enable a color change without changing the printhead.</td>\n",
       "    </tr>\n",
       "  </tbody>\n",
       "</table>\n",
       "</div>"
      ],
      "text/plain": [
       "                                                                                                                                                                                                                                                                                                                                                                                                                                                                                                                                                                                                                                                                                                                                                                                                                                                                                                                                           text\n",
       "8294  ROBOTIC ARM OPERATING SYSTEM. The robotic arm operating system includes a control device, a plurality of joint devices and a brake release monitoring device. The control device is used to generate an operation instruction. The joint device is coupled to the control device. Each joint device includes a motor and a driver. The drivers of the joint devices receive the operation instruction to generate corresponding multiple unlocking signals. The unlocking signals are used to release a braking state of the motors of the corresponding joint devices. The brake release monitoring device is coupled to the control device and the joint devices, and includes a plurality of monitoring circuits. When one of the plurality of monitoring circuits does not receive the corresponding unlocking signal, the brake release monitoring device notifies the control device that the operation instruction is not allowed.\n",
       "8304                                                                                                                                                        COATING DEVICE AND CORRESPONDING COATING PROCESS. The disclosure concerns a coating device and a corresponding coating process for coating components, in particular motor vehicle body components, with a coating agent (e.g. paint), with a coating robot with a first printhead which is mounted on the coating robot. The disclosure provides that the first printhead is exchangeably mounted on the coating robot and can be exchanged for a second printhead during a color change. Another variant of the disclosure, on the other hand, provides for a second printhead to be mounted on the coating robot in addition to the first printhead, the two printheads each applying a specific coating agent in order to enable a color change without changing the printhead."
      ]
     },
     "execution_count": 91,
     "metadata": {},
     "output_type": "execute_result"
    }
   ],
   "source": [
    "df_filtered[['text']].head(2)"
   ]
  },
  {
   "cell_type": "code",
   "execution_count": 92,
   "metadata": {},
   "outputs": [],
   "source": [
    "df_filtered.drop(columns=['title', 'abstract', 'pub_date'], inplace=True)"
   ]
  },
  {
   "cell_type": "code",
   "execution_count": 95,
   "metadata": {
    "ExecuteTime": {
     "end_time": "2024-05-14T15:03:22.321037Z",
     "start_time": "2024-05-14T15:03:22.243488Z"
    }
   },
   "outputs": [],
   "source": [
    "df_filtered[['id', 'pub_year', 'text']].to_csv(data_out_path, index=False)"
   ]
  }
 ],
 "metadata": {
  "kernelspec": {
   "display_name": "ml_angew_programm",
   "language": "python",
   "name": "python3"
  },
  "language_info": {
   "codemirror_mode": {
    "name": "ipython",
    "version": 3
   },
   "file_extension": ".py",
   "mimetype": "text/x-python",
   "name": "python",
   "nbconvert_exporter": "python",
   "pygments_lexer": "ipython3",
   "version": "3.8.19"
  }
 },
 "nbformat": 4,
 "nbformat_minor": 2
}
