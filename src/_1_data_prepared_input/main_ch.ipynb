{
 "cells": [
  {
   "cell_type": "code",
   "execution_count": 21,
   "metadata": {
    "ExecuteTime": {
     "end_time": "2024-05-14T15:02:25.224210Z",
     "start_time": "2024-05-14T15:02:25.208584Z"
    }
   },
   "outputs": [],
   "source": [
    "import pandas as pd\n",
    "from pathlib import Path\n",
    "\n",
    "data_folder = str(Path('.') / '../../input_data/ch')\n",
    "data_path1 = str(Path(data_folder) / '2022.xls')\n",
    "data_path2 = str(Path(data_folder) / '2023.xls')\n",
    "data_path3 = str(Path(data_folder) / '2024.xls')\n",
    "data_out_path = \"ch_data_en.csv\""
   ]
  },
  {
   "cell_type": "code",
   "execution_count": 22,
   "metadata": {
    "ExecuteTime": {
     "end_time": "2024-05-14T15:02:25.538271Z",
     "start_time": "2024-05-14T15:02:25.224424Z"
    }
   },
   "outputs": [],
   "source": [
    "df1 = pd.read_excel(data_path1, header=1, usecols=['Veröffentlichungs-Nummer', 'Titel', 'Zusammenfassung', 'Veröffentlichungs-Datum'])\n",
    "df2 = pd.read_excel(data_path2, header=1, usecols=['Veröffentlichungs-Nummer', 'Titel', 'Zusammenfassung', 'Veröffentlichungs-Datum'])\n",
    "df3 = pd.read_excel(data_path3, header=1, usecols=['Veröffentlichungs-Nummer', 'Titel', 'Zusammenfassung', 'Veröffentlichungs-Datum'])"
   ]
  },
  {
   "cell_type": "code",
   "execution_count": 23,
   "metadata": {},
   "outputs": [],
   "source": [
    "# concatenate the dataframes\n",
    "df = pd.concat([df1, df2, df3], ignore_index=True)"
   ]
  },
  {
   "cell_type": "code",
   "execution_count": 24,
   "metadata": {
    "ExecuteTime": {
     "end_time": "2024-05-14T15:02:25.553897Z",
     "start_time": "2024-05-14T15:02:25.538271Z"
    }
   },
   "outputs": [],
   "source": [
    "df.rename(columns={'Veröffentlichungs-Nummer': 'id', 'Titel': 'title', 'Zusammenfassung': 'abstract', 'Veröffentlichungs-Datum': 'pub_date'}, inplace=True)"
   ]
  },
  {
   "cell_type": "code",
   "execution_count": 25,
   "metadata": {
    "ExecuteTime": {
     "end_time": "2024-05-14T15:02:25.569522Z",
     "start_time": "2024-05-14T15:02:25.553897Z"
    }
   },
   "outputs": [],
   "source": [
    "df.dropna(subset=['abstract'], inplace=True)"
   ]
  },
  {
   "cell_type": "code",
   "execution_count": 26,
   "metadata": {
    "ExecuteTime": {
     "end_time": "2024-05-14T15:02:25.601157Z",
     "start_time": "2024-05-14T15:02:25.585528Z"
    }
   },
   "outputs": [],
   "source": [
    "from arrangement import arrange_txt_en"
   ]
  },
  {
   "cell_type": "code",
   "execution_count": 27,
   "metadata": {
    "ExecuteTime": {
     "end_time": "2024-05-14T15:02:25.616783Z",
     "start_time": "2024-05-14T15:02:25.601157Z"
    }
   },
   "outputs": [],
   "source": [
    "mask_en = df['title'].str.contains(r'\\[EN\\]') & df['abstract'].str.contains(r'\\[EN\\]')\n",
    "df = df[mask_en].copy()"
   ]
  },
  {
   "cell_type": "code",
   "execution_count": 28,
   "metadata": {
    "ExecuteTime": {
     "end_time": "2024-05-14T15:02:26.156649Z",
     "start_time": "2024-05-14T15:02:25.632408Z"
    }
   },
   "outputs": [],
   "source": [
    "df[['title', 'abstract']] = df[['title', 'abstract']].apply(arrange_txt_en, axis=1)"
   ]
  },
  {
   "cell_type": "code",
   "execution_count": 29,
   "metadata": {
    "ExecuteTime": {
     "end_time": "2024-05-14T15:02:26.188283Z",
     "start_time": "2024-05-14T15:02:26.172275Z"
    }
   },
   "outputs": [],
   "source": [
    "df.dropna(subset=['abstract'], inplace=True)"
   ]
  },
  {
   "cell_type": "code",
   "execution_count": 31,
   "metadata": {
    "ExecuteTime": {
     "end_time": "2024-05-14T15:02:26.219538Z",
     "start_time": "2024-05-14T15:02:26.203912Z"
    }
   },
   "outputs": [],
   "source": [
    "df['pub_date'] = pd.to_datetime(df['pub_date'], format='%d.%m.%Y')"
   ]
  },
  {
   "cell_type": "code",
   "execution_count": 32,
   "metadata": {
    "ExecuteTime": {
     "end_time": "2024-05-14T15:02:26.238796Z",
     "start_time": "2024-05-14T15:02:26.219538Z"
    }
   },
   "outputs": [],
   "source": [
    "df_filtered = df.sort_values(by='pub_date', ascending=False).drop_duplicates(subset='abstract')"
   ]
  },
  {
   "cell_type": "code",
   "execution_count": 33,
   "metadata": {},
   "outputs": [],
   "source": [
    "pd.set_option('display.max_colwidth', None)"
   ]
  },
  {
   "cell_type": "code",
   "execution_count": 36,
   "metadata": {},
   "outputs": [],
   "source": [
    "df_filtered['pub_date'] = df_filtered['pub_date'].dt.to_period('M')"
   ]
  },
  {
   "cell_type": "code",
   "execution_count": 38,
   "metadata": {},
   "outputs": [],
   "source": [
    "start_date = '2022-01'\n",
    "end_date = '2024-04'\n",
    "df_t = df_filtered[(df_filtered['pub_date'] >= start_date) & (df_filtered['pub_date'] <= end_date)]"
   ]
  },
  {
   "cell_type": "code",
   "execution_count": 41,
   "metadata": {},
   "outputs": [
    {
     "name": "stdout",
     "output_type": "stream",
     "text": [
      "<class 'pandas.core.frame.DataFrame'>\n",
      "Int64Index: 27005 entries, 20065 to 9999\n",
      "Data columns (total 4 columns):\n",
      " #   Column    Non-Null Count  Dtype    \n",
      "---  ------    --------------  -----    \n",
      " 0   id        27005 non-null  object   \n",
      " 1   pub_date  27005 non-null  period[M]\n",
      " 2   title     27005 non-null  object   \n",
      " 3   abstract  27005 non-null  object   \n",
      "dtypes: object(3), period[M](1)\n",
      "memory usage: 1.0+ MB\n"
     ]
    }
   ],
   "source": [
    "df_t.info()"
   ]
  },
  {
   "cell_type": "code",
   "execution_count": 37,
   "metadata": {},
   "outputs": [
    {
     "data": {
      "text/plain": [
       "20011    2024-05\n",
       "20007    2024-05\n",
       "20015    2024-05\n",
       "20014    2024-05\n",
       "20013    2024-05\n",
       "          ...   \n",
       "9927     2022-01\n",
       "9926     2022-01\n",
       "9925     2022-01\n",
       "9924     2022-01\n",
       "9999     2022-01\n",
       "Name: pub_date, Length: 27059, dtype: period[M]"
      ]
     },
     "execution_count": 37,
     "metadata": {},
     "output_type": "execute_result"
    }
   ],
   "source": [
    "df_filtered['pub_date']"
   ]
  },
  {
   "cell_type": "code",
   "execution_count": 28,
   "metadata": {
    "ExecuteTime": {
     "end_time": "2024-05-14T15:02:26.270047Z",
     "start_time": "2024-05-14T15:02:26.254421Z"
    }
   },
   "outputs": [],
   "source": [
    "# change pub_date to pub_year\n",
    "# Convert pub_date to datetime format\n",
    "# Extract the year from pub_date to create pub_year\n",
    "df_filtered['pub_year'] = df_filtered['pub_date'].dt.year\n",
    "df_filtered['text'] = df_filtered['title'] + '. ' + df_filtered['abstract']"
   ]
  },
  {
   "cell_type": "code",
   "execution_count": 29,
   "metadata": {},
   "outputs": [
    {
     "data": {
      "text/html": [
       "<div>\n",
       "<style scoped>\n",
       "    .dataframe tbody tr th:only-of-type {\n",
       "        vertical-align: middle;\n",
       "    }\n",
       "\n",
       "    .dataframe tbody tr th {\n",
       "        vertical-align: top;\n",
       "    }\n",
       "\n",
       "    .dataframe thead th {\n",
       "        text-align: right;\n",
       "    }\n",
       "</style>\n",
       "<table border=\"1\" class=\"dataframe\">\n",
       "  <thead>\n",
       "    <tr style=\"text-align: right;\">\n",
       "      <th></th>\n",
       "      <th>text</th>\n",
       "    </tr>\n",
       "  </thead>\n",
       "  <tbody>\n",
       "    <tr>\n",
       "      <th>20013</th>\n",
       "      <td>METHOD FOR DYNAMIC TARGET TRACKING BY LEGGED ROBOT. Disclosed in the present invention is a method for dynamic target tracking by a legged robot. Firstly, images and videos in walking processes of pedestrians wearing masks, not wearing masks, and incorrectly wearing masks are collected to build a data set used for pedestrian mask wearing detection. Secondly, a target recognition module based on a recurrent neural network is used to determine whether a pedestrian wears a mask, and acquire face position coordinates of a pedestrian not wearing a mask in a current frame. Thirdly, a residual network is used as a reference network to extract a face semantic feature of the pedestrian not wearing a mask in the current image frame, and predict a face semantic feature of the pedestrian in a next image frame. Finally, a target tracking module based on a siamese network is designed to, by calculating a correlation coefficient between pedestrian face position semantic feature mapping in the current frame and the next frame, track the pedestrian ...</td>\n",
       "    </tr>\n",
       "    <tr>\n",
       "      <th>20008</th>\n",
       "      <td>OPERATION AND MAINTENANCE ROBOT. An operation and maintenance robot (100), comprising: an operation and maintenance robot body (10); first support members (20, 20a) each comprising a first support body (21) and a connection part (22), the connection part (22) being fixedly arranged on the first support body (21), and the first support body (21) being fixed to the operation and maintenance robot body (10); second support members (30, 30a) each comprising a second support body (31), a first sliding part (32a) and a second sliding part (32b), the second support body (31) comprising a first side surface and a second side surface, the first sliding part (32a) being fixedly arranged on the first side surface, the second sliding part (32b) being fixedly arranged on the second side surface, and the first sliding part (32a) being slidably connected to the connection part (22), such that the second support members (30, 30a) are close to or away from the operation and maintenance robot body (10) relative to the first support ...</td>\n",
       "    </tr>\n",
       "  </tbody>\n",
       "</table>\n",
       "</div>"
      ],
      "text/plain": [
       "                                                                                                                                                                                                                                                                                                                                                                                                                                                                                                                                                                                                                                                                                                                                                                                                                                                                                                                                                                                                                                                                                              text\n",
       "20013  METHOD FOR DYNAMIC TARGET TRACKING BY LEGGED ROBOT. Disclosed in the present invention is a method for dynamic target tracking by a legged robot. Firstly, images and videos in walking processes of pedestrians wearing masks, not wearing masks, and incorrectly wearing masks are collected to build a data set used for pedestrian mask wearing detection. Secondly, a target recognition module based on a recurrent neural network is used to determine whether a pedestrian wears a mask, and acquire face position coordinates of a pedestrian not wearing a mask in a current frame. Thirdly, a residual network is used as a reference network to extract a face semantic feature of the pedestrian not wearing a mask in the current image frame, and predict a face semantic feature of the pedestrian in a next image frame. Finally, a target tracking module based on a siamese network is designed to, by calculating a correlation coefficient between pedestrian face position semantic feature mapping in the current frame and the next frame, track the pedestrian ...\n",
       "20008                    OPERATION AND MAINTENANCE ROBOT. An operation and maintenance robot (100), comprising: an operation and maintenance robot body (10); first support members (20, 20a) each comprising a first support body (21) and a connection part (22), the connection part (22) being fixedly arranged on the first support body (21), and the first support body (21) being fixed to the operation and maintenance robot body (10); second support members (30, 30a) each comprising a second support body (31), a first sliding part (32a) and a second sliding part (32b), the second support body (31) comprising a first side surface and a second side surface, the first sliding part (32a) being fixedly arranged on the first side surface, the second sliding part (32b) being fixedly arranged on the second side surface, and the first sliding part (32a) being slidably connected to the connection part (22), such that the second support members (30, 30a) are close to or away from the operation and maintenance robot body (10) relative to the first support ..."
      ]
     },
     "execution_count": 29,
     "metadata": {},
     "output_type": "execute_result"
    }
   ],
   "source": [
    "df_filtered[['text']].head(2)"
   ]
  },
  {
   "cell_type": "code",
   "execution_count": 30,
   "metadata": {},
   "outputs": [],
   "source": [
    "df_filtered.drop(columns=['title', 'abstract', 'pub_date'], inplace=True)"
   ]
  },
  {
   "cell_type": "code",
   "execution_count": 32,
   "metadata": {
    "ExecuteTime": {
     "end_time": "2024-05-14T15:03:22.321037Z",
     "start_time": "2024-05-14T15:03:22.243488Z"
    }
   },
   "outputs": [],
   "source": [
    "df_filtered[['id', 'pub_year', 'text']].to_csv(data_out_path, index=False)"
   ]
  }
 ],
 "metadata": {
  "kernelspec": {
   "display_name": "ml_angew_programm",
   "language": "python",
   "name": "python3"
  },
  "language_info": {
   "codemirror_mode": {
    "name": "ipython",
    "version": 3
   },
   "file_extension": ".py",
   "mimetype": "text/x-python",
   "name": "python",
   "nbconvert_exporter": "python",
   "pygments_lexer": "ipython3",
   "version": "3.8.19"
  }
 },
 "nbformat": 4,
 "nbformat_minor": 2
}
