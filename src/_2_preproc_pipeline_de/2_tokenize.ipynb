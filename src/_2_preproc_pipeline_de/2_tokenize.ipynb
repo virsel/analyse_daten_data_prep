{
 "cells": [
  {
   "cell_type": "code",
   "execution_count": 13,
   "metadata": {
    "ExecuteTime": {
     "end_time": "2024-05-11T11:44:15.870656Z",
     "start_time": "2024-05-11T11:44:14.899011Z"
    }
   },
   "outputs": [],
   "source": [
    "import pandas as pd\n",
    "\n",
    "data_path = \"data_preprocessed/1_europe_txt_cleaning.csv\"\n",
    "df = pd.read_csv(data_path)"
   ]
  },
  {
   "cell_type": "code",
   "execution_count": 14,
   "metadata": {
    "ExecuteTime": {
     "end_time": "2024-05-11T11:44:15.889027Z",
     "start_time": "2024-05-11T11:44:15.870656Z"
    }
   },
   "outputs": [
    {
     "name": "stdout",
     "output_type": "stream",
     "text": [
      "<class 'pandas.core.frame.DataFrame'>\n",
      "RangeIndex: 2243 entries, 0 to 2242\n",
      "Data columns (total 3 columns):\n",
      " #   Column         Non-Null Count  Dtype \n",
      "---  ------         --------------  ----- \n",
      " 0   id             2243 non-null   int64 \n",
      " 1   pub_year       2243 non-null   int64 \n",
      " 2   text_preproc1  2243 non-null   object\n",
      "dtypes: int64(2), object(1)\n",
      "memory usage: 52.7+ KB\n"
     ]
    }
   ],
   "source": [
    "df.info()"
   ]
  },
  {
   "cell_type": "code",
   "execution_count": 15,
   "metadata": {
    "ExecuteTime": {
     "end_time": "2024-05-11T11:44:19.078195Z",
     "start_time": "2024-05-11T11:44:15.889027Z"
    }
   },
   "outputs": [],
   "source": [
    "import sys\n",
    "sys.path.append('../..')\n",
    "\n",
    "from src.moduls.pipeline_de import spacy_tokenize"
   ]
  },
  {
   "cell_type": "code",
   "execution_count": 16,
   "metadata": {
    "ExecuteTime": {
     "end_time": "2024-05-11T11:44:19.078195Z",
     "start_time": "2024-05-11T11:44:19.078195Z"
    }
   },
   "outputs": [
    {
     "data": {
      "application/vnd.jupyter.widget-view+json": {
       "model_id": "25cec6c5ace043ee8727ff389a72f0ab",
       "version_major": 2,
       "version_minor": 0
      },
      "text/plain": [
       "SPACY_TOKENIZE DONE:   0%|          | 0/2243 [00:00<?, ?it/s]"
      ]
     },
     "metadata": {},
     "output_type": "display_data"
    }
   ],
   "source": [
    "from parallel_pandas import ParallelPandas\n",
    "\n",
    "#initialize parallel-pandas\n",
    "ParallelPandas.initialize(n_cpu=20, split_factor=1, disable_pr_bar=False)\n",
    "\n",
    "df['text_preproc2'] = df['text_preproc1'].p_apply(spacy_tokenize)"
   ]
  },
  {
   "cell_type": "code",
   "execution_count": 17,
   "metadata": {},
   "outputs": [
    {
     "data": {
      "text/html": [
       "<div>\n",
       "<style scoped>\n",
       "    .dataframe tbody tr th:only-of-type {\n",
       "        vertical-align: middle;\n",
       "    }\n",
       "\n",
       "    .dataframe tbody tr th {\n",
       "        vertical-align: top;\n",
       "    }\n",
       "\n",
       "    .dataframe thead th {\n",
       "        text-align: right;\n",
       "    }\n",
       "</style>\n",
       "<table border=\"1\" class=\"dataframe\">\n",
       "  <thead>\n",
       "    <tr style=\"text-align: right;\">\n",
       "      <th></th>\n",
       "      <th>text_preproc1</th>\n",
       "      <th>text_preproc2</th>\n",
       "    </tr>\n",
       "  </thead>\n",
       "  <tbody>\n",
       "    <tr>\n",
       "      <th>0</th>\n",
       "      <td>Roboter mit hohlem Handgelenkelement. Roboter, umfassend: ein hohles erstes Handgelenkelement, das um eine erste Achsenlinie drehbar mit einem vorderen Ende eines Roboterarms gekoppelt ist, ein hohles zweites Handgelenkelement, das um eine die erste Achsenlinie orthogonal kreuzende zweite Achsenlinie drehbar mit dem ersten Handgelenkelement gekoppelt ist, ein drittes Handgelenkelement, das um eine die zweite Achsenlinie orthogonal kreuzende dritte Achsenlinie mit dem zweiten Handgelenkelement gekoppelt ist und einen Endeffektor trägt, der eine Tätigkeit in Bezug auf ein Werkstück durchführt, einen ersten Leitungskörper, der so verlegt ist, dass er durch das Innere des ersten Handgelenkelements, des zweiten Handgelenkelements und des dritten Handgelenkelements verläuft und an den Endeffektor angeschlossen ist, undeinen zweiten Leitungskörper, der so verlegt ist, dass er durch das Innere des ersten Handgelenkelements und außerhalb des zweiten Handgelenkelements und des dritten.</td>\n",
       "      <td>roboter hohl handgelenkelement roboter umfassend hohl handgelenkelement achsenlinie drehbar vorderer roboterarm koppeln hohl handgelenkelement achsenlinie orthogonal kreuzend achsenlinie drehbar handgelenkelement koppeln handgelenkelement achsenlinie orthogonal kreuzend achsenlinie handgelenkelement koppeln endeffektor tragen tätigkeit bezug werkstück durchführen leitungskörper verlegen innere handgelenkelement verlaufen endeffektor anschließen undein leitungskörper verlegen innere handgelenkelement</td>\n",
       "    </tr>\n",
       "    <tr>\n",
       "      <th>1</th>\n",
       "      <td>Wellgetriebe für einen Roboter sowie Roboter mit einem Wellgetriebe. Die Erfindung betrifft ein Wellgetriebe für einen Roboter, umfassend ein von einem Wellgenerator umlaufend in radialer Richtung verformbares, flexibles Ringelement mit einer Außenverzahnung und ein starres Ringelement mit einer Innenverzahnung, wobei die Außenverzahnung des flexiblen Ringelements zur Übertragung eines Drehmoments an mindestens einem Zahneingriffsbereich mit der Innenverzahnung des starren Ringelements im Zahneingriff steht, wobei der Wellgenerator einen unrund ausgebildeten Innenring und einen umlaufend in radialer Richtung verformbaren, flexiblen Außenring umfasst, wobei der Innenring zumindest teilweise in das flexible Ringelement hineinragt und zumindest mittelbar drehfest mit einer Welle verbunden ist, wobei der flexible Außenring an einem Innenumfang des flexiblen Ringelements angeordnet ist, und wobei das Wellgetriebe eine Temperatursensoreinrichtung mit wenigstens.</td>\n",
       "      <td>wellgetrieb roboter wellgetriebe erfindung betreffen wellgetriebe roboter umfassend wellgenerator umlaufend radial richtung verformbar flexibl ringelement außenverzahnung starr ringelement innenverzahnung außenverzahnung flexibl ringelement übertragung drehmoment zahneingriffsbereich innenverzahnung starr ringelement zahneingriff stehen wellgenerator unrund ausgebildet innenring umlaufend radial richtung verformbar flexibl außenring umfassen innenring flexibel ringelement hineinragen mittelbar drehfest welle verbinden flexibel außenring innenumfang flexibl ringelement anordnen wellgetriebe temperatursensoreinrichtung</td>\n",
       "    </tr>\n",
       "    <tr>\n",
       "      <th>2</th>\n",
       "      <td>Robotersystem mit einer Vielzahl von vernetzten Controllern. Ein Robotersystem, das es ermöglicht, eine einzige Einlernkonsole zu verwenden, um mühelose eine Vielzahl von Robotern einzulernen. Das Robotersystem umfasst eine Vielzahl von Roboter Controllern, die über ein Netzwerk verbunden sind, und eine einzige Einlernkonsole. Die Einlernkonsole ist konfiguriert, um in der Lage zu sein, mit einem der Roboter Controller selektiv zu kommunizieren. Der Roboter Controller ist konfiguriert, um eine Verbindungsanfrage an die Einlernkonsole zu senden, wenn beurteilt wird, dass der Zustand des Roboters auf die Einlernphase oder Wartungsphase umgeschaltet wurde. Die Einlernkonsole ist konfiguriert, um auf eine Verbindungsanfrage von dem Roboter Controller zu antworten und die Ziele umzuschalten, um eine Kommunikation mit dem Roboter Controller zu ermöglichen.</td>\n",
       "      <td>robotersystem vielzahl vernetzt controllern robotersystem ermöglichen einzig einlernkonsole verwenden mühelos vielzahl roboter einzulernen robotersystem umfassen vielzahl roboter controllern netzwerk verbinden einzig einlernkonsole konfigurieren lage roboter controller selektiv kommunizieren roboter controller konfigurieren verbindungsanfrage einlernkonsole senden beurteilen zustand roboter einlernphase wartungsphase umgeschaltet einlernkonsole konfigurieren verbindungsanfrage roboter controller antworten ziel umschalten kommunikation roboter controller ermöglichen</td>\n",
       "    </tr>\n",
       "    <tr>\n",
       "      <th>3</th>\n",
       "      <td>Massedaten Schätzung einer externen Last für einen Robotermanipulator. Verfahren zum Schätzen von Massedaten von einer an einem distalen Ende des Robotermanipulators aufzunehmenden externen Last, aufweisend die Schritte: Aufnehmen eines Bildes von der Last durch eine Kameraeinheit, Übermitteln von Bilddaten aus dem aufgenommenen Bild an eine Recheneinheit, Ermitteln einer Schätzung einer räumlichen Ausdehnung der Last durch Auswerten von räumlichen Informationen in den Bilddaten durch die Recheneinheit, Ermitteln einer Schätzung eines Stoffes der Last mit Bilddaten des Bildes als Eingangsgröße einer Bilderkennungsfunktion oder aus einer Vorgabe eines Anwenders, jeweils durch die Recheneinheit, und Ermitteln einer Schätzung einer Masse der Last und oder eines Trägheitstensors der Last auf Basis der Schätzung der räumlichen Ausdehnung der Last und auf Basis einer aus dem geschätzten Stoff ermittelten Dichte der Last durch die Recheneinheit.</td>\n",
       "      <td>massedat schätzung extern last robotermanipulator verfahren schätzen massedat distal robotermanipulator aufzunehmend extern last aufweisend schritt aufnehmen bild last kameraeinheit übermitteln bilddat aufgenommen bild recheneinheit ermitteln schätzung räumlich ausdehnung last auswerten räumlich information bilddat recheneinheit ermitteln schätzung stoff last bilddat bild eingangsgröße bilderkennungsfunktion vorgabe anwender recheneinheit ermitteln schätzung masse last trägheitstensor last basis schätzung räumlich ausdehnung last basis geschätzt stoff ermittelt dichte last recheneinheit</td>\n",
       "    </tr>\n",
       "    <tr>\n",
       "      <th>4</th>\n",
       "      <td>Fügesystem mit robotergeführtem Fügeprozessgerät sowie zugehöriges Betriebsverfahren für das Fügesystem. Fügesystem, umfassend: ein Fügeprozessgerät zur Durchführung eines Fügeprozesses an Bauteilen unter Berücksichtigung vorgegebener Fügeparameter, einen Roboter zum Bewegen des Fügeprozessgerätes längs eines durch Bewegungsparameter vorgegebenen Bewegungspfades, wobei ein Positionsregler des Roboters dazu eingerichtet ist, für eine geometrische Sollbauteilesituation ausgelegte Bewegungsparameter zu empfangen und zu speichern, und eine Erfassungsvorrichtung zur Erfassung von während des Fügeprozesses erzeugten, aktuellen Prozessparametern, wobeieine Auswertevorrichtung vorhanden ist, welche dazu ausgebildet ist, anhand der erfassten Prozessparameter eine tatsächliche, aktuelle geometrische Bauteilesituation zu ermitteln, undeine Regelvorrichtung vorhanden ist, welche dazu ausgebildet ist, basierend auf der aktuellen geometrischen Bauteilesituation angepasste Bewegungsparameter für den Bewegungspfad.</td>\n",
       "      <td>fügesystem robotergeführt fügeprozessgerät zugehörig betriebsverfahr fügesystem umfassend fügeprozessgerät durchführung fügeprozess bauteil berücksichtigung vorgegeben fügeparameter roboter bewegen fügeprozessgerät bewegungsparameter vorgegeben bewegungspfad positionsregler roboter einrichten geometrisch sollbauteilesituation ausgelegt bewegungsparameter empfangen speichern erfassungsvorrichtung erfassung fügeprozess erzeugt aktuell prozessparameter wobeiein auswertevorrichtung vorhanden ausbilden erfasst prozessparameter tatsächlich aktuell geometrisch bauteilesituation ermitteln undein regelvorrichtung vorhanden ausbilden basierend aktuell geometrisch bauteilesituation angepasst bewegungsparameter bewegungspfad</td>\n",
       "    </tr>\n",
       "  </tbody>\n",
       "</table>\n",
       "</div>"
      ],
      "text/plain": [
       "                                                                                                                                                                                                                                                                                                                                                                                                                                                                                                                                                                                                                                                                                                                                                                                                                                                                                                                                                                                                                                            text_preproc1  \\\n",
       "0                          Roboter mit hohlem Handgelenkelement. Roboter, umfassend: ein hohles erstes Handgelenkelement, das um eine erste Achsenlinie drehbar mit einem vorderen Ende eines Roboterarms gekoppelt ist, ein hohles zweites Handgelenkelement, das um eine die erste Achsenlinie orthogonal kreuzende zweite Achsenlinie drehbar mit dem ersten Handgelenkelement gekoppelt ist, ein drittes Handgelenkelement, das um eine die zweite Achsenlinie orthogonal kreuzende dritte Achsenlinie mit dem zweiten Handgelenkelement gekoppelt ist und einen Endeffektor trägt, der eine Tätigkeit in Bezug auf ein Werkstück durchführt, einen ersten Leitungskörper, der so verlegt ist, dass er durch das Innere des ersten Handgelenkelements, des zweiten Handgelenkelements und des dritten Handgelenkelements verläuft und an den Endeffektor angeschlossen ist, undeinen zweiten Leitungskörper, der so verlegt ist, dass er durch das Innere des ersten Handgelenkelements und außerhalb des zweiten Handgelenkelements und des dritten.   \n",
       "1                                              Wellgetriebe für einen Roboter sowie Roboter mit einem Wellgetriebe. Die Erfindung betrifft ein Wellgetriebe für einen Roboter, umfassend ein von einem Wellgenerator umlaufend in radialer Richtung verformbares, flexibles Ringelement mit einer Außenverzahnung und ein starres Ringelement mit einer Innenverzahnung, wobei die Außenverzahnung des flexiblen Ringelements zur Übertragung eines Drehmoments an mindestens einem Zahneingriffsbereich mit der Innenverzahnung des starren Ringelements im Zahneingriff steht, wobei der Wellgenerator einen unrund ausgebildeten Innenring und einen umlaufend in radialer Richtung verformbaren, flexiblen Außenring umfasst, wobei der Innenring zumindest teilweise in das flexible Ringelement hineinragt und zumindest mittelbar drehfest mit einer Welle verbunden ist, wobei der flexible Außenring an einem Innenumfang des flexiblen Ringelements angeordnet ist, und wobei das Wellgetriebe eine Temperatursensoreinrichtung mit wenigstens.   \n",
       "2                                                                                                                                                          Robotersystem mit einer Vielzahl von vernetzten Controllern. Ein Robotersystem, das es ermöglicht, eine einzige Einlernkonsole zu verwenden, um mühelose eine Vielzahl von Robotern einzulernen. Das Robotersystem umfasst eine Vielzahl von Roboter Controllern, die über ein Netzwerk verbunden sind, und eine einzige Einlernkonsole. Die Einlernkonsole ist konfiguriert, um in der Lage zu sein, mit einem der Roboter Controller selektiv zu kommunizieren. Der Roboter Controller ist konfiguriert, um eine Verbindungsanfrage an die Einlernkonsole zu senden, wenn beurteilt wird, dass der Zustand des Roboters auf die Einlernphase oder Wartungsphase umgeschaltet wurde. Die Einlernkonsole ist konfiguriert, um auf eine Verbindungsanfrage von dem Roboter Controller zu antworten und die Ziele umzuschalten, um eine Kommunikation mit dem Roboter Controller zu ermöglichen.   \n",
       "3                                                                Massedaten Schätzung einer externen Last für einen Robotermanipulator. Verfahren zum Schätzen von Massedaten von einer an einem distalen Ende des Robotermanipulators aufzunehmenden externen Last, aufweisend die Schritte: Aufnehmen eines Bildes von der Last durch eine Kameraeinheit, Übermitteln von Bilddaten aus dem aufgenommenen Bild an eine Recheneinheit, Ermitteln einer Schätzung einer räumlichen Ausdehnung der Last durch Auswerten von räumlichen Informationen in den Bilddaten durch die Recheneinheit, Ermitteln einer Schätzung eines Stoffes der Last mit Bilddaten des Bildes als Eingangsgröße einer Bilderkennungsfunktion oder aus einer Vorgabe eines Anwenders, jeweils durch die Recheneinheit, und Ermitteln einer Schätzung einer Masse der Last und oder eines Trägheitstensors der Last auf Basis der Schätzung der räumlichen Ausdehnung der Last und auf Basis einer aus dem geschätzten Stoff ermittelten Dichte der Last durch die Recheneinheit.   \n",
       "4  Fügesystem mit robotergeführtem Fügeprozessgerät sowie zugehöriges Betriebsverfahren für das Fügesystem. Fügesystem, umfassend: ein Fügeprozessgerät zur Durchführung eines Fügeprozesses an Bauteilen unter Berücksichtigung vorgegebener Fügeparameter, einen Roboter zum Bewegen des Fügeprozessgerätes längs eines durch Bewegungsparameter vorgegebenen Bewegungspfades, wobei ein Positionsregler des Roboters dazu eingerichtet ist, für eine geometrische Sollbauteilesituation ausgelegte Bewegungsparameter zu empfangen und zu speichern, und eine Erfassungsvorrichtung zur Erfassung von während des Fügeprozesses erzeugten, aktuellen Prozessparametern, wobeieine Auswertevorrichtung vorhanden ist, welche dazu ausgebildet ist, anhand der erfassten Prozessparameter eine tatsächliche, aktuelle geometrische Bauteilesituation zu ermitteln, undeine Regelvorrichtung vorhanden ist, welche dazu ausgebildet ist, basierend auf der aktuellen geometrischen Bauteilesituation angepasste Bewegungsparameter für den Bewegungspfad.   \n",
       "\n",
       "                                                                                                                                                                                                                                                                                                                                                                                                                                                                                                                                                                                                                                                                                                                                        text_preproc2  \n",
       "0                                                                                                                                                                                                                            roboter hohl handgelenkelement roboter umfassend hohl handgelenkelement achsenlinie drehbar vorderer roboterarm koppeln hohl handgelenkelement achsenlinie orthogonal kreuzend achsenlinie drehbar handgelenkelement koppeln handgelenkelement achsenlinie orthogonal kreuzend achsenlinie handgelenkelement koppeln endeffektor tragen tätigkeit bezug werkstück durchführen leitungskörper verlegen innere handgelenkelement verlaufen endeffektor anschließen undein leitungskörper verlegen innere handgelenkelement  \n",
       "1                                                                                                    wellgetrieb roboter wellgetriebe erfindung betreffen wellgetriebe roboter umfassend wellgenerator umlaufend radial richtung verformbar flexibl ringelement außenverzahnung starr ringelement innenverzahnung außenverzahnung flexibl ringelement übertragung drehmoment zahneingriffsbereich innenverzahnung starr ringelement zahneingriff stehen wellgenerator unrund ausgebildet innenring umlaufend radial richtung verformbar flexibl außenring umfassen innenring flexibel ringelement hineinragen mittelbar drehfest welle verbinden flexibel außenring innenumfang flexibl ringelement anordnen wellgetriebe temperatursensoreinrichtung  \n",
       "2                                                                                                                                                         robotersystem vielzahl vernetzt controllern robotersystem ermöglichen einzig einlernkonsole verwenden mühelos vielzahl roboter einzulernen robotersystem umfassen vielzahl roboter controllern netzwerk verbinden einzig einlernkonsole konfigurieren lage roboter controller selektiv kommunizieren roboter controller konfigurieren verbindungsanfrage einlernkonsole senden beurteilen zustand roboter einlernphase wartungsphase umgeschaltet einlernkonsole konfigurieren verbindungsanfrage roboter controller antworten ziel umschalten kommunikation roboter controller ermöglichen  \n",
       "3                                                                                                                                   massedat schätzung extern last robotermanipulator verfahren schätzen massedat distal robotermanipulator aufzunehmend extern last aufweisend schritt aufnehmen bild last kameraeinheit übermitteln bilddat aufgenommen bild recheneinheit ermitteln schätzung räumlich ausdehnung last auswerten räumlich information bilddat recheneinheit ermitteln schätzung stoff last bilddat bild eingangsgröße bilderkennungsfunktion vorgabe anwender recheneinheit ermitteln schätzung masse last trägheitstensor last basis schätzung räumlich ausdehnung last basis geschätzt stoff ermittelt dichte last recheneinheit  \n",
       "4  fügesystem robotergeführt fügeprozessgerät zugehörig betriebsverfahr fügesystem umfassend fügeprozessgerät durchführung fügeprozess bauteil berücksichtigung vorgegeben fügeparameter roboter bewegen fügeprozessgerät bewegungsparameter vorgegeben bewegungspfad positionsregler roboter einrichten geometrisch sollbauteilesituation ausgelegt bewegungsparameter empfangen speichern erfassungsvorrichtung erfassung fügeprozess erzeugt aktuell prozessparameter wobeiein auswertevorrichtung vorhanden ausbilden erfasst prozessparameter tatsächlich aktuell geometrisch bauteilesituation ermitteln undein regelvorrichtung vorhanden ausbilden basierend aktuell geometrisch bauteilesituation angepasst bewegungsparameter bewegungspfad  "
      ]
     },
     "execution_count": 17,
     "metadata": {},
     "output_type": "execute_result"
    }
   ],
   "source": [
    "pd.set_option('display.max_colwidth', None)\n",
    "df[['text_preproc1', 'text_preproc2']].head()"
   ]
  },
  {
   "cell_type": "code",
   "execution_count": 18,
   "metadata": {},
   "outputs": [
    {
     "name": "stdout",
     "output_type": "stream",
     "text": [
      "<class 'pandas.core.frame.DataFrame'>\n",
      "Int64Index: 0 entries\n",
      "Data columns (total 4 columns):\n",
      " #   Column         Non-Null Count  Dtype \n",
      "---  ------         --------------  ----- \n",
      " 0   id             0 non-null      int64 \n",
      " 1   pub_year       0 non-null      int64 \n",
      " 2   text_preproc1  0 non-null      object\n",
      " 3   text_preproc2  0 non-null      object\n",
      "dtypes: int64(2), object(2)\n",
      "memory usage: 0.0+ bytes\n"
     ]
    }
   ],
   "source": [
    "df[df['text_preproc2'] == ''].info()"
   ]
  },
  {
   "cell_type": "code",
   "execution_count": 19,
   "metadata": {},
   "outputs": [
    {
     "data": {
      "text/plain": [
       "count    2243.000000\n",
       "mean       47.745876\n",
       "std        11.635774\n",
       "min         5.000000\n",
       "25%        40.000000\n",
       "50%        49.000000\n",
       "75%        56.000000\n",
       "max        80.000000\n",
       "Name: text_preproc2, dtype: float64"
      ]
     },
     "execution_count": 19,
     "metadata": {},
     "output_type": "execute_result"
    }
   ],
   "source": [
    "df.text_preproc2.apply(lambda x: len(x.split())).describe()"
   ]
  },
  {
   "cell_type": "code",
   "execution_count": 20,
   "metadata": {},
   "outputs": [],
   "source": [
    "output_path = \"data_preprocessed/2_europe_tokenize.csv\"\n",
    "df.drop(columns='text_preproc1').to_csv(output_path, index=False)"
   ]
  }
 ],
 "metadata": {
  "kernelspec": {
   "display_name": "ml_angew_programm",
   "language": "python",
   "name": "python3"
  },
  "language_info": {
   "codemirror_mode": {
    "name": "ipython",
    "version": 3
   },
   "file_extension": ".py",
   "mimetype": "text/x-python",
   "name": "python",
   "nbconvert_exporter": "python",
   "pygments_lexer": "ipython3",
   "version": "3.8.19"
  }
 },
 "nbformat": 4,
 "nbformat_minor": 2
}
