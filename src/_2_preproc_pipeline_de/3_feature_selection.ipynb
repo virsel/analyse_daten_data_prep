{
 "cells": [
  {
   "cell_type": "code",
   "execution_count": 1,
   "metadata": {},
   "outputs": [],
   "source": [
    "import pandas as pd\n",
    "\n",
    "data_path = \"data_preprocessed/2_europe_tokenize.csv\"\n",
    "data_out_path = \"data_preprocessed/3_selected_features.csv\"\n",
    "df = pd.read_csv(data_path)"
   ]
  },
  {
   "cell_type": "code",
   "execution_count": 2,
   "metadata": {},
   "outputs": [
    {
     "data": {
      "text/html": [
       "<div>\n",
       "<style scoped>\n",
       "    .dataframe tbody tr th:only-of-type {\n",
       "        vertical-align: middle;\n",
       "    }\n",
       "\n",
       "    .dataframe tbody tr th {\n",
       "        vertical-align: top;\n",
       "    }\n",
       "\n",
       "    .dataframe thead th {\n",
       "        text-align: right;\n",
       "    }\n",
       "</style>\n",
       "<table border=\"1\" class=\"dataframe\">\n",
       "  <thead>\n",
       "    <tr style=\"text-align: right;\">\n",
       "      <th></th>\n",
       "      <th>id</th>\n",
       "      <th>text3</th>\n",
       "      <th>label</th>\n",
       "    </tr>\n",
       "  </thead>\n",
       "  <tbody>\n",
       "    <tr>\n",
       "      <th>0</th>\n",
       "      <td>de_0982669</td>\n",
       "      <td>leid nicht empfehl leid deckel sehr dunn plast...</td>\n",
       "      <td>1</td>\n",
       "    </tr>\n",
       "    <tr>\n",
       "      <th>1</th>\n",
       "      <td>de_0744791</td>\n",
       "      <td>schrott lackschad anschluss kaputt woch allgem...</td>\n",
       "      <td>0</td>\n",
       "    </tr>\n",
       "    <tr>\n",
       "      <th>2</th>\n",
       "      <td>de_0342898</td>\n",
       "      <td>krankheit technik toll bild laufend problem to...</td>\n",
       "      <td>1</td>\n",
       "    </tr>\n",
       "    <tr>\n",
       "      <th>3</th>\n",
       "      <td>de_0584719</td>\n",
       "      <td>schutzt display nicht sehr gut sitz rundherum ...</td>\n",
       "      <td>3</td>\n",
       "    </tr>\n",
       "    <tr>\n",
       "      <th>4</th>\n",
       "      <td>de_0266588</td>\n",
       "      <td>sup stift echt preiswert trotzd sup qualitat f...</td>\n",
       "      <td>3</td>\n",
       "    </tr>\n",
       "  </tbody>\n",
       "</table>\n",
       "</div>"
      ],
      "text/plain": [
       "           id                                              text3  label\n",
       "0  de_0982669  leid nicht empfehl leid deckel sehr dunn plast...      1\n",
       "1  de_0744791  schrott lackschad anschluss kaputt woch allgem...      0\n",
       "2  de_0342898  krankheit technik toll bild laufend problem to...      1\n",
       "3  de_0584719  schutzt display nicht sehr gut sitz rundherum ...      3\n",
       "4  de_0266588  sup stift echt preiswert trotzd sup qualitat f...      3"
      ]
     },
     "execution_count": 2,
     "metadata": {},
     "output_type": "execute_result"
    }
   ],
   "source": [
    "df.head()"
   ]
  },
  {
   "cell_type": "code",
   "execution_count": 3,
   "metadata": {},
   "outputs": [
    {
     "name": "stderr",
     "output_type": "stream",
     "text": [
      "c:\\Users\\paul-\\anaconda3\\envs\\ml_angew_programm\\lib\\site-packages\\sklearn\\feature_extraction\\text.py:525: UserWarning: The parameter 'token_pattern' will not be used since 'tokenizer' is not None'\n",
      "  warnings.warn(\n"
     ]
    },
    {
     "name": "stdout",
     "output_type": "stream",
     "text": [
      "['aa' 'aab' 'abbau' ... 'zwischendurch' 'zwischenraum' 'zwischenzeit']\n"
     ]
    }
   ],
   "source": [
    "from sklearn.feature_extraction.text import TfidfVectorizer\n",
    "\n",
    "vectorizer = TfidfVectorizer(min_df=20, max_df=0.95, max_features=5000, ngram_range=(1, 1), tokenizer=lambda x: x.split())\n",
    "# Fit and transform the documents\n",
    "tfidf_matrix = vectorizer.fit_transform(df['text3'])\n",
    "# Get feature names to view the vocabulary\n",
    "feature_names = vectorizer.get_feature_names_out()\n",
    "print(feature_names)"
   ]
  },
  {
   "cell_type": "code",
   "execution_count": 4,
   "metadata": {},
   "outputs": [],
   "source": [
    "feature_file_path = '../output/tfidf_features.txt'\n",
    "with open(feature_file_path, 'w') as f:\n",
    "    for feature in feature_names:\n",
    "        f.write(f\"{feature}\\n\")"
   ]
  },
  {
   "cell_type": "code",
   "execution_count": 5,
   "metadata": {},
   "outputs": [],
   "source": [
    "import sys\n",
    "sys.path.append('../moduls')\n",
    "\n",
    "from pipeline import feature_selection"
   ]
  },
  {
   "cell_type": "code",
   "execution_count": 6,
   "metadata": {},
   "outputs": [
    {
     "data": {
      "application/vnd.jupyter.widget-view+json": {
       "model_id": "97d85531452d4f32a4a262504898bc49",
       "version_major": 2,
       "version_minor": 0
      },
      "text/plain": [
       "FEATURE_SELECTION DONE:   0%|          | 0/167994 [00:00<?, ?it/s]"
      ]
     },
     "metadata": {},
     "output_type": "display_data"
    }
   ],
   "source": [
    "from parallel_pandas import ParallelPandas\n",
    "\n",
    "#initialize parallel-pandas\n",
    "ParallelPandas.initialize(n_cpu=12, split_factor=1, disable_pr_bar=False)\n",
    "\n",
    "df['text4'] = df['text3'].p_apply(feature_selection)"
   ]
  },
  {
   "cell_type": "code",
   "execution_count": 7,
   "metadata": {},
   "outputs": [
    {
     "data": {
      "text/html": [
       "<div>\n",
       "<style scoped>\n",
       "    .dataframe tbody tr th:only-of-type {\n",
       "        vertical-align: middle;\n",
       "    }\n",
       "\n",
       "    .dataframe tbody tr th {\n",
       "        vertical-align: top;\n",
       "    }\n",
       "\n",
       "    .dataframe thead th {\n",
       "        text-align: right;\n",
       "    }\n",
       "</style>\n",
       "<table border=\"1\" class=\"dataframe\">\n",
       "  <thead>\n",
       "    <tr style=\"text-align: right;\">\n",
       "      <th></th>\n",
       "      <th>id</th>\n",
       "      <th>text3</th>\n",
       "      <th>label</th>\n",
       "      <th>text4</th>\n",
       "    </tr>\n",
       "  </thead>\n",
       "  <tbody>\n",
       "    <tr>\n",
       "      <th>0</th>\n",
       "      <td>de_0982669</td>\n",
       "      <td>leid nicht empfehl leid deckel sehr dunn plastik geriss sehr nicht nochmal kauf</td>\n",
       "      <td>1</td>\n",
       "      <td>leid nicht empfehl leid deckel sehr dunn plastik geriss sehr nicht nochmal kauf</td>\n",
       "    </tr>\n",
       "    <tr>\n",
       "      <th>1</th>\n",
       "      <td>de_0744791</td>\n",
       "      <td>schrott lackschad anschluss kaputt woch allgemein all irgendwi nicht wertig spar</td>\n",
       "      <td>0</td>\n",
       "      <td>schrott anschluss kaputt woch allgemein all irgendwi nicht wertig spar</td>\n",
       "    </tr>\n",
       "    <tr>\n",
       "      <th>2</th>\n",
       "      <td>de_0342898</td>\n",
       "      <td>krankheit technik toll bild laufend problem ton fernbedien lasst nicht updat dah laufend gross meldung bild fur updat nicht gerat nicht empfehl</td>\n",
       "      <td>1</td>\n",
       "      <td>technik toll bild laufend problem ton fernbedien lasst nicht updat dah laufend gross meldung bild fur updat nicht gerat nicht empfehl</td>\n",
       "    </tr>\n",
       "    <tr>\n",
       "      <th>3</th>\n",
       "      <td>de_0584719</td>\n",
       "      <td>schutzt display nicht sehr gut sitz rundherum gut grip nicht bewusst bess les hull metallplatt fur magnethalter eingearbeitet telefon entfern schad find display nicht geschutzt kant vorn nicht uber steh dah stern abzug</td>\n",
       "      <td>3</td>\n",
       "      <td>schutzt display nicht sehr gut sitz rundherum gut grip nicht bewusst bess les hull fur eingearbeitet telefon entfern schad find display nicht geschutzt kant vorn nicht uber steh dah stern abzug</td>\n",
       "    </tr>\n",
       "    <tr>\n",
       "      <th>4</th>\n",
       "      <td>de_0266588</td>\n",
       "      <td>sup stift echt preiswert trotzd sup qualitat farb entsprech nicht anblick kapp erwartet einzeln farb mal testet weis ausseh probl bemangeln all farb dunkel sehr farbintensiv paar pastelfarb wunsch zukunft pack komm irgendwann</td>\n",
       "      <td>3</td>\n",
       "      <td>sup stift echt preiswert trotzd sup qualitat farb entsprech nicht kapp erwartet einzeln farb mal weis ausseh probl bemangeln all farb dunkel sehr paar wunsch zukunft pack komm irgendwann</td>\n",
       "    </tr>\n",
       "  </tbody>\n",
       "</table>\n",
       "</div>"
      ],
      "text/plain": [
       "           id  \\\n",
       "0  de_0982669   \n",
       "1  de_0744791   \n",
       "2  de_0342898   \n",
       "3  de_0584719   \n",
       "4  de_0266588   \n",
       "\n",
       "                                                                                                                                                                                                                               text3  \\\n",
       "0                                                                                                                                                    leid nicht empfehl leid deckel sehr dunn plastik geriss sehr nicht nochmal kauf   \n",
       "1                                                                                                                                                   schrott lackschad anschluss kaputt woch allgemein all irgendwi nicht wertig spar   \n",
       "2                                                                                    krankheit technik toll bild laufend problem ton fernbedien lasst nicht updat dah laufend gross meldung bild fur updat nicht gerat nicht empfehl   \n",
       "3         schutzt display nicht sehr gut sitz rundherum gut grip nicht bewusst bess les hull metallplatt fur magnethalter eingearbeitet telefon entfern schad find display nicht geschutzt kant vorn nicht uber steh dah stern abzug   \n",
       "4  sup stift echt preiswert trotzd sup qualitat farb entsprech nicht anblick kapp erwartet einzeln farb mal testet weis ausseh probl bemangeln all farb dunkel sehr farbintensiv paar pastelfarb wunsch zukunft pack komm irgendwann   \n",
       "\n",
       "   label  \\\n",
       "0      1   \n",
       "1      0   \n",
       "2      1   \n",
       "3      3   \n",
       "4      3   \n",
       "\n",
       "                                                                                                                                                                                               text4  \n",
       "0                                                                                                                    leid nicht empfehl leid deckel sehr dunn plastik geriss sehr nicht nochmal kauf  \n",
       "1                                                                                                                             schrott anschluss kaputt woch allgemein all irgendwi nicht wertig spar  \n",
       "2                                                              technik toll bild laufend problem ton fernbedien lasst nicht updat dah laufend gross meldung bild fur updat nicht gerat nicht empfehl  \n",
       "3  schutzt display nicht sehr gut sitz rundherum gut grip nicht bewusst bess les hull fur eingearbeitet telefon entfern schad find display nicht geschutzt kant vorn nicht uber steh dah stern abzug  \n",
       "4         sup stift echt preiswert trotzd sup qualitat farb entsprech nicht kapp erwartet einzeln farb mal weis ausseh probl bemangeln all farb dunkel sehr paar wunsch zukunft pack komm irgendwann  "
      ]
     },
     "execution_count": 7,
     "metadata": {},
     "output_type": "execute_result"
    }
   ],
   "source": [
    "pd.set_option('display.max_colwidth', None)\n",
    "df.head()"
   ]
  },
  {
   "cell_type": "code",
   "execution_count": 8,
   "metadata": {},
   "outputs": [
    {
     "name": "stdout",
     "output_type": "stream",
     "text": [
      "<class 'pandas.core.frame.DataFrame'>\n",
      "Int64Index: 6257 entries, 25 to 167988\n",
      "Data columns (total 4 columns):\n",
      " #   Column  Non-Null Count  Dtype \n",
      "---  ------  --------------  ----- \n",
      " 0   id      6257 non-null   object\n",
      " 1   text3   6257 non-null   object\n",
      " 2   label   6257 non-null   int64 \n",
      " 3   text4   6257 non-null   object\n",
      "dtypes: int64(1), object(3)\n",
      "memory usage: 244.4+ KB\n"
     ]
    }
   ],
   "source": [
    "df[df['text4'].apply(lambda x: len(x.split())) < 4].info()"
   ]
  },
  {
   "cell_type": "code",
   "execution_count": 9,
   "metadata": {},
   "outputs": [],
   "source": [
    "df_filtered = df[df['text4'].apply(lambda x: len(x.split())) >= 4]"
   ]
  },
  {
   "cell_type": "code",
   "execution_count": 10,
   "metadata": {},
   "outputs": [],
   "source": [
    "df_filtered[['id', 'text4', 'label']].to_csv(data_out_path, index=False)"
   ]
  }
 ],
 "metadata": {
  "kernelspec": {
   "display_name": "ml_angew_programm",
   "language": "python",
   "name": "python3"
  },
  "language_info": {
   "codemirror_mode": {
    "name": "ipython",
    "version": 3
   },
   "file_extension": ".py",
   "mimetype": "text/x-python",
   "name": "python",
   "nbconvert_exporter": "python",
   "pygments_lexer": "ipython3",
   "version": "3.8.19"
  }
 },
 "nbformat": 4,
 "nbformat_minor": 2
}
