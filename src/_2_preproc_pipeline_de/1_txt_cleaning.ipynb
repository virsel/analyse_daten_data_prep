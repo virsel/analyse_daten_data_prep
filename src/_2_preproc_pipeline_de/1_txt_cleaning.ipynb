{
 "cells": [
  {
   "cell_type": "code",
   "execution_count": 19,
   "metadata": {
    "ExecuteTime": {
     "end_time": "2024-05-15T13:22:45.009459Z",
     "start_time": "2024-05-15T13:22:44.779850Z"
    }
   },
   "outputs": [],
   "source": [
    "import pandas as pd"
   ]
  },
  {
   "cell_type": "code",
   "execution_count": 20,
   "metadata": {
    "ExecuteTime": {
     "end_time": "2024-05-15T13:22:45.025084Z",
     "start_time": "2024-05-15T13:22:45.009459Z"
    }
   },
   "outputs": [],
   "source": [
    "data = \"../_1_data_prepared_input/europe_data_de.csv\"\n",
    "output = 'data_preprocessed/1_europe_txt_cleaning.csv'"
   ]
  },
  {
   "cell_type": "code",
   "execution_count": 21,
   "metadata": {
    "ExecuteTime": {
     "end_time": "2024-05-15T13:22:45.056338Z",
     "start_time": "2024-05-15T13:22:45.025084Z"
    }
   },
   "outputs": [],
   "source": [
    "df = pd.read_csv(data)"
   ]
  },
  {
   "cell_type": "code",
   "execution_count": 22,
   "metadata": {
    "ExecuteTime": {
     "end_time": "2024-05-15T13:22:45.072350Z",
     "start_time": "2024-05-15T13:22:45.056338Z"
    }
   },
   "outputs": [
    {
     "name": "stdout",
     "output_type": "stream",
     "text": [
      "<class 'pandas.core.frame.DataFrame'>\n",
      "RangeIndex: 2243 entries, 0 to 2242\n",
      "Data columns (total 3 columns):\n",
      " #   Column    Non-Null Count  Dtype \n",
      "---  ------    --------------  ----- \n",
      " 0   id        2243 non-null   int64 \n",
      " 1   pub_year  2243 non-null   int64 \n",
      " 2   text      2243 non-null   object\n",
      "dtypes: int64(2), object(1)\n",
      "memory usage: 52.7+ KB\n"
     ]
    }
   ],
   "source": [
    "df.info()"
   ]
  },
  {
   "cell_type": "code",
   "execution_count": 23,
   "metadata": {
    "ExecuteTime": {
     "end_time": "2024-05-15T13:26:03.916283Z",
     "start_time": "2024-05-15T13:26:03.885034Z"
    }
   },
   "outputs": [
    {
     "data": {
      "text/plain": [
       "2023    43.067321\n",
       "2022    41.729826\n",
       "2024    15.202853\n",
       "Name: pub_year, dtype: float64"
      ]
     },
     "execution_count": 23,
     "metadata": {},
     "output_type": "execute_result"
    }
   ],
   "source": [
    "df.pub_year.value_counts() / len(df) *100"
   ]
  },
  {
   "cell_type": "code",
   "execution_count": 24,
   "metadata": {
    "ExecuteTime": {
     "end_time": "2024-05-15T13:28:22.004380Z",
     "start_time": "2024-05-15T13:28:18.433123Z"
    }
   },
   "outputs": [],
   "source": [
    "import sys\n",
    "sys.path.append('../..')\n",
    "\n",
    "from src.moduls.pipeline_de import txt_cleaning"
   ]
  },
  {
   "cell_type": "code",
   "execution_count": 25,
   "metadata": {
    "ExecuteTime": {
     "end_time": "2024-05-15T13:29:12.174390Z",
     "start_time": "2024-05-15T13:29:06.658624Z"
    }
   },
   "outputs": [
    {
     "data": {
      "application/vnd.jupyter.widget-view+json": {
       "model_id": "97f24fc8bde741b9a906fd8d210a48c2",
       "version_major": 2,
       "version_minor": 0
      },
      "text/plain": [
       "TXT_CLEANING DONE:   0%|          | 0/2243 [00:00<?, ?it/s]"
      ]
     },
     "metadata": {},
     "output_type": "display_data"
    }
   ],
   "source": [
    "from parallel_pandas import ParallelPandas\n",
    "#initialize parallel-pandas\n",
    "ParallelPandas.initialize(n_cpu=12, split_factor=12, disable_pr_bar=False)\n",
    "df['text_preproc1'] = df['text'].p_apply(txt_cleaning)"
   ]
  },
  {
   "cell_type": "code",
   "execution_count": 26,
   "metadata": {},
   "outputs": [
    {
     "data": {
      "text/html": [
       "<div>\n",
       "<style scoped>\n",
       "    .dataframe tbody tr th:only-of-type {\n",
       "        vertical-align: middle;\n",
       "    }\n",
       "\n",
       "    .dataframe tbody tr th {\n",
       "        vertical-align: top;\n",
       "    }\n",
       "\n",
       "    .dataframe thead th {\n",
       "        text-align: right;\n",
       "    }\n",
       "</style>\n",
       "<table border=\"1\" class=\"dataframe\">\n",
       "  <thead>\n",
       "    <tr style=\"text-align: right;\">\n",
       "      <th></th>\n",
       "      <th>text</th>\n",
       "      <th>text_preproc1</th>\n",
       "    </tr>\n",
       "  </thead>\n",
       "  <tbody>\n",
       "    <tr>\n",
       "      <th>1825</th>\n",
       "      <td>Mobile robotische Einheit. Mobile robotische Einheit (19A) mit einer Plattform (1), und einem von der Plattform getragenen Schutzschild (20) zum Schutz von Einsatzkräften und/oder Objekten (21) vor einer Strahlungs- und/oder Objektquelle (22).</td>\n",
       "      <td>Mobile robotische Einheit. Mobile robotische Einheit mit einer Plattform, und einem von der Plattform getragenen Schutzschild zum Schutz von Einsatzkräften und oder Objekten vor einer Strahlungs und oder Objektquelle.</td>\n",
       "    </tr>\n",
       "  </tbody>\n",
       "</table>\n",
       "</div>"
      ],
      "text/plain": [
       "                                                                                                                                                                                                                                                     text  \\\n",
       "1825  Mobile robotische Einheit. Mobile robotische Einheit (19A) mit einer Plattform (1), und einem von der Plattform getragenen Schutzschild (20) zum Schutz von Einsatzkräften und/oder Objekten (21) vor einer Strahlungs- und/oder Objektquelle (22).   \n",
       "\n",
       "                                                                                                                                                                                                                  text_preproc1  \n",
       "1825  Mobile robotische Einheit. Mobile robotische Einheit mit einer Plattform, und einem von der Plattform getragenen Schutzschild zum Schutz von Einsatzkräften und oder Objekten vor einer Strahlungs und oder Objektquelle.  "
      ]
     },
     "execution_count": 26,
     "metadata": {},
     "output_type": "execute_result"
    }
   ],
   "source": [
    "df[df.id == 8200][['text', 'text_preproc1']]"
   ]
  },
  {
   "cell_type": "code",
   "execution_count": 27,
   "metadata": {
    "ExecuteTime": {
     "end_time": "2024-05-15T13:31:02.520979Z",
     "start_time": "2024-05-15T13:31:02.505352Z"
    }
   },
   "outputs": [
    {
     "data": {
      "text/html": [
       "<div>\n",
       "<style scoped>\n",
       "    .dataframe tbody tr th:only-of-type {\n",
       "        vertical-align: middle;\n",
       "    }\n",
       "\n",
       "    .dataframe tbody tr th {\n",
       "        vertical-align: top;\n",
       "    }\n",
       "\n",
       "    .dataframe thead th {\n",
       "        text-align: right;\n",
       "    }\n",
       "</style>\n",
       "<table border=\"1\" class=\"dataframe\">\n",
       "  <thead>\n",
       "    <tr style=\"text-align: right;\">\n",
       "      <th></th>\n",
       "      <th>text</th>\n",
       "      <th>text_preproc1</th>\n",
       "    </tr>\n",
       "  </thead>\n",
       "  <tbody>\n",
       "    <tr>\n",
       "      <th>1997</th>\n",
       "      <td>Vollautomatisches Roboter-Kommissioniersystem und Kommissionierverfahren mit Sensoranordnung zum Vermessen eines entnommenen Artikels im Rahmen des Anhebevorgangs. Kommissioniersystem umfassend:- einen Roboter (10) mit einem Greifarm (16) zur Entnahme eines Artikels (18) aus einem Quellbehälter (20) mit einem Behälterrand (20a) und zur Ablage des Artikels (18) in einen Zielbehälter (22),- eine Kamera (12a) zum Erfassen wenigstens des Quellbehälters (20) in einer Draufsicht,- eine Steuerung (14), die dazu ausgelegt ist, den Greifarm (16) abhängig von den von der Kamera (12a) erfassten Bilddaten derart zu steuern, dass der Greifarm (16) den Artikel (18) greift, in einem Anhebevorgang anhebt, in einem Schwenkvorgang über den Zielbehälter (22) führt und in einem Ablagevorgang in den Zielbehälter (22) ablegt, dadurch gekennzeichnet, dass- das Kommissioniersystem eine im Wesentlichen horizontal ausgerichtete Sensoranordnung (30) wenigstens zum Erkennen einer Lage einer Unterkante des Artikels (18) während des Anhebevorgangs umfasst, und- die Steuerung (14) dazu ausgelegt ist, eine Trajektorie zur Überführung des Artikels (18) in den Zielbehälter ...</td>\n",
       "      <td>Vollautomatisches Roboter Kommissioniersystem und Kommissionierverfahren mit Sensoranordnung zum Vermessen eines entnommenen Artikels im Rahmen des Anhebevorgangs. Kommissioniersystem umfassend: einen Roboter mit einem Greifarm zur Entnahme eines Artikels aus einem Quellbehälter mit einem Behälterrand und zur Ablage des Artikels in einen Zielbehälter, eine Kamera zum Erfassen wenigstens des Quellbehälters in einer Draufsicht, eine Steuerung, die dazu ausgelegt ist, den Greifarm abhängig von den von der Kamera erfassten Bilddaten derart zu steuern, dass der Greifarm den Artikel greift, in einem Anhebevorgang anhebt, in einem Schwenkvorgang über den Zielbehälter führt und in einem Ablagevorgang in den Zielbehälter ablegt, dadurch gekennzeichnet, dass das Kommissioniersystem eine im Wesentlichen horizontal ausgerichtete Sensoranordnung wenigstens zum Erkennen einer Lage einer Unterkante des Artikels während des Anhebevorgangs umfasst, und die Steuerung dazu ausgelegt ist, eine Trajektorie zur Überführung des Artikels in den Zielbehälter.</td>\n",
       "    </tr>\n",
       "    <tr>\n",
       "      <th>1167</th>\n",
       "      <td>Robotersteuervorrichtung und Robotersystem. Es ist eine Robotersteuervorrichtung vorgesehen, die ermöglicht, Vorgänge auf hoher Ebene von einer externen Vorrichtung aus an einem Roboter durchzuführen. Die Robotersteuervorrichtung 50 zum Steuern eines Roboters weist auf: eine Digital-Eingabe-/Ausgabe-Schnittstelle 51 zum Übertragen/Empfangen von digitalen Daten an/von eine(r) externe(n) Vorrichtung 70; eine Programmerzeugungseinheit 52, die einen Aktionsbefehl für den Roboter entsprechend Befehlsidentifizierungsdaten erzeugt, die in digitalen Daten enthalten sind, die über die Digital-Eingabe-/Ausgabe-Schnittstelle 51 eingegeben werden; und eine Programmausführungseinheit 53, die den erzeugten Aktionsbefehl ausführt.</td>\n",
       "      <td>Robotersteuervorrichtung und Robotersystem. Es ist eine Robotersteuervorrichtung vorgesehen, die ermöglicht, Vorgänge auf hoher Ebene von einer externen Vorrichtung aus an einem Roboter durchzuführen. Die Robotersteuervorrichtung zum Steuern eines Roboters weist auf: eine Digital Eingabe Ausgabe Schnittstelle zum Übertragen Empfangen von digitalen Daten an von eine externe Vorrichtung, eine Programmerzeugungseinheit, die einen Aktionsbefehl für den Roboter entsprechend Befehlsidentifizierungsdaten erzeugt, die in digitalen Daten enthalten sind, die über die Digital Eingabe Ausgabe Schnittstelle eingegeben werden, und eine Programmausführungseinheit, die den erzeugten Aktionsbefehl ausführt.</td>\n",
       "    </tr>\n",
       "    <tr>\n",
       "      <th>732</th>\n",
       "      <td>Fertigungsanlage sowie Verfahren zum Betreiben einer Fertigungsanlage mit einem Roboter und einer speicherprogrammierbaren Steuerung mit relativer Adressierung. Die vorliegende Erfindung betrifft ein Verfahren zum Betreiben einer Fertigungsanlage mit einem Roboter (2) und einer speicherprogrammierbaren Steuerung (3), wobei der Roboter (2) zur Anwendung mehrerer Technologien (41, 42, 43) und mehrerer Funktionseinheiten (51, 52, 53, 54) eingerichtet ist, wobei eine Kommunikation zwischen dem Roboter (2), einer dem Roboter (2) zugeordneten Funktionseinheit (51, 52) und der speicherprogrammierbaren Steuerung (3) über einen Feldbus erfolgt, wobei für eine Initialisierung des Roboters (2) Signaldeklarationen für die Technologien (41, 42, 43) und Signaldeklarationen für die Funktionseinheiten (51, 52, 53, 54) jeweils eine Mehrzahl von Adressfeldern (7) umfassenden Adressbereichen (8), auf die über den Feldbus zugegriffen werden kann, zugewiesen werden, wobei den Signaldeklarationen einer jeden Technologie (41, 42, 43) und den Signaldeklarationen einer jeden Funktionseinheit (51, 52, 53, 54) jeweils eine Startadresse (9) zugewiesen wird, und wobei ...</td>\n",
       "      <td>Fertigungsanlage sowie Verfahren zum Betreiben einer Fertigungsanlage mit einem Roboter und einer speicherprogrammierbaren Steuerung mit relativer Adressierung. Die vorliegende Erfindung betrifft ein Verfahren zum Betreiben einer Fertigungsanlage mit einem Roboter und einer speicherprogrammierbaren Steuerung, wobei der Roboter zur Anwendung mehrerer Technologien und mehrerer Funktionseinheiten eingerichtet ist, wobei eine Kommunikation zwischen dem Roboter, einer dem Roboter zugeordneten Funktionseinheit und der speicherprogrammierbaren Steuerung über einen Feldbus erfolgt, wobei für eine Initialisierung des Roboters Signaldeklarationen für die Technologien und Signaldeklarationen für die Funktionseinheiten jeweils eine Mehrzahl von Adressfeldern umfassenden Adressbereichen, auf die über den Feldbus zugegriffen werden kann, zugewiesen werden, wobei den Signaldeklarationen einer jeden Technologie und den Signaldeklarationen einer jeden Funktionseinheit jeweils eine Startadresse zugewiesen wird, und wobei.</td>\n",
       "    </tr>\n",
       "  </tbody>\n",
       "</table>\n",
       "</div>"
      ],
      "text/plain": [
       "                                                                                                                                                                                                                                                                                                                                                                                                                                                                                                                                                                                                                                                                                                                                                                                                                                                                                                                                                                                                                                                                                                                                                                                                           text  \\\n",
       "1997  Vollautomatisches Roboter-Kommissioniersystem und Kommissionierverfahren mit Sensoranordnung zum Vermessen eines entnommenen Artikels im Rahmen des Anhebevorgangs. Kommissioniersystem umfassend:- einen Roboter (10) mit einem Greifarm (16) zur Entnahme eines Artikels (18) aus einem Quellbehälter (20) mit einem Behälterrand (20a) und zur Ablage des Artikels (18) in einen Zielbehälter (22),- eine Kamera (12a) zum Erfassen wenigstens des Quellbehälters (20) in einer Draufsicht,- eine Steuerung (14), die dazu ausgelegt ist, den Greifarm (16) abhängig von den von der Kamera (12a) erfassten Bilddaten derart zu steuern, dass der Greifarm (16) den Artikel (18) greift, in einem Anhebevorgang anhebt, in einem Schwenkvorgang über den Zielbehälter (22) führt und in einem Ablagevorgang in den Zielbehälter (22) ablegt, dadurch gekennzeichnet, dass- das Kommissioniersystem eine im Wesentlichen horizontal ausgerichtete Sensoranordnung (30) wenigstens zum Erkennen einer Lage einer Unterkante des Artikels (18) während des Anhebevorgangs umfasst, und- die Steuerung (14) dazu ausgelegt ist, eine Trajektorie zur Überführung des Artikels (18) in den Zielbehälter ...   \n",
       "1167                                                                                                                                                                                                                                                                                                                                                                                                                                                      Robotersteuervorrichtung und Robotersystem. Es ist eine Robotersteuervorrichtung vorgesehen, die ermöglicht, Vorgänge auf hoher Ebene von einer externen Vorrichtung aus an einem Roboter durchzuführen. Die Robotersteuervorrichtung 50 zum Steuern eines Roboters weist auf: eine Digital-Eingabe-/Ausgabe-Schnittstelle 51 zum Übertragen/Empfangen von digitalen Daten an/von eine(r) externe(n) Vorrichtung 70; eine Programmerzeugungseinheit 52, die einen Aktionsbefehl für den Roboter entsprechend Befehlsidentifizierungsdaten erzeugt, die in digitalen Daten enthalten sind, die über die Digital-Eingabe-/Ausgabe-Schnittstelle 51 eingegeben werden; und eine Programmausführungseinheit 53, die den erzeugten Aktionsbefehl ausführt.   \n",
       "732   Fertigungsanlage sowie Verfahren zum Betreiben einer Fertigungsanlage mit einem Roboter und einer speicherprogrammierbaren Steuerung mit relativer Adressierung. Die vorliegende Erfindung betrifft ein Verfahren zum Betreiben einer Fertigungsanlage mit einem Roboter (2) und einer speicherprogrammierbaren Steuerung (3), wobei der Roboter (2) zur Anwendung mehrerer Technologien (41, 42, 43) und mehrerer Funktionseinheiten (51, 52, 53, 54) eingerichtet ist, wobei eine Kommunikation zwischen dem Roboter (2), einer dem Roboter (2) zugeordneten Funktionseinheit (51, 52) und der speicherprogrammierbaren Steuerung (3) über einen Feldbus erfolgt, wobei für eine Initialisierung des Roboters (2) Signaldeklarationen für die Technologien (41, 42, 43) und Signaldeklarationen für die Funktionseinheiten (51, 52, 53, 54) jeweils eine Mehrzahl von Adressfeldern (7) umfassenden Adressbereichen (8), auf die über den Feldbus zugegriffen werden kann, zugewiesen werden, wobei den Signaldeklarationen einer jeden Technologie (41, 42, 43) und den Signaldeklarationen einer jeden Funktionseinheit (51, 52, 53, 54) jeweils eine Startadresse (9) zugewiesen wird, und wobei ...   \n",
       "\n",
       "                                                                                                                                                                                                                                                                                                                                                                                                                                                                                                                                                                                                                                                                                                                                                                                                                                                                                                                                                                                                                                                                                   text_preproc1  \n",
       "1997  Vollautomatisches Roboter Kommissioniersystem und Kommissionierverfahren mit Sensoranordnung zum Vermessen eines entnommenen Artikels im Rahmen des Anhebevorgangs. Kommissioniersystem umfassend: einen Roboter mit einem Greifarm zur Entnahme eines Artikels aus einem Quellbehälter mit einem Behälterrand und zur Ablage des Artikels in einen Zielbehälter, eine Kamera zum Erfassen wenigstens des Quellbehälters in einer Draufsicht, eine Steuerung, die dazu ausgelegt ist, den Greifarm abhängig von den von der Kamera erfassten Bilddaten derart zu steuern, dass der Greifarm den Artikel greift, in einem Anhebevorgang anhebt, in einem Schwenkvorgang über den Zielbehälter führt und in einem Ablagevorgang in den Zielbehälter ablegt, dadurch gekennzeichnet, dass das Kommissioniersystem eine im Wesentlichen horizontal ausgerichtete Sensoranordnung wenigstens zum Erkennen einer Lage einer Unterkante des Artikels während des Anhebevorgangs umfasst, und die Steuerung dazu ausgelegt ist, eine Trajektorie zur Überführung des Artikels in den Zielbehälter.  \n",
       "1167                                                                                                                                                                                                                                                                                                                                                                 Robotersteuervorrichtung und Robotersystem. Es ist eine Robotersteuervorrichtung vorgesehen, die ermöglicht, Vorgänge auf hoher Ebene von einer externen Vorrichtung aus an einem Roboter durchzuführen. Die Robotersteuervorrichtung zum Steuern eines Roboters weist auf: eine Digital Eingabe Ausgabe Schnittstelle zum Übertragen Empfangen von digitalen Daten an von eine externe Vorrichtung, eine Programmerzeugungseinheit, die einen Aktionsbefehl für den Roboter entsprechend Befehlsidentifizierungsdaten erzeugt, die in digitalen Daten enthalten sind, die über die Digital Eingabe Ausgabe Schnittstelle eingegeben werden, und eine Programmausführungseinheit, die den erzeugten Aktionsbefehl ausführt.  \n",
       "732                                  Fertigungsanlage sowie Verfahren zum Betreiben einer Fertigungsanlage mit einem Roboter und einer speicherprogrammierbaren Steuerung mit relativer Adressierung. Die vorliegende Erfindung betrifft ein Verfahren zum Betreiben einer Fertigungsanlage mit einem Roboter und einer speicherprogrammierbaren Steuerung, wobei der Roboter zur Anwendung mehrerer Technologien und mehrerer Funktionseinheiten eingerichtet ist, wobei eine Kommunikation zwischen dem Roboter, einer dem Roboter zugeordneten Funktionseinheit und der speicherprogrammierbaren Steuerung über einen Feldbus erfolgt, wobei für eine Initialisierung des Roboters Signaldeklarationen für die Technologien und Signaldeklarationen für die Funktionseinheiten jeweils eine Mehrzahl von Adressfeldern umfassenden Adressbereichen, auf die über den Feldbus zugegriffen werden kann, zugewiesen werden, wobei den Signaldeklarationen einer jeden Technologie und den Signaldeklarationen einer jeden Funktionseinheit jeweils eine Startadresse zugewiesen wird, und wobei.  "
      ]
     },
     "execution_count": 27,
     "metadata": {},
     "output_type": "execute_result"
    }
   ],
   "source": [
    "pd.set_option('display.max_colwidth', None)\n",
    "df[['text', 'text_preproc1']].sample(3)"
   ]
  },
  {
   "cell_type": "code",
   "execution_count": 28,
   "metadata": {
    "ExecuteTime": {
     "end_time": "2024-05-14T11:59:16.444739Z",
     "start_time": "2024-05-14T11:59:16.413492Z"
    }
   },
   "outputs": [
    {
     "name": "stdout",
     "output_type": "stream",
     "text": [
      "<class 'pandas.core.frame.DataFrame'>\n",
      "Int64Index: 0 entries\n",
      "Data columns (total 4 columns):\n",
      " #   Column         Non-Null Count  Dtype \n",
      "---  ------         --------------  ----- \n",
      " 0   id             0 non-null      int64 \n",
      " 1   pub_year       0 non-null      int64 \n",
      " 2   text           0 non-null      object\n",
      " 3   text_preproc1  0 non-null      object\n",
      "dtypes: int64(2), object(2)\n",
      "memory usage: 0.0+ bytes\n"
     ]
    }
   ],
   "source": [
    "df[df['text_preproc1'] == ''].info()"
   ]
  },
  {
   "cell_type": "code",
   "execution_count": 29,
   "metadata": {},
   "outputs": [],
   "source": [
    "df.drop(columns='text').to_csv(output, index=False)"
   ]
  }
 ],
 "metadata": {
  "kernelspec": {
   "display_name": "Python 3",
   "language": "python",
   "name": "python3"
  },
  "language_info": {
   "codemirror_mode": {
    "name": "ipython",
    "version": 3
   },
   "file_extension": ".py",
   "mimetype": "text/x-python",
   "name": "python",
   "nbconvert_exporter": "python",
   "pygments_lexer": "ipython3",
   "version": "3.8.19"
  }
 },
 "nbformat": 4,
 "nbformat_minor": 2
}
