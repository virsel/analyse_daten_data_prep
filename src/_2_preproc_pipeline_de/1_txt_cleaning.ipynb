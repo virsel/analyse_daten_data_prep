{
 "cells": [
  {
   "cell_type": "code",
   "metadata": {
    "ExecuteTime": {
     "end_time": "2024-05-17T16:42:48.016326Z",
     "start_time": "2024-05-17T16:42:48.000759Z"
    }
   },
   "source": [
    "import pandas as pd"
   ],
   "outputs": [],
   "execution_count": 12
  },
  {
   "cell_type": "code",
   "metadata": {
    "ExecuteTime": {
     "end_time": "2024-05-17T16:42:48.024155Z",
     "start_time": "2024-05-17T16:42:48.016326Z"
    }
   },
   "source": [
    "data = \"../_1_data_prepared_input/europe_data_de.csv\"\n",
    "output = 'data_preprocessed/1_txt_cleaning.csv'"
   ],
   "outputs": [],
   "execution_count": 13
  },
  {
   "cell_type": "code",
   "metadata": {
    "ExecuteTime": {
     "end_time": "2024-05-17T16:42:48.052392Z",
     "start_time": "2024-05-17T16:42:48.024155Z"
    }
   },
   "source": [
    "df = pd.read_csv(data)"
   ],
   "outputs": [],
   "execution_count": 14
  },
  {
   "cell_type": "code",
   "metadata": {
    "ExecuteTime": {
     "end_time": "2024-05-17T16:42:48.072009Z",
     "start_time": "2024-05-17T16:42:48.053063Z"
    }
   },
   "source": [
    "df.info()"
   ],
   "outputs": [
    {
     "name": "stdout",
     "output_type": "stream",
     "text": [
      "<class 'pandas.core.frame.DataFrame'>\n",
      "RangeIndex: 2243 entries, 0 to 2242\n",
      "Data columns (total 3 columns):\n",
      " #   Column    Non-Null Count  Dtype \n",
      "---  ------    --------------  ----- \n",
      " 0   id        2243 non-null   object\n",
      " 1   pub_year  2243 non-null   int64 \n",
      " 2   text      2243 non-null   object\n",
      "dtypes: int64(1), object(2)\n",
      "memory usage: 52.7+ KB\n"
     ]
    }
   ],
   "execution_count": 15
  },
  {
   "cell_type": "code",
   "metadata": {
    "ExecuteTime": {
     "end_time": "2024-05-17T16:42:48.088056Z",
     "start_time": "2024-05-17T16:42:48.073009Z"
    }
   },
   "source": [
    "df.pub_year.value_counts() / len(df) *100"
   ],
   "outputs": [
    {
     "data": {
      "text/plain": [
       "2023    43.067321\n",
       "2022    41.729826\n",
       "2024    15.202853\n",
       "Name: pub_year, dtype: float64"
      ]
     },
     "execution_count": 16,
     "metadata": {},
     "output_type": "execute_result"
    }
   ],
   "execution_count": 16
  },
  {
   "cell_type": "code",
   "metadata": {
    "ExecuteTime": {
     "end_time": "2024-05-17T16:42:48.104056Z",
     "start_time": "2024-05-17T16:42:48.089056Z"
    }
   },
   "source": [
    "import sys\n",
    "sys.path.append('../..')\n",
    "\n",
    "from src.moduls.pipeline_de import txt_cleaning"
   ],
   "outputs": [],
   "execution_count": 17
  },
  {
   "cell_type": "code",
   "metadata": {
    "ExecuteTime": {
     "end_time": "2024-05-17T16:42:54.481135Z",
     "start_time": "2024-05-17T16:42:48.105056Z"
    }
   },
   "source": [
    "from parallel_pandas import ParallelPandas\n",
    "#initialize parallel-pandas\n",
    "ParallelPandas.initialize(n_cpu=12, split_factor=12, disable_pr_bar=False)\n",
    "df['text_preproc1'] = df['text'].p_apply(txt_cleaning)"
   ],
   "outputs": [
    {
     "data": {
      "text/plain": [
       "TXT_CLEANING DONE:   0%|          | 0/2243 [00:00<?, ?it/s]"
      ],
      "application/vnd.jupyter.widget-view+json": {
       "version_major": 2,
       "version_minor": 0,
       "model_id": "fef90ecca48e4337934c75c43ad85562"
      }
     },
     "metadata": {},
     "output_type": "display_data"
    }
   ],
   "execution_count": 18
  },
  {
   "cell_type": "code",
   "metadata": {
    "ExecuteTime": {
     "end_time": "2024-05-17T16:42:54.497678Z",
     "start_time": "2024-05-17T16:42:54.481659Z"
    }
   },
   "source": [
    "pd.set_option('display.max_colwidth', None)\n",
    "df[['text', 'text_preproc1']].sample(3)"
   ],
   "outputs": [
    {
     "data": {
      "text/plain": [
       "                                                                                                                                                                                                                                                                                                                                                                                                                                                                                                                                                                                                                                                                                                                                                                                                                                                                                                                                                                                                                                                                                                                               text  \\\n",
       "865           Greifer für einen Roboter, Verfahren zu deren Konfiguration und Roboterbaugruppe. Die vorliegende Erfindung stellt einen Greifer für einen Roboter, ein Verfahren zu deren Konfiguration und eine Roboterbaugruppe bereit. Der Greifer umfasst: ein Verbindungsmittel, das zur Verbindung mit einem Roboter dient; eine mit dem Verbindungsmittel verbundene Basis; mehrere mit der Basis verbundene Saugmechanismen, die jeweils eine Stange, die mit der Basis verbunden ist, einen an einem Ende der Stange befindlichen Vakuumsaugnapf und eine Evakuierungsleitung, die mit dem Vakuumsaugnapf verbunden ist, umfassen, wobei die mehreren Saugmechanismen einen zentralen Saugmechanismus und periphere Saugmechanismen, die den zentralen Saugmechanismus umgeben, umfassen, wobei der zentrale Saugmechanismus und die peripheren Saugmechanismen einer rotationssymmetrischen Anordnung folgen, und wobei die Vakuumsaugnäpfe der peripheren Saugmechanismen gleichmäßig auf einem Umfang verteilt sind, der auf den Vakuumsaugnapf des zentralen Saugmechanismus zentriert ist. Die Einrichtung und das ...   \n",
       "957   ROBOTERBETRIEBSBEFEHLSSYSTEM, TABLET-ENDGERÄT UND STEUERVERFAHREN EINES TABLET-ENDGERÄTS. Betriebsbefehlssystem (10) für Roboter (12), umfassend:mehrere Steuerungen (14), die jeweils Identifikationsinformationen aufweisen und zum Steuern eines Roboters (12) eingerichtet sind;eine zum Herstellen einer drahtlosen Verbindung oder einer verdrahteten Verbindung mit einer der mehreren Steuerungen (14) eingerichtete Basis (16); undein zum Durchführen von drahtloser Verbindung mit einer der mehreren Steuerungen (14) eingerichtetes Tablet-Endgerät (18), wobei,die Basis (16) umfasst:einen zum abnehmbaren Halten des Tablet-Endgeräts (18) eingerichteten Halter (30); undeinen zum verdrahteten Verbinden mit dem Tablet-Endgerät (18) eingerichteten Verbinder (32),das Tablet-Endgerät (18) umfasst:eine zum Erzeugen eines Betriebssignals zum Veranlassen der Steuerung (14) zum Betreiben des Roboters (12) eingerichtete Betriebssignal-Erzeugungseinheit (70); undeine zum Verhindern, dass der Roboter (12) vom Betriebssignal betrieben wird, wenn die Identifikationsinformation der Steuerung ...   \n",
       "1678                                                                                                                                   KOMMISSIONIERSYSTEM. Die Erfindung betrifft ein Kommissioniersystem (S) zur automatischen Kommissionierung von Objekten (9), wobei das Kommissioniersystem (S) einen mobilen Kommissionierroboter (R) und ein Aufnahmewerkzeug-Magazin (M) umfasst, in dem, zur Aufnahme unterschiedlicher Objekte (9) vorgesehene, Aufnahmewerkzeuge (8) gelagert sind, und der Kommissionierroboter (R) einen Lasthandhabungsmanipulator (L) mit einem Roboterarm (A) aufweist, der über eine Schnittstelle (11) verfügt, an die das Aufnahmewerkzeug (8) anbringbar und von der das Aufnahmewerkzeug (8) abnehmbar ist, wodurch das angebrachte Aufnahmewerkzeug (8) durch ein anderes Aufnahmewerkzeug (8) aus dem Aufnahmewerkzeug-Magazin (M) austauschbar ist. Es wird vorgeschlagen, dass an der Schnittstelle (11) des Roboterarms (A) und/oder am Aufnahmewerkzeug-Magazin (M) Identifikationssysteme (I1, I2) verbaut sind, die eine Unterscheidung der Aufnahmewerkzeuge (8) ermöglichen. <br />   \n",
       "\n",
       "                                                                                                                                                                                                                                                                                                                                                                                                                                                                                                                                                                                                                                                                                                                                                                                                                                                                                                                                                                                                                                                                                                           text_preproc1  \n",
       "865   Greifer für einen Roboter, Verfahren zu deren Konfiguration und Roboterbaugruppe. Die vorliegende Erfindung stellt einen Greifer für einen Roboter, ein Verfahren zu deren Konfiguration und eine Roboterbaugruppe bereit. Der Greifer umfasst: ein Verbindungsmittel, das zur Verbindung mit einem Roboter dient, eine mit dem Verbindungsmittel verbundene Basis, mehrere mit der Basis verbundene Saugmechanismen, die jeweils eine Stange, die mit der Basis verbunden ist, einen an einem Ende der Stange befindlichen Vakuumsaugnapf und eine Evakuierungsleitung, die mit dem Vakuumsaugnapf verbunden ist, umfassen, wobei die mehreren Saugmechanismen einen zentralen Saugmechanismus und periphere Saugmechanismen, die den zentralen Saugmechanismus umgeben, umfassen, wobei der zentrale Saugmechanismus und die peripheren Saugmechanismen einer rotationssymmetrischen Anordnung folgen, und wobei die Vakuumsaugnäpfe der peripheren Saugmechanismen gleichmäßig auf einem Umfang verteilt sind, der auf den Vakuumsaugnapf des zentralen Saugmechanismus zentriert ist. Die Einrichtung und das.  \n",
       "957                                                                               ROBOTERBETRIEBSBEFEHLSSYSTEM, TABLET ENDGERÄT UND STEUERVERFAHREN EINES TABLET ENDGERÄTS. Betriebsbefehlssystem für Roboter, umfassend: mehrere Steuerungen, die jeweils Identifikationsinformationen aufweisen und zum Steuern eines Roboters eingerichtet sind, eine zum Herstellen einer drahtlosen Verbindung oder einer verdrahteten Verbindung mit einer der mehreren Steuerungen eingerichtete Basis, undein zum Durchführen von drahtloser Verbindung mit einer der mehreren Steuerungen eingerichtetes Tablet Endgerät, wobei, die Basis umfasst: einen zum abnehmbaren Halten des Tablet Endgeräts eingerichteten Halter, undeinen zum verdrahteten Verbinden mit dem Tablet Endgerät eingerichteten Verbinder, das Tablet Endgerät umfasst: eine zum Erzeugen eines Betriebssignals zum Veranlassen der Steuerung zum Betreiben des Roboters eingerichtete Betriebssignal Erzeugungseinheit, undeine zum Verhindern, dass der Roboter vom Betriebssignal betrieben wird, wenn die Identifikationsinformation der Steuerung.  \n",
       "1678                                                                                                                                                                                                                          KOMMISSIONIERSYSTEM. Die Erfindung betrifft ein Kommissioniersystem zur automatischen Kommissionierung von Objekten, wobei das Kommissioniersystem einen mobilen Kommissionierroboter und ein Aufnahmewerkzeug Magazin umfasst, in dem, zur Aufnahme unterschiedlicher Objekte vorgesehene, Aufnahmewerkzeuge gelagert sind, und der Kommissionierroboter einen Lasthandhabungsmanipulator mit einem Roboterarm aufweist, der über eine Schnittstelle verfügt, an die das Aufnahmewerkzeug anbringbar und von der das Aufnahmewerkzeug abnehmbar ist, wodurch das angebrachte Aufnahmewerkzeug durch ein anderes Aufnahmewerkzeug aus dem Aufnahmewerkzeug Magazin austauschbar ist. Es wird vorgeschlagen, dass an der Schnittstelle des Roboterarms und oder am Aufnahmewerkzeug Magazin Identifikationssysteme verbaut sind, die eine Unterscheidung der Aufnahmewerkzeuge ermöglichen.  "
      ],
      "text/html": [
       "<div>\n",
       "<style scoped>\n",
       "    .dataframe tbody tr th:only-of-type {\n",
       "        vertical-align: middle;\n",
       "    }\n",
       "\n",
       "    .dataframe tbody tr th {\n",
       "        vertical-align: top;\n",
       "    }\n",
       "\n",
       "    .dataframe thead th {\n",
       "        text-align: right;\n",
       "    }\n",
       "</style>\n",
       "<table border=\"1\" class=\"dataframe\">\n",
       "  <thead>\n",
       "    <tr style=\"text-align: right;\">\n",
       "      <th></th>\n",
       "      <th>text</th>\n",
       "      <th>text_preproc1</th>\n",
       "    </tr>\n",
       "  </thead>\n",
       "  <tbody>\n",
       "    <tr>\n",
       "      <th>865</th>\n",
       "      <td>Greifer für einen Roboter, Verfahren zu deren Konfiguration und Roboterbaugruppe. Die vorliegende Erfindung stellt einen Greifer für einen Roboter, ein Verfahren zu deren Konfiguration und eine Roboterbaugruppe bereit. Der Greifer umfasst: ein Verbindungsmittel, das zur Verbindung mit einem Roboter dient; eine mit dem Verbindungsmittel verbundene Basis; mehrere mit der Basis verbundene Saugmechanismen, die jeweils eine Stange, die mit der Basis verbunden ist, einen an einem Ende der Stange befindlichen Vakuumsaugnapf und eine Evakuierungsleitung, die mit dem Vakuumsaugnapf verbunden ist, umfassen, wobei die mehreren Saugmechanismen einen zentralen Saugmechanismus und periphere Saugmechanismen, die den zentralen Saugmechanismus umgeben, umfassen, wobei der zentrale Saugmechanismus und die peripheren Saugmechanismen einer rotationssymmetrischen Anordnung folgen, und wobei die Vakuumsaugnäpfe der peripheren Saugmechanismen gleichmäßig auf einem Umfang verteilt sind, der auf den Vakuumsaugnapf des zentralen Saugmechanismus zentriert ist. Die Einrichtung und das ...</td>\n",
       "      <td>Greifer für einen Roboter, Verfahren zu deren Konfiguration und Roboterbaugruppe. Die vorliegende Erfindung stellt einen Greifer für einen Roboter, ein Verfahren zu deren Konfiguration und eine Roboterbaugruppe bereit. Der Greifer umfasst: ein Verbindungsmittel, das zur Verbindung mit einem Roboter dient, eine mit dem Verbindungsmittel verbundene Basis, mehrere mit der Basis verbundene Saugmechanismen, die jeweils eine Stange, die mit der Basis verbunden ist, einen an einem Ende der Stange befindlichen Vakuumsaugnapf und eine Evakuierungsleitung, die mit dem Vakuumsaugnapf verbunden ist, umfassen, wobei die mehreren Saugmechanismen einen zentralen Saugmechanismus und periphere Saugmechanismen, die den zentralen Saugmechanismus umgeben, umfassen, wobei der zentrale Saugmechanismus und die peripheren Saugmechanismen einer rotationssymmetrischen Anordnung folgen, und wobei die Vakuumsaugnäpfe der peripheren Saugmechanismen gleichmäßig auf einem Umfang verteilt sind, der auf den Vakuumsaugnapf des zentralen Saugmechanismus zentriert ist. Die Einrichtung und das.</td>\n",
       "    </tr>\n",
       "    <tr>\n",
       "      <th>957</th>\n",
       "      <td>ROBOTERBETRIEBSBEFEHLSSYSTEM, TABLET-ENDGERÄT UND STEUERVERFAHREN EINES TABLET-ENDGERÄTS. Betriebsbefehlssystem (10) für Roboter (12), umfassend:mehrere Steuerungen (14), die jeweils Identifikationsinformationen aufweisen und zum Steuern eines Roboters (12) eingerichtet sind;eine zum Herstellen einer drahtlosen Verbindung oder einer verdrahteten Verbindung mit einer der mehreren Steuerungen (14) eingerichtete Basis (16); undein zum Durchführen von drahtloser Verbindung mit einer der mehreren Steuerungen (14) eingerichtetes Tablet-Endgerät (18), wobei,die Basis (16) umfasst:einen zum abnehmbaren Halten des Tablet-Endgeräts (18) eingerichteten Halter (30); undeinen zum verdrahteten Verbinden mit dem Tablet-Endgerät (18) eingerichteten Verbinder (32),das Tablet-Endgerät (18) umfasst:eine zum Erzeugen eines Betriebssignals zum Veranlassen der Steuerung (14) zum Betreiben des Roboters (12) eingerichtete Betriebssignal-Erzeugungseinheit (70); undeine zum Verhindern, dass der Roboter (12) vom Betriebssignal betrieben wird, wenn die Identifikationsinformation der Steuerung ...</td>\n",
       "      <td>ROBOTERBETRIEBSBEFEHLSSYSTEM, TABLET ENDGERÄT UND STEUERVERFAHREN EINES TABLET ENDGERÄTS. Betriebsbefehlssystem für Roboter, umfassend: mehrere Steuerungen, die jeweils Identifikationsinformationen aufweisen und zum Steuern eines Roboters eingerichtet sind, eine zum Herstellen einer drahtlosen Verbindung oder einer verdrahteten Verbindung mit einer der mehreren Steuerungen eingerichtete Basis, undein zum Durchführen von drahtloser Verbindung mit einer der mehreren Steuerungen eingerichtetes Tablet Endgerät, wobei, die Basis umfasst: einen zum abnehmbaren Halten des Tablet Endgeräts eingerichteten Halter, undeinen zum verdrahteten Verbinden mit dem Tablet Endgerät eingerichteten Verbinder, das Tablet Endgerät umfasst: eine zum Erzeugen eines Betriebssignals zum Veranlassen der Steuerung zum Betreiben des Roboters eingerichtete Betriebssignal Erzeugungseinheit, undeine zum Verhindern, dass der Roboter vom Betriebssignal betrieben wird, wenn die Identifikationsinformation der Steuerung.</td>\n",
       "    </tr>\n",
       "    <tr>\n",
       "      <th>1678</th>\n",
       "      <td>KOMMISSIONIERSYSTEM. Die Erfindung betrifft ein Kommissioniersystem (S) zur automatischen Kommissionierung von Objekten (9), wobei das Kommissioniersystem (S) einen mobilen Kommissionierroboter (R) und ein Aufnahmewerkzeug-Magazin (M) umfasst, in dem, zur Aufnahme unterschiedlicher Objekte (9) vorgesehene, Aufnahmewerkzeuge (8) gelagert sind, und der Kommissionierroboter (R) einen Lasthandhabungsmanipulator (L) mit einem Roboterarm (A) aufweist, der über eine Schnittstelle (11) verfügt, an die das Aufnahmewerkzeug (8) anbringbar und von der das Aufnahmewerkzeug (8) abnehmbar ist, wodurch das angebrachte Aufnahmewerkzeug (8) durch ein anderes Aufnahmewerkzeug (8) aus dem Aufnahmewerkzeug-Magazin (M) austauschbar ist. Es wird vorgeschlagen, dass an der Schnittstelle (11) des Roboterarms (A) und/oder am Aufnahmewerkzeug-Magazin (M) Identifikationssysteme (I1, I2) verbaut sind, die eine Unterscheidung der Aufnahmewerkzeuge (8) ermöglichen. &lt;br /&gt;</td>\n",
       "      <td>KOMMISSIONIERSYSTEM. Die Erfindung betrifft ein Kommissioniersystem zur automatischen Kommissionierung von Objekten, wobei das Kommissioniersystem einen mobilen Kommissionierroboter und ein Aufnahmewerkzeug Magazin umfasst, in dem, zur Aufnahme unterschiedlicher Objekte vorgesehene, Aufnahmewerkzeuge gelagert sind, und der Kommissionierroboter einen Lasthandhabungsmanipulator mit einem Roboterarm aufweist, der über eine Schnittstelle verfügt, an die das Aufnahmewerkzeug anbringbar und von der das Aufnahmewerkzeug abnehmbar ist, wodurch das angebrachte Aufnahmewerkzeug durch ein anderes Aufnahmewerkzeug aus dem Aufnahmewerkzeug Magazin austauschbar ist. Es wird vorgeschlagen, dass an der Schnittstelle des Roboterarms und oder am Aufnahmewerkzeug Magazin Identifikationssysteme verbaut sind, die eine Unterscheidung der Aufnahmewerkzeuge ermöglichen.</td>\n",
       "    </tr>\n",
       "  </tbody>\n",
       "</table>\n",
       "</div>"
      ]
     },
     "execution_count": 19,
     "metadata": {},
     "output_type": "execute_result"
    }
   ],
   "execution_count": 19
  },
  {
   "cell_type": "code",
   "metadata": {
    "ExecuteTime": {
     "end_time": "2024-05-17T16:42:54.513701Z",
     "start_time": "2024-05-17T16:42:54.498529Z"
    }
   },
   "source": [
    "df[df['text_preproc1'] == ''].info()"
   ],
   "outputs": [
    {
     "name": "stdout",
     "output_type": "stream",
     "text": [
      "<class 'pandas.core.frame.DataFrame'>\n",
      "Int64Index: 0 entries\n",
      "Data columns (total 4 columns):\n",
      " #   Column         Non-Null Count  Dtype \n",
      "---  ------         --------------  ----- \n",
      " 0   id             0 non-null      object\n",
      " 1   pub_year       0 non-null      int64 \n",
      " 2   text           0 non-null      object\n",
      " 3   text_preproc1  0 non-null      object\n",
      "dtypes: int64(1), object(3)\n",
      "memory usage: 0.0+ bytes\n"
     ]
    }
   ],
   "execution_count": 20
  },
  {
   "cell_type": "code",
   "metadata": {
    "ExecuteTime": {
     "end_time": "2024-05-17T16:42:54.544705Z",
     "start_time": "2024-05-17T16:42:54.514701Z"
    }
   },
   "source": [
    "df.drop(columns='text').to_csv(output, index=False)"
   ],
   "outputs": [],
   "execution_count": 21
  }
 ],
 "metadata": {
  "kernelspec": {
   "display_name": "Python 3",
   "language": "python",
   "name": "python3"
  },
  "language_info": {
   "codemirror_mode": {
    "name": "ipython",
    "version": 3
   },
   "file_extension": ".py",
   "mimetype": "text/x-python",
   "name": "python",
   "nbconvert_exporter": "python",
   "pygments_lexer": "ipython3",
   "version": "3.8.19"
  }
 },
 "nbformat": 4,
 "nbformat_minor": 2
}
