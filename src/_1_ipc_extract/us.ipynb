{
 "cells": [
  {
   "cell_type": "code",
   "execution_count": 2,
   "metadata": {},
   "outputs": [],
   "source": [
    "import pandas as pd\n",
    "from pathlib import Path\n",
    "\n",
    "data_folder = str(Path('.') / '../../input_data/us')\n",
    "data_path1 = str(Path(data_folder) / '2022.xls')\n",
    "data_path2 = str(Path(data_folder) / '2023.xls')\n",
    "data_path3 = str(Path(data_folder) / '2024.xls')\n",
    "df1 = pd.read_excel(data_path1, header=1, usecols=['Veröffentlichungs-Nummer', 'IPC-Hauptklasse', 'IPC-Neben-/Indexklassen'])\n",
    "df2 = pd.read_excel(data_path2, header=1, usecols=['Veröffentlichungs-Nummer', 'IPC-Hauptklasse', 'IPC-Neben-/Indexklassen'])\n",
    "df3 = pd.read_excel(data_path3, header=1, usecols=['Veröffentlichungs-Nummer', 'IPC-Hauptklasse', 'IPC-Neben-/Indexklassen'])"
   ]
  },
  {
   "cell_type": "code",
   "execution_count": 3,
   "metadata": {},
   "outputs": [],
   "source": [
    "# concatenate the dataframes\n",
    "df = pd.concat([df1, df2, df3], ignore_index=True)"
   ]
  },
  {
   "cell_type": "code",
   "execution_count": 4,
   "metadata": {},
   "outputs": [],
   "source": [
    "df.rename(columns={'Veröffentlichungs-Nummer': 'id', 'IPC-Hauptklasse': 'ipc_main', 'IPC-Neben-/Indexklassen': 'ipc_sub'}, inplace=True)"
   ]
  },
  {
   "cell_type": "code",
   "execution_count": 5,
   "metadata": {},
   "outputs": [
    {
     "data": {
      "text/html": [
       "<div>\n",
       "<style scoped>\n",
       "    .dataframe tbody tr th:only-of-type {\n",
       "        vertical-align: middle;\n",
       "    }\n",
       "\n",
       "    .dataframe tbody tr th {\n",
       "        vertical-align: top;\n",
       "    }\n",
       "\n",
       "    .dataframe thead th {\n",
       "        text-align: right;\n",
       "    }\n",
       "</style>\n",
       "<table border=\"1\" class=\"dataframe\">\n",
       "  <thead>\n",
       "    <tr style=\"text-align: right;\">\n",
       "      <th></th>\n",
       "      <th>id</th>\n",
       "      <th>ipc_main</th>\n",
       "      <th>ipc_sub</th>\n",
       "    </tr>\n",
       "  </thead>\n",
       "  <tbody>\n",
       "    <tr>\n",
       "      <th>0</th>\n",
       "      <td>WO002022272006A1</td>\n",
       "      <td>A61B 10/02</td>\n",
       "      <td>A61B 17/04 (1968.09), A61L 31/08 (2000.01), A6...</td>\n",
       "    </tr>\n",
       "    <tr>\n",
       "      <th>1</th>\n",
       "      <td>WO002022271811A1</td>\n",
       "      <td>A61H 1/02</td>\n",
       "      <td>B25J 13/08 (1985.01), B25J 9/14 (1985.01)</td>\n",
       "    </tr>\n",
       "    <tr>\n",
       "      <th>2</th>\n",
       "      <td>WO002022271535A1</td>\n",
       "      <td>B25J 9/16</td>\n",
       "      <td>NaN</td>\n",
       "    </tr>\n",
       "    <tr>\n",
       "      <th>3</th>\n",
       "      <td>WO002022271365A1</td>\n",
       "      <td>G06F 3/01</td>\n",
       "      <td>NaN</td>\n",
       "    </tr>\n",
       "    <tr>\n",
       "      <th>4</th>\n",
       "      <td>WO002022271354A1</td>\n",
       "      <td>A47L 11/24</td>\n",
       "      <td>A47L 11/28 (1968.09), A47L 11/40 (1968.09)</td>\n",
       "    </tr>\n",
       "  </tbody>\n",
       "</table>\n",
       "</div>"
      ],
      "text/plain": [
       "                 id    ipc_main  \\\n",
       "0  WO002022272006A1  A61B 10/02   \n",
       "1  WO002022271811A1   A61H 1/02   \n",
       "2  WO002022271535A1   B25J 9/16   \n",
       "3  WO002022271365A1   G06F 3/01   \n",
       "4  WO002022271354A1  A47L 11/24   \n",
       "\n",
       "                                             ipc_sub  \n",
       "0  A61B 17/04 (1968.09), A61L 31/08 (2000.01), A6...  \n",
       "1          B25J 13/08 (1985.01), B25J 9/14 (1985.01)  \n",
       "2                                                NaN  \n",
       "3                                                NaN  \n",
       "4         A47L 11/28 (1968.09), A47L 11/40 (1968.09)  "
      ]
     },
     "execution_count": 5,
     "metadata": {},
     "output_type": "execute_result"
    }
   ],
   "source": [
    "df.head()"
   ]
  },
  {
   "cell_type": "code",
   "execution_count": 6,
   "metadata": {},
   "outputs": [],
   "source": [
    "test_ipc = df['ipc_main'].tolist()"
   ]
  },
  {
   "cell_type": "code",
   "execution_count": 7,
   "metadata": {},
   "outputs": [
    {
     "data": {
      "text/plain": [
       "'A61B 10/02'"
      ]
     },
     "execution_count": 7,
     "metadata": {},
     "output_type": "execute_result"
    }
   ],
   "source": [
    "test_ipc[0]"
   ]
  },
  {
   "cell_type": "code",
   "execution_count": 8,
   "metadata": {},
   "outputs": [
    {
     "ename": "ValueError",
     "evalue": "",
     "output_type": "error",
     "traceback": [
      "\u001b[1;31m---------------------------------------------------------------------------\u001b[0m",
      "\u001b[1;31mValueError\u001b[0m                                Traceback (most recent call last)",
      "Cell \u001b[1;32mIn[8], line 3\u001b[0m\n\u001b[0;32m      1\u001b[0m \u001b[38;5;28;01mfrom\u001b[39;00m \u001b[38;5;21;01mwipo_ipc\u001b[39;00m \u001b[38;5;28;01mimport\u001b[39;00m Ipc\n\u001b[1;32m----> 3\u001b[0m my_ipc \u001b[38;5;241m=\u001b[39m \u001b[43mIpc\u001b[49m\u001b[43m(\u001b[49m\u001b[38;5;124;43m\"\u001b[39;49m\u001b[38;5;124;43mH3\u001b[39;49m\u001b[38;5;124;43m\"\u001b[39;49m\u001b[43m)\u001b[49m\n",
      "File \u001b[1;32mc:\\Users\\paul-\\anaconda3\\envs\\ml_angew_programm\\lib\\site-packages\\wipo_ipc\\ipc.py:20\u001b[0m, in \u001b[0;36mIpc.__init__\u001b[1;34m(self, code)\u001b[0m\n\u001b[0;32m     18\u001b[0m \u001b[38;5;28;01mdef\u001b[39;00m \u001b[38;5;21m__init__\u001b[39m(\u001b[38;5;28mself\u001b[39m, code):\n\u001b[0;32m     19\u001b[0m     \u001b[38;5;28;01mif\u001b[39;00m code \u001b[38;5;129;01mnot\u001b[39;00m \u001b[38;5;129;01min\u001b[39;00m ipc_description_lookup:\n\u001b[1;32m---> 20\u001b[0m         \u001b[38;5;28;01mraise\u001b[39;00m \u001b[38;5;167;01mValueError\u001b[39;00m\n\u001b[0;32m     22\u001b[0m     \u001b[38;5;28mself\u001b[39m\u001b[38;5;241m.\u001b[39mcode \u001b[38;5;241m=\u001b[39m code\n\u001b[0;32m     23\u001b[0m     \u001b[38;5;28mself\u001b[39m\u001b[38;5;241m.\u001b[39mhuman_code \u001b[38;5;241m=\u001b[39m convert_to_human(\u001b[38;5;28mself\u001b[39m\u001b[38;5;241m.\u001b[39mcode)\n",
      "\u001b[1;31mValueError\u001b[0m: "
     ]
    }
   ],
   "source": [
    "from wipo_ipc import Ipc\n",
    "\n",
    "my_ipc = Ipc(\"H3\")\n"
   ]
  },
  {
   "cell_type": "code",
   "execution_count": 72,
   "metadata": {},
   "outputs": [
    {
     "ename": "AttributeError",
     "evalue": "'NoneType' object has no attribute 'description'",
     "output_type": "error",
     "traceback": [
      "\u001b[1;31m---------------------------------------------------------------------------\u001b[0m",
      "\u001b[1;31mAttributeError\u001b[0m                            Traceback (most recent call last)",
      "Cell \u001b[1;32mIn[72], line 1\u001b[0m\n\u001b[1;32m----> 1\u001b[0m \u001b[43mmy_ipc\u001b[49m\u001b[38;5;241;43m.\u001b[39;49m\u001b[43mclasse\u001b[49m\u001b[38;5;241;43m.\u001b[39;49m\u001b[43mdescription\u001b[49m\n",
      "\u001b[1;31mAttributeError\u001b[0m: 'NoneType' object has no attribute 'description'"
     ]
    }
   ],
   "source": [
    "my_ipc.classe.description"
   ]
  },
  {
   "cell_type": "code",
   "execution_count": 71,
   "metadata": {},
   "outputs": [
    {
     "data": {
      "text/plain": [
       "ipc_part(code='H', description='ELECTRICITY')"
      ]
     },
     "execution_count": 71,
     "metadata": {},
     "output_type": "execute_result"
    }
   ],
   "source": [
    "my_ipc.section"
   ]
  },
  {
   "cell_type": "code",
   "execution_count": 22,
   "metadata": {},
   "outputs": [],
   "source": [
    "mask_ipcnone = df['ipc_main'].isnull()\n",
    "mask_subnone = df['ipc_sub'].isnull()\n",
    "\n",
    "# set ipc to content of sub ipc if main ipc is missing\n",
    "df.loc[mask_ipcnone, 'ipc_main'] = df.loc[mask_ipcnone, 'ipc_sub']"
   ]
  },
  {
   "cell_type": "code",
   "execution_count": 25,
   "metadata": {},
   "outputs": [],
   "source": [
    "mask_ipcnone = df['ipc_main'].isnull()\n",
    "df['ipc_main'].fillna('', inplace=True)"
   ]
  },
  {
   "cell_type": "code",
   "execution_count": 97,
   "metadata": {},
   "outputs": [],
   "source": [
    "def get_description(ipc):\n",
    "        try:\n",
    "            if ipc == '':\n",
    "                return ''\n",
    "            return Ipc(ipc).classe.description\n",
    "        except ValueError:\n",
    "            raise\n",
    "        except AttributeError as e:\n",
    "            print(f\"attr err on {ipc}\")\n",
    "            return Ipc(ipc).section.description\n",
    "\n",
    "def ipc_to_description(ipc):\n",
    "    if ipc == '':\n",
    "        return ''\n",
    "    ipc = ipc.split()[0].strip()\n",
    "    i = 0\n",
    "    while i < 4:\n",
    "        try:\n",
    "            return get_description(ipc)\n",
    "        except:\n",
    "            print(f\"err on {ipc}\")\n",
    "            ipc = ipc[:-1]\n",
    "        i += 1\n",
    "    return ''"
   ]
  },
  {
   "cell_type": "code",
   "execution_count": 98,
   "metadata": {},
   "outputs": [
    {
     "name": "stdout",
     "output_type": "stream",
     "text": [
      "err on G06V\n",
      "err on G06V\n",
      "err on G06V\n",
      "err on G06V\n",
      "err on G06V\n",
      "err on G06V\n",
      "err on G06V\n",
      "err on G06V\n",
      "err on G06V\n",
      "err on G06V\n",
      "err on G06V\n",
      "err on G06V\n",
      "err on G06V\n",
      "err on G06V\n",
      "err on G06V\n",
      "err on G06V\n",
      "err on G06V\n",
      "err on G06V\n",
      "err on G06V\n",
      "err on G06V\n",
      "err on G06V\n",
      "err on G06V\n",
      "err on G06V\n",
      "err on G06V\n",
      "err on G06V\n",
      "err on G06V\n",
      "err on G06V\n",
      "err on G06V\n",
      "err on G06V\n",
      "err on G06V\n",
      "err on B64U\n",
      "err on G06V\n",
      "err on G06V\n",
      "err on G06V\n",
      "err on H10N\n",
      "err on H10\n",
      "err on H1\n",
      "attr err on H\n",
      "err on G06V\n",
      "err on G06V\n",
      "err on B64U\n",
      "err on H10N\n",
      "err on H10\n",
      "err on H1\n",
      "attr err on H\n",
      "err on B64U\n",
      "err on G06V\n",
      "err on G06V\n",
      "err on G06V\n",
      "err on B64U\n",
      "err on B64U\n",
      "err on B64U\n",
      "err on G06V\n",
      "err on G06V\n",
      "err on G06V\n",
      "err on G06V\n",
      "err on G06V\n",
      "err on G06V\n",
      "err on G06V\n",
      "err on G06V\n",
      "err on B64U\n",
      "err on G06V\n",
      "err on H10N\n",
      "err on H10\n",
      "err on H1\n",
      "attr err on H\n",
      "err on G06V\n",
      "err on G06V\n",
      "err on G06V\n",
      "err on G06V\n",
      "err on G06V\n",
      "err on G06V\n",
      "err on G06V\n",
      "err on G06V\n",
      "err on G06V\n",
      "err on H10N\n",
      "err on H10\n",
      "err on H1\n",
      "attr err on H\n",
      "err on H10N\n",
      "err on H10\n",
      "err on H1\n",
      "attr err on H\n",
      "err on G06V\n",
      "err on G06V\n",
      "err on G06V\n",
      "err on G06V\n",
      "err on G06V\n",
      "err on B64U\n",
      "err on G06V\n",
      "err on G06V\n",
      "err on G06V\n",
      "err on G06V\n",
      "err on G06V\n",
      "err on G06V\n",
      "err on G06V\n",
      "err on G06V\n",
      "err on G06V\n",
      "err on G06V\n",
      "err on G06V\n",
      "err on G06V\n",
      "err on B64U\n",
      "err on B64U\n",
      "err on G06V\n",
      "err on G06V\n",
      "err on G06V\n",
      "err on G06V\n",
      "err on G06V\n",
      "err on B64U\n",
      "err on G06V\n",
      "err on G06V\n",
      "err on G06V\n",
      "err on G06V\n",
      "err on G06V\n",
      "err on B64U\n",
      "err on B64U\n",
      "err on G06V\n",
      "err on G06V\n",
      "err on B64U\n"
     ]
    }
   ],
   "source": [
    "df['ipc'] = df['ipc_main'].apply(ipc_to_description)"
   ]
  },
  {
   "cell_type": "code",
   "execution_count": 99,
   "metadata": {},
   "outputs": [
    {
     "data": {
      "text/html": [
       "<div>\n",
       "<style scoped>\n",
       "    .dataframe tbody tr th:only-of-type {\n",
       "        vertical-align: middle;\n",
       "    }\n",
       "\n",
       "    .dataframe tbody tr th {\n",
       "        vertical-align: top;\n",
       "    }\n",
       "\n",
       "    .dataframe thead th {\n",
       "        text-align: right;\n",
       "    }\n",
       "</style>\n",
       "<table border=\"1\" class=\"dataframe\">\n",
       "  <thead>\n",
       "    <tr style=\"text-align: right;\">\n",
       "      <th></th>\n",
       "      <th>id</th>\n",
       "      <th>ipc_main</th>\n",
       "      <th>ipc_sub</th>\n",
       "      <th>ipc</th>\n",
       "    </tr>\n",
       "  </thead>\n",
       "  <tbody>\n",
       "    <tr>\n",
       "      <th>0</th>\n",
       "      <td>WO002022272006A1</td>\n",
       "      <td>A61B 10/02</td>\n",
       "      <td>A61B 17/04 (1968.09), A61L 31/08 (2000.01), A6...</td>\n",
       "      <td>MEDICAL OR VETERINARY SCIENCE; HYGIENE</td>\n",
       "    </tr>\n",
       "    <tr>\n",
       "      <th>1</th>\n",
       "      <td>WO002022271811A1</td>\n",
       "      <td>A61H 1/02</td>\n",
       "      <td>B25J 13/08 (1985.01), B25J 9/14 (1985.01)</td>\n",
       "      <td>MEDICAL OR VETERINARY SCIENCE; HYGIENE</td>\n",
       "    </tr>\n",
       "    <tr>\n",
       "      <th>2</th>\n",
       "      <td>WO002022271535A1</td>\n",
       "      <td>B25J 9/16</td>\n",
       "      <td>NaN</td>\n",
       "      <td>HAND TOOLS; PORTABLE POWER-DRIVEN TOOLS; HANDL...</td>\n",
       "    </tr>\n",
       "    <tr>\n",
       "      <th>3</th>\n",
       "      <td>WO002022271365A1</td>\n",
       "      <td>G06F 3/01</td>\n",
       "      <td>NaN</td>\n",
       "      <td>COMPUTING; CALCULATING; COUNTING</td>\n",
       "    </tr>\n",
       "    <tr>\n",
       "      <th>4</th>\n",
       "      <td>WO002022271354A1</td>\n",
       "      <td>A47L 11/24</td>\n",
       "      <td>A47L 11/28 (1968.09), A47L 11/40 (1968.09)</td>\n",
       "      <td>FURNITURE; DOMESTIC ARTICLES OR APPLIANCES; CO...</td>\n",
       "    </tr>\n",
       "  </tbody>\n",
       "</table>\n",
       "</div>"
      ],
      "text/plain": [
       "                 id    ipc_main  \\\n",
       "0  WO002022272006A1  A61B 10/02   \n",
       "1  WO002022271811A1   A61H 1/02   \n",
       "2  WO002022271535A1   B25J 9/16   \n",
       "3  WO002022271365A1   G06F 3/01   \n",
       "4  WO002022271354A1  A47L 11/24   \n",
       "\n",
       "                                             ipc_sub  \\\n",
       "0  A61B 17/04 (1968.09), A61L 31/08 (2000.01), A6...   \n",
       "1          B25J 13/08 (1985.01), B25J 9/14 (1985.01)   \n",
       "2                                                NaN   \n",
       "3                                                NaN   \n",
       "4         A47L 11/28 (1968.09), A47L 11/40 (1968.09)   \n",
       "\n",
       "                                                 ipc  \n",
       "0             MEDICAL OR VETERINARY SCIENCE; HYGIENE  \n",
       "1             MEDICAL OR VETERINARY SCIENCE; HYGIENE  \n",
       "2  HAND TOOLS; PORTABLE POWER-DRIVEN TOOLS; HANDL...  \n",
       "3                   COMPUTING; CALCULATING; COUNTING  \n",
       "4  FURNITURE; DOMESTIC ARTICLES OR APPLIANCES; CO...  "
      ]
     },
     "execution_count": 99,
     "metadata": {},
     "output_type": "execute_result"
    }
   ],
   "source": [
    "df.head()"
   ]
  },
  {
   "cell_type": "code",
   "execution_count": 100,
   "metadata": {},
   "outputs": [
    {
     "data": {
      "text/html": [
       "<div>\n",
       "<style scoped>\n",
       "    .dataframe tbody tr th:only-of-type {\n",
       "        vertical-align: middle;\n",
       "    }\n",
       "\n",
       "    .dataframe tbody tr th {\n",
       "        vertical-align: top;\n",
       "    }\n",
       "\n",
       "    .dataframe thead th {\n",
       "        text-align: right;\n",
       "    }\n",
       "</style>\n",
       "<table border=\"1\" class=\"dataframe\">\n",
       "  <thead>\n",
       "    <tr style=\"text-align: right;\">\n",
       "      <th></th>\n",
       "      <th>id</th>\n",
       "      <th>ipc_main</th>\n",
       "      <th>ipc_sub</th>\n",
       "      <th>ipc</th>\n",
       "    </tr>\n",
       "  </thead>\n",
       "  <tbody>\n",
       "  </tbody>\n",
       "</table>\n",
       "</div>"
      ],
      "text/plain": [
       "Empty DataFrame\n",
       "Columns: [id, ipc_main, ipc_sub, ipc]\n",
       "Index: []"
      ]
     },
     "execution_count": 100,
     "metadata": {},
     "output_type": "execute_result"
    }
   ],
   "source": [
    "df[(df.ipc == '') & (df.ipc_main != '')].head()"
   ]
  },
  {
   "cell_type": "code",
   "execution_count": 101,
   "metadata": {},
   "outputs": [
    {
     "data": {
      "text/plain": [
       "array(['MEDICAL OR VETERINARY SCIENCE; HYGIENE',\n",
       "       'HAND TOOLS; PORTABLE POWER-DRIVEN TOOLS; HANDLES FOR HAND IMPLEMENTS; WORKSHOP EQUIPMENT; MANIPULATORS',\n",
       "       'COMPUTING; CALCULATING; COUNTING',\n",
       "       'FURNITURE; DOMESTIC ARTICLES OR APPLIANCES; COFFEE MILLS; SPICE MILLS; SUCTION CLEANERS IN GENERAL',\n",
       "       'OPTICS', 'ELECTRIC COMMUNICATION TECHNIQUE',\n",
       "       'BASIC ELECTRIC ELEMENTS',\n",
       "       'INFORMATION AND COMMUNICATION TECHNOLOGY [ICT] SPECIALLY ADAPTED FOR SPECIFIC APPLICATION FIELDS',\n",
       "       'SIGNALLING', 'CONTROLLING; REGULATING', 'MEASURING; TESTING',\n",
       "       'ENGINEERING ELEMENTS OR UNITS; GENERAL MEASURES FOR PRODUCING AND MAINTAINING EFFECTIVE FUNCTIONING OF MACHINES OR INSTALLATIONS; THERMAL INSULATION IN GENERAL',\n",
       "       'FLUID-PRESSURE ACTUATORS; HYDRAULICS OR PNEUMATICS IN GENERAL',\n",
       "       'CONVEYING; PACKING; STORING; HANDLING THIN OR FILAMENTARY MATERIAL',\n",
       "       'SHIPS OR OTHER WATERBORNE VESSELS; RELATED EQUIPMENT',\n",
       "       'LAND VEHICLES FOR TRAVELLING OTHERWISE THAN ON RAILS', 'RAILWAYS',\n",
       "       'VEHICLES IN GENERAL',\n",
       "       'WORKING OF PLASTICS; WORKING OF SUBSTANCES IN A PLASTIC STATE IN GENERAL',\n",
       "       'CLEANING', 'SPORTS; GAMES; AMUSEMENTS',\n",
       "       'AGRICULTURE; FORESTRY; ANIMAL HUSBANDRY; HUNTING; TRAPPING; FISHING',\n",
       "       '', 'GENERATION, CONVERSION, OR DISTRIBUTION OF ELECTRIC POWER',\n",
       "       'EDUCATING; CRYPTOGRAPHY; DISPLAY; ADVERTISING; SEALS',\n",
       "       'DOORS, WINDOWS, SHUTTERS, OR ROLLER BLINDS, IN GENERAL; LADDERS',\n",
       "       'WEAVING', 'LAYERED PRODUCTS', 'GRINDING; POLISHING',\n",
       "       'SEPARATING SOLIDS FROM SOLIDS; SORTING',\n",
       "       'BIOCHEMISTRY; BEER; SPIRITS; WINE; VINEGAR; MICROBIOLOGY; ENZYMOLOGY; MUTATION OR GENETIC ENGINEERING',\n",
       "       'MACHINE TOOLS; METAL-WORKING NOT OTHERWISE PROVIDED FOR',\n",
       "       'CONSTRUCTION OF ROADS, RAILWAYS, OR BRIDGES',\n",
       "       'COATING METALLIC MATERIAL; COATING MATERIAL WITH METALLIC MATERIAL; CHEMICAL SURFACE TREATMENT; DIFFUSION TREATMENT OF METALLIC MATERIAL; COATING BY VACUUM EVAPORATION, BY SPUTTERING, BY ION IMPLANTATION OR BY CHEMICAL VAPOUR DEPOSITION, IN GENERAL; INHIBITING CORROSION OF METALLIC MATERIAL OR INCRUSTATION IN GENERAL',\n",
       "       'OPENING OR CLOSING BOTTLES, JARS OR SIMILAR CONTAINERS; LIQUID HANDLING',\n",
       "       'HOISTING; LIFTING; HAULING', 'AIRCRAFT; AVIATION; COSMONAUTICS',\n",
       "       'EARTH OR ROCK DRILLING; MINING', 'GLASS; MINERAL OR SLAG WOOL',\n",
       "       'SPRAYING OR ATOMISING IN GENERAL; APPLYING LIQUIDS OR OTHER FLUENT MATERIALS TO SURFACES, IN GENERAL',\n",
       "       'BUILDING',\n",
       "       'REFRIGERATION OR COOLING; COMBINED HEATING AND REFRIGERATION SYSTEMS; HEAT PUMP SYSTEMS; MANUFACTURE OR STORAGE OF ICE; LIQUEFACTION OR SOLIDIFICATION OF GASES',\n",
       "       'HEATING; RANGES; VENTILATING',\n",
       "       'ORGANIC MACROMOLECULAR COMPOUNDS; THEIR PREPARATION OR CHEMICAL WORKING-UP; COMPOSITIONS BASED THEREON',\n",
       "       'MUSICAL INSTRUMENTS; ACOUSTICS',\n",
       "       'MECHANICAL METAL-WORKING WITHOUT ESSENTIALLY REMOVING MATERIAL; PUNCHING METAL',\n",
       "       'PHYSICAL OR CHEMICAL PROCESSES OR APPARATUS IN GENERAL',\n",
       "       'INFORMATION STORAGE',\n",
       "       'HYDRAULIC ENGINEERING; FOUNDATIONS; SOIL-SHIFTING',\n",
       "       'PRINTING; LINING MACHINES; TYPEWRITERS; STAMPS',\n",
       "       'ADDITIVE MANUFACTURING TECHNOLOGY', 'CASTING; POWDER METALLURGY',\n",
       "       'FOODS OR FOODSTUFFS; THEIR TREATMENT, NOT COVERED BY OTHER CLASSES',\n",
       "       'PHOTOGRAPHY; CINEMATOGRAPHY; ANALOGOUS TECHNIQUES USING WAVES OTHER THAN OPTICAL WAVES; ELECTROGRAPHY; HOLOGRAPHY',\n",
       "       'SEWING; EMBROIDERING; TUFTING', 'LIFE-SAVING; FIRE-FIGHTING',\n",
       "       'TREATMENT OF TEXTILES OR THE LIKE; LAUNDERING; FLEXIBLE MATERIALS NOT OTHERWISE PROVIDED FOR',\n",
       "       'ELECTRIC TECHNIQUES NOT OTHERWISE PROVIDED FOR',\n",
       "       'LOCKS; KEYS; WINDOW OR DOOR FITTINGS; SAFES', 'CHECKING-DEVICES',\n",
       "       'CRYSTAL GROWTH', 'WEARING APPAREL', 'WEAPONS',\n",
       "       'HAND CUTTING TOOLS; CUTTING; SEVERING',\n",
       "       \"TOBACCO; CIGARS; CIGARETTES; SMOKERS' REQUISITES\",\n",
       "       'STORING OR DISTRIBUTING GASES OR LIQUIDS',\n",
       "       'BUTCHERING; MEAT TREATMENT; PROCESSING POULTRY OR FISH',\n",
       "       'HOROLOGY',\n",
       "       'ELECTROLYTIC OR ELECTROPHORETIC PROCESSES; APPARATUS THEREFOR',\n",
       "       'FURNACES; KILNS; OVENS; RETORTS',\n",
       "       'MACHINES OR ENGINES IN GENERAL; ENGINE PLANTS IN GENERAL; STEAM ENGINES',\n",
       "       'DRYING', 'PAPER-MAKING; PRODUCTION OF CELLULOSE',\n",
       "       'DYES; PAINTS; POLISHES; NATURAL RESINS; ADHESIVES; COMPOSITIONS NOT OTHERWISE PROVIDED FOR; APPLICATIONS OF MATERIALS NOT OTHERWISE PROVIDED FOR',\n",
       "       'PETROLEUM, GAS OR COKE INDUSTRIES; TECHNICAL GASES CONTAINING CARBON MONOXIDE; FUELS; LUBRICANTS; PEAT',\n",
       "       'HEAT EXCHANGE IN GENERAL', 'LIGHTING',\n",
       "       'DISPOSAL OF SOLID WASTE; RECLAMATION OF CONTAMINATED SOIL',\n",
       "       'BRUSHWARE', 'NUCLEAR PHYSICS; NUCLEAR ENGINEERING', 'ELECTRICITY',\n",
       "       'POSITIVE-DISPLACEMENT MACHINES FOR LIQUIDS; PUMPS FOR LIQUIDS OR ELASTIC FLUIDS',\n",
       "       'NATURAL OR MAN-MADE THREADS OR FIBRES; SPINNING',\n",
       "       'HAND OR TRAVELLING ARTICLES',\n",
       "       'MAKING ARTICLES OF PAPER, CARDBOARD OR MATERIAL WORKED IN A MANNER ANALOGOUS TO PAPER; WORKING PAPER, CARDBOARD OR MATERIAL WORKED IN A MANNER ANALOGOUS TO PAPER',\n",
       "       'CENTRIFUGAL APPARATUS OR MACHINES FOR CARRYING-OUT PHYSICAL OR CHEMICAL PROCESSES',\n",
       "       'ROPES; CABLES OTHER THAN ELECTRIC', 'BASIC ELECTRONIC CIRCUITRY',\n",
       "       'BRAIDING; LACE-MAKING; KNITTING; TRIMMINGS; NON-WOVEN FABRICS',\n",
       "       'WORKING CEMENT, CLAY, OR STONE', 'AMMUNITION; BLASTING',\n",
       "       'COMBUSTION ENGINES; HOT-GAS OR COMBUSTION-PRODUCT ENGINE PLANTS',\n",
       "       'METALLURGY OF IRON',\n",
       "       'CEMENTS; CONCRETE; ARTIFICIAL STONE; CERAMICS; REFRACTORIES',\n",
       "       'MACHINES OR ENGINES FOR LIQUIDS; WIND, SPRING, OR WEIGHT MOTORS; PRODUCING MECHANICAL POWER OR A REACTIVE PROPULSIVE THRUST, NOT OTHERWISE PROVIDED FOR',\n",
       "       'BOOKBINDING; ALBUMS; FILES; SPECIAL PRINTED MATTER',\n",
       "       'TREATMENT OF WATER, WASTE WATER, SEWAGE, OR SLUDGE',\n",
       "       'SEPARATION OF SOLID MATERIALS USING LIQUIDS OR USING PNEUMATIC TABLES OR JIGS; MAGNETIC OR ELECTROSTATIC SEPARATION OF SOLID MATERIALS FROM SOLID MATERIALS OR FLUIDS; SEPARATION BY HIGH-VOLTAGE ELECTRIC FIELDS',\n",
       "       'GENERATING OR TRANSMITTING MECHANICAL VIBRATIONS IN GENERAL',\n",
       "       'ORGANIC CHEMISTRY'], dtype=object)"
      ]
     },
     "execution_count": 101,
     "metadata": {},
     "output_type": "execute_result"
    }
   ],
   "source": [
    "df.ipc.unique()"
   ]
  },
  {
   "cell_type": "code",
   "execution_count": 102,
   "metadata": {},
   "outputs": [],
   "source": [
    "df[['id', 'ipc']].to_csv('us_ipc.csv', index=False)"
   ]
  }
 ],
 "metadata": {
  "kernelspec": {
   "display_name": "ml_angew_programm",
   "language": "python",
   "name": "python3"
  },
  "language_info": {
   "codemirror_mode": {
    "name": "ipython",
    "version": 3
   },
   "file_extension": ".py",
   "mimetype": "text/x-python",
   "name": "python",
   "nbconvert_exporter": "python",
   "pygments_lexer": "ipython3",
   "version": "3.8.19"
  }
 },
 "nbformat": 4,
 "nbformat_minor": 2
}
